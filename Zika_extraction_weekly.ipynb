{
 "cells": [
  {
   "cell_type": "markdown",
   "metadata": {},
   "source": [
    "#### This script aim to extract the zika cases in Brazil. Especifically:  the number of reported cases per epidemiological week, from 2015 to 2018, for each municipality of Brazil."
   ]
  },
  {
   "cell_type": "code",
   "execution_count": 1,
   "metadata": {},
   "outputs": [],
   "source": [
    "import pandas as pd\n",
    "from pandas import DataFrame\n",
    "import numpy as np\n",
    "import csv\n",
    "import sys\n",
    "import glob"
   ]
  },
  {
   "cell_type": "code",
   "execution_count": 2,
   "metadata": {},
   "outputs": [],
   "source": [
    "# get data file names\n",
    "path = r'C:\\Users\\juliane.oliveira\\Desktop\\Datalake\\SINAN\\Zika'\n",
    "filenames = glob.glob(path + \"/*.csv\")"
   ]
  },
  {
   "cell_type": "code",
   "execution_count": 3,
   "metadata": {},
   "outputs": [
    {
     "data": {
      "text/plain": [
       "['C:\\\\Users\\\\juliane.oliveira\\\\Desktop\\\\Datalake\\\\SINAN\\\\Zika\\\\ZIKA2015.csv',\n",
       " 'C:\\\\Users\\\\juliane.oliveira\\\\Desktop\\\\Datalake\\\\SINAN\\\\Zika\\\\ZIKA2016.csv',\n",
       " 'C:\\\\Users\\\\juliane.oliveira\\\\Desktop\\\\Datalake\\\\SINAN\\\\Zika\\\\ZIKA2017.csv',\n",
       " 'C:\\\\Users\\\\juliane.oliveira\\\\Desktop\\\\Datalake\\\\SINAN\\\\Zika\\\\ZIKA2018.csv']"
      ]
     },
     "execution_count": 3,
     "metadata": {},
     "output_type": "execute_result"
    }
   ],
   "source": [
    "filenames"
   ]
  },
  {
   "cell_type": "code",
   "execution_count": 4,
   "metadata": {},
   "outputs": [],
   "source": [
    "lst_df = []\n",
    "for f in filenames:\n",
    "    df = pd.read_csv(f, low_memory = False, encoding=\"iso-8859-1\")\n",
    "    df = df.filter(['tp_not','id_agravo', 'cs_sexo',\n",
    "                       'cs_gestant','cs_raca','cs_escol_n',\n",
    "                      'id_mn_resi','dt_notifi','sem_not',\n",
    "                      'sem_pri','dt_sin_pri','nu_idade_n',\n",
    "                      'classi_fin','criterio'], axis=1)\n",
    "    lst_df.append(df)"
   ]
  },
  {
   "cell_type": "code",
   "execution_count": 5,
   "metadata": {},
   "outputs": [],
   "source": [
    "#df1 = pd.read_csv(filenames[0], low_memory = False, encoding=\"iso-8859-1\")\n",
    "#df1.columns"
   ]
  },
  {
   "cell_type": "code",
   "execution_count": 6,
   "metadata": {
    "scrolled": true
   },
   "outputs": [],
   "source": [
    "SINAN_zika = pd.concat(lst_df)"
   ]
  },
  {
   "cell_type": "code",
   "execution_count": 7,
   "metadata": {},
   "outputs": [],
   "source": [
    "SINAN_zika.to_csv('SINAN_zika.csv')"
   ]
  },
  {
   "cell_type": "code",
   "execution_count": 7,
   "metadata": {},
   "outputs": [
    {
     "data": {
      "text/html": [
       "<div>\n",
       "<style scoped>\n",
       "    .dataframe tbody tr th:only-of-type {\n",
       "        vertical-align: middle;\n",
       "    }\n",
       "\n",
       "    .dataframe tbody tr th {\n",
       "        vertical-align: top;\n",
       "    }\n",
       "\n",
       "    .dataframe thead th {\n",
       "        text-align: right;\n",
       "    }\n",
       "</style>\n",
       "<table border=\"1\" class=\"dataframe\">\n",
       "  <thead>\n",
       "    <tr style=\"text-align: right;\">\n",
       "      <th></th>\n",
       "      <th>tp_not</th>\n",
       "      <th>id_agravo</th>\n",
       "      <th>cs_sexo</th>\n",
       "      <th>cs_gestant</th>\n",
       "      <th>cs_raca</th>\n",
       "      <th>cs_escol_n</th>\n",
       "      <th>id_mn_resi</th>\n",
       "      <th>sem_not</th>\n",
       "      <th>sem_pri</th>\n",
       "      <th>dt_sin_pri</th>\n",
       "      <th>nu_idade_n</th>\n",
       "      <th>classi_fin</th>\n",
       "      <th>criterio</th>\n",
       "    </tr>\n",
       "  </thead>\n",
       "  <tbody>\n",
       "    <tr>\n",
       "      <th>0</th>\n",
       "      <td>2.0</td>\n",
       "      <td>A928</td>\n",
       "      <td>F</td>\n",
       "      <td>5.0</td>\n",
       "      <td>4.0</td>\n",
       "      <td>6.0</td>\n",
       "      <td>510610.0</td>\n",
       "      <td>201453.0</td>\n",
       "      <td>201453.0</td>\n",
       "      <td>2015-01-02</td>\n",
       "      <td>4022.0</td>\n",
       "      <td>2.0</td>\n",
       "      <td>2.0</td>\n",
       "    </tr>\n",
       "    <tr>\n",
       "      <th>1</th>\n",
       "      <td>2.0</td>\n",
       "      <td>A928</td>\n",
       "      <td>F</td>\n",
       "      <td>2.0</td>\n",
       "      <td>9.0</td>\n",
       "      <td>9.0</td>\n",
       "      <td>330490.0</td>\n",
       "      <td>201453.0</td>\n",
       "      <td>201453.0</td>\n",
       "      <td>2015-01-03</td>\n",
       "      <td>4020.0</td>\n",
       "      <td>2.0</td>\n",
       "      <td>1.0</td>\n",
       "    </tr>\n",
       "    <tr>\n",
       "      <th>2</th>\n",
       "      <td>2.0</td>\n",
       "      <td>A928</td>\n",
       "      <td>F</td>\n",
       "      <td>5.0</td>\n",
       "      <td>4.0</td>\n",
       "      <td>6.0</td>\n",
       "      <td>290980.0</td>\n",
       "      <td>201501.0</td>\n",
       "      <td>201501.0</td>\n",
       "      <td>2015-01-04</td>\n",
       "      <td>4024.0</td>\n",
       "      <td>8.0</td>\n",
       "      <td>NaN</td>\n",
       "    </tr>\n",
       "    <tr>\n",
       "      <th>3</th>\n",
       "      <td>2.0</td>\n",
       "      <td>A928</td>\n",
       "      <td>M</td>\n",
       "      <td>6.0</td>\n",
       "      <td>4.0</td>\n",
       "      <td>8.0</td>\n",
       "      <td>510340.0</td>\n",
       "      <td>201501.0</td>\n",
       "      <td>201453.0</td>\n",
       "      <td>2015-01-01</td>\n",
       "      <td>4029.0</td>\n",
       "      <td>8.0</td>\n",
       "      <td>NaN</td>\n",
       "    </tr>\n",
       "    <tr>\n",
       "      <th>4</th>\n",
       "      <td>2.0</td>\n",
       "      <td>A928</td>\n",
       "      <td>F</td>\n",
       "      <td>3.0</td>\n",
       "      <td>4.0</td>\n",
       "      <td>0.0</td>\n",
       "      <td>251480.0</td>\n",
       "      <td>201501.0</td>\n",
       "      <td>201453.0</td>\n",
       "      <td>2015-01-03</td>\n",
       "      <td>4026.0</td>\n",
       "      <td>8.0</td>\n",
       "      <td>NaN</td>\n",
       "    </tr>\n",
       "  </tbody>\n",
       "</table>\n",
       "</div>"
      ],
      "text/plain": [
       "   tp_not id_agravo cs_sexo  cs_gestant  cs_raca  cs_escol_n  id_mn_resi  \\\n",
       "0     2.0      A928       F         5.0      4.0         6.0    510610.0   \n",
       "1     2.0      A928       F         2.0      9.0         9.0    330490.0   \n",
       "2     2.0      A928       F         5.0      4.0         6.0    290980.0   \n",
       "3     2.0      A928       M         6.0      4.0         8.0    510340.0   \n",
       "4     2.0      A928       F         3.0      4.0         0.0    251480.0   \n",
       "\n",
       "    sem_not   sem_pri  dt_sin_pri  nu_idade_n  classi_fin  criterio  \n",
       "0  201453.0  201453.0  2015-01-02      4022.0         2.0       2.0  \n",
       "1  201453.0  201453.0  2015-01-03      4020.0         2.0       1.0  \n",
       "2  201501.0  201501.0  2015-01-04      4024.0         8.0       NaN  \n",
       "3  201501.0  201453.0  2015-01-01      4029.0         8.0       NaN  \n",
       "4  201501.0  201453.0  2015-01-03      4026.0         8.0       NaN  "
      ]
     },
     "execution_count": 7,
     "metadata": {},
     "output_type": "execute_result"
    }
   ],
   "source": [
    "SINAN_zika.head()"
   ]
  },
  {
   "cell_type": "code",
   "execution_count": null,
   "metadata": {},
   "outputs": [],
   "source": []
  }
 ],
 "metadata": {
  "kernelspec": {
   "display_name": "Python 3",
   "language": "python",
   "name": "python3"
  },
  "language_info": {
   "codemirror_mode": {
    "name": "ipython",
    "version": 3
   },
   "file_extension": ".py",
   "mimetype": "text/x-python",
   "name": "python",
   "nbconvert_exporter": "python",
   "pygments_lexer": "ipython3",
   "version": "3.6.5"
  }
 },
 "nbformat": 4,
 "nbformat_minor": 2
}

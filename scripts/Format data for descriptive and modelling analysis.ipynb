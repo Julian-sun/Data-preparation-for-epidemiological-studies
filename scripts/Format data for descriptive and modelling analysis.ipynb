{
 "cells": [
  {
   "cell_type": "code",
   "execution_count": 1,
   "metadata": {},
   "outputs": [
    {
     "data": {
      "application/javascript": [
       "$.getScript('https://kmahelona.github.io/ipython_notebook_goodies/ipython_notebook_toc.js')\n"
      ],
      "text/plain": [
       "<IPython.core.display.Javascript object>"
      ]
     },
     "metadata": {},
     "output_type": "display_data"
    }
   ],
   "source": [
    "%%javascript\n",
    "$.getScript('https://kmahelona.github.io/ipython_notebook_goodies/ipython_notebook_toc.js')"
   ]
  },
  {
   "cell_type": "markdown",
   "metadata": {},
   "source": [
    "<h1 id=\"tocheading\">Table of Contents</h1>\n",
    "<div id=\"toc\"></div>"
   ]
  },
  {
   "cell_type": "markdown",
   "metadata": {},
   "source": [
    "# Packages"
   ]
  },
  {
   "cell_type": "code",
   "execution_count": 2,
   "metadata": {},
   "outputs": [],
   "source": [
    "import pandas as pd\n",
    "from pandas import DataFrame\n",
    "import numpy as np\n",
    "import datetime\n",
    "from datetime import datetime, timedelta\n",
    "#import plotly.graph_objs as go\n",
    "import matplotlib.pyplot as plt\n",
    "import csv\n",
    "import seaborn as sns\n",
    "%matplotlib inline\n",
    "sns.set()\n",
    "from PIL import Image"
   ]
  },
  {
   "cell_type": "markdown",
   "metadata": {},
   "source": [
    "# Confirmed dengue dataset"
   ]
  },
  {
   "cell_type": "code",
   "execution_count": 3,
   "metadata": {},
   "outputs": [],
   "source": [
    "df = pd.read_csv('/Users/julianeoliveira/Desktop/Modelling TaskForce Arboviruses/Data/dengue_conf_clean.csv',low_memory=False)"
   ]
  },
  {
   "cell_type": "code",
   "execution_count": 4,
   "metadata": {},
   "outputs": [],
   "source": [
    "df['dt_sin_pri'] = pd.to_datetime(df['dt_sin_pri'], errors = 'coerce')\n",
    "df['dt_notific'] = pd.to_datetime(df['dt_notific'])\n",
    "df['dt_nasc'] = pd.to_datetime(df['dt_nasc'])"
   ]
  },
  {
   "cell_type": "code",
   "execution_count": 5,
   "metadata": {},
   "outputs": [],
   "source": [
    "df['sem_pri_correct'] = df['dt_sin_pri'].dt.strftime('%Y-%W')"
   ]
  },
  {
   "cell_type": "code",
   "execution_count": 6,
   "metadata": {},
   "outputs": [],
   "source": [
    "df['month'] = df['dt_sin_pri'].dt.strftime('%Y-%m')"
   ]
  },
  {
   "cell_type": "markdown",
   "metadata": {},
   "source": [
    "## Series of confirmed dengue cases by week and municipality"
   ]
  },
  {
   "cell_type": "code",
   "execution_count": 7,
   "metadata": {},
   "outputs": [],
   "source": [
    "data = df.filter(['codmunres','dt_sin_pri','year','month','sem_pri','sem_pri_correct','cs_sexo','faixa','count'])"
   ]
  },
  {
   "cell_type": "code",
   "execution_count": 8,
   "metadata": {},
   "outputs": [],
   "source": [
    "dados = data.groupby(['codmunres','year','month','sem_pri_correct','cs_sexo','faixa'])['count'].sum().reset_index()"
   ]
  },
  {
   "cell_type": "code",
   "execution_count": 9,
   "metadata": {},
   "outputs": [
    {
     "data": {
      "text/html": [
       "<div>\n",
       "<style scoped>\n",
       "    .dataframe tbody tr th:only-of-type {\n",
       "        vertical-align: middle;\n",
       "    }\n",
       "\n",
       "    .dataframe tbody tr th {\n",
       "        vertical-align: top;\n",
       "    }\n",
       "\n",
       "    .dataframe thead th {\n",
       "        text-align: right;\n",
       "    }\n",
       "</style>\n",
       "<table border=\"1\" class=\"dataframe\">\n",
       "  <thead>\n",
       "    <tr style=\"text-align: right;\">\n",
       "      <th></th>\n",
       "      <th>codmunres</th>\n",
       "      <th>year</th>\n",
       "      <th>month</th>\n",
       "      <th>sem_pri_correct</th>\n",
       "      <th>cs_sexo</th>\n",
       "      <th>faixa</th>\n",
       "      <th>count</th>\n",
       "    </tr>\n",
       "  </thead>\n",
       "  <tbody>\n",
       "    <tr>\n",
       "      <th>0</th>\n",
       "      <td>110000.0</td>\n",
       "      <td>2015</td>\n",
       "      <td>2015-12</td>\n",
       "      <td>2015-52</td>\n",
       "      <td>1</td>\n",
       "      <td>4</td>\n",
       "      <td>1</td>\n",
       "    </tr>\n",
       "    <tr>\n",
       "      <th>1</th>\n",
       "      <td>110001.0</td>\n",
       "      <td>2010</td>\n",
       "      <td>2010-01</td>\n",
       "      <td>2010-02</td>\n",
       "      <td>2</td>\n",
       "      <td>7074</td>\n",
       "      <td>1</td>\n",
       "    </tr>\n",
       "    <tr>\n",
       "      <th>2</th>\n",
       "      <td>110001.0</td>\n",
       "      <td>2010</td>\n",
       "      <td>2010-01</td>\n",
       "      <td>2010-03</td>\n",
       "      <td>2</td>\n",
       "      <td>5559</td>\n",
       "      <td>1</td>\n",
       "    </tr>\n",
       "    <tr>\n",
       "      <th>3</th>\n",
       "      <td>110001.0</td>\n",
       "      <td>2010</td>\n",
       "      <td>2010-02</td>\n",
       "      <td>2010-06</td>\n",
       "      <td>1</td>\n",
       "      <td>1014</td>\n",
       "      <td>2</td>\n",
       "    </tr>\n",
       "    <tr>\n",
       "      <th>4</th>\n",
       "      <td>110001.0</td>\n",
       "      <td>2010</td>\n",
       "      <td>2010-02</td>\n",
       "      <td>2010-06</td>\n",
       "      <td>1</td>\n",
       "      <td>3539</td>\n",
       "      <td>1</td>\n",
       "    </tr>\n",
       "    <tr>\n",
       "      <th>5</th>\n",
       "      <td>110001.0</td>\n",
       "      <td>2010</td>\n",
       "      <td>2010-02</td>\n",
       "      <td>2010-06</td>\n",
       "      <td>2</td>\n",
       "      <td>6064</td>\n",
       "      <td>1</td>\n",
       "    </tr>\n",
       "    <tr>\n",
       "      <th>6</th>\n",
       "      <td>110001.0</td>\n",
       "      <td>2010</td>\n",
       "      <td>2010-02</td>\n",
       "      <td>2010-07</td>\n",
       "      <td>1</td>\n",
       "      <td>509</td>\n",
       "      <td>1</td>\n",
       "    </tr>\n",
       "    <tr>\n",
       "      <th>7</th>\n",
       "      <td>110001.0</td>\n",
       "      <td>2010</td>\n",
       "      <td>2010-02</td>\n",
       "      <td>2010-07</td>\n",
       "      <td>1</td>\n",
       "      <td>5054</td>\n",
       "      <td>1</td>\n",
       "    </tr>\n",
       "    <tr>\n",
       "      <th>8</th>\n",
       "      <td>110001.0</td>\n",
       "      <td>2010</td>\n",
       "      <td>2010-02</td>\n",
       "      <td>2010-07</td>\n",
       "      <td>2</td>\n",
       "      <td>2024</td>\n",
       "      <td>1</td>\n",
       "    </tr>\n",
       "    <tr>\n",
       "      <th>9</th>\n",
       "      <td>110001.0</td>\n",
       "      <td>2010</td>\n",
       "      <td>2010-02</td>\n",
       "      <td>2010-08</td>\n",
       "      <td>1</td>\n",
       "      <td>4549</td>\n",
       "      <td>1</td>\n",
       "    </tr>\n",
       "    <tr>\n",
       "      <th>10</th>\n",
       "      <td>110001.0</td>\n",
       "      <td>2010</td>\n",
       "      <td>2010-02</td>\n",
       "      <td>2010-08</td>\n",
       "      <td>1</td>\n",
       "      <td>7579</td>\n",
       "      <td>1</td>\n",
       "    </tr>\n",
       "    <tr>\n",
       "      <th>11</th>\n",
       "      <td>110001.0</td>\n",
       "      <td>2010</td>\n",
       "      <td>2010-05</td>\n",
       "      <td>2010-20</td>\n",
       "      <td>1</td>\n",
       "      <td>2024</td>\n",
       "      <td>1</td>\n",
       "    </tr>\n",
       "    <tr>\n",
       "      <th>12</th>\n",
       "      <td>110001.0</td>\n",
       "      <td>2010</td>\n",
       "      <td>2010-11</td>\n",
       "      <td>2010-47</td>\n",
       "      <td>2</td>\n",
       "      <td>6569</td>\n",
       "      <td>1</td>\n",
       "    </tr>\n",
       "    <tr>\n",
       "      <th>13</th>\n",
       "      <td>110001.0</td>\n",
       "      <td>2011</td>\n",
       "      <td>2011-03</td>\n",
       "      <td>2011-11</td>\n",
       "      <td>2</td>\n",
       "      <td>4044</td>\n",
       "      <td>1</td>\n",
       "    </tr>\n",
       "    <tr>\n",
       "      <th>14</th>\n",
       "      <td>110001.0</td>\n",
       "      <td>2012</td>\n",
       "      <td>2012-01</td>\n",
       "      <td>2012-02</td>\n",
       "      <td>2</td>\n",
       "      <td>2024</td>\n",
       "      <td>1</td>\n",
       "    </tr>\n",
       "    <tr>\n",
       "      <th>15</th>\n",
       "      <td>110001.0</td>\n",
       "      <td>2012</td>\n",
       "      <td>2012-12</td>\n",
       "      <td>2012-52</td>\n",
       "      <td>1</td>\n",
       "      <td>509</td>\n",
       "      <td>1</td>\n",
       "    </tr>\n",
       "    <tr>\n",
       "      <th>16</th>\n",
       "      <td>110001.0</td>\n",
       "      <td>2013</td>\n",
       "      <td>2012-01</td>\n",
       "      <td>2012-05</td>\n",
       "      <td>1</td>\n",
       "      <td>2529</td>\n",
       "      <td>1</td>\n",
       "    </tr>\n",
       "    <tr>\n",
       "      <th>17</th>\n",
       "      <td>110001.0</td>\n",
       "      <td>2013</td>\n",
       "      <td>2012-12</td>\n",
       "      <td>2012-52</td>\n",
       "      <td>1</td>\n",
       "      <td>3539</td>\n",
       "      <td>1</td>\n",
       "    </tr>\n",
       "    <tr>\n",
       "      <th>18</th>\n",
       "      <td>110001.0</td>\n",
       "      <td>2013</td>\n",
       "      <td>2012-12</td>\n",
       "      <td>2012-52</td>\n",
       "      <td>1</td>\n",
       "      <td>5054</td>\n",
       "      <td>1</td>\n",
       "    </tr>\n",
       "    <tr>\n",
       "      <th>19</th>\n",
       "      <td>110001.0</td>\n",
       "      <td>2013</td>\n",
       "      <td>2012-12</td>\n",
       "      <td>2012-53</td>\n",
       "      <td>1</td>\n",
       "      <td>1519</td>\n",
       "      <td>2</td>\n",
       "    </tr>\n",
       "    <tr>\n",
       "      <th>20</th>\n",
       "      <td>110001.0</td>\n",
       "      <td>2013</td>\n",
       "      <td>2013-01</td>\n",
       "      <td>2013-00</td>\n",
       "      <td>1</td>\n",
       "      <td>4</td>\n",
       "      <td>1</td>\n",
       "    </tr>\n",
       "    <tr>\n",
       "      <th>21</th>\n",
       "      <td>110001.0</td>\n",
       "      <td>2013</td>\n",
       "      <td>2013-01</td>\n",
       "      <td>2013-00</td>\n",
       "      <td>1</td>\n",
       "      <td>2529</td>\n",
       "      <td>1</td>\n",
       "    </tr>\n",
       "    <tr>\n",
       "      <th>22</th>\n",
       "      <td>110001.0</td>\n",
       "      <td>2013</td>\n",
       "      <td>2013-01</td>\n",
       "      <td>2013-00</td>\n",
       "      <td>1</td>\n",
       "      <td>5054</td>\n",
       "      <td>1</td>\n",
       "    </tr>\n",
       "    <tr>\n",
       "      <th>23</th>\n",
       "      <td>110001.0</td>\n",
       "      <td>2013</td>\n",
       "      <td>2013-01</td>\n",
       "      <td>2013-00</td>\n",
       "      <td>2</td>\n",
       "      <td>4</td>\n",
       "      <td>1</td>\n",
       "    </tr>\n",
       "    <tr>\n",
       "      <th>24</th>\n",
       "      <td>110001.0</td>\n",
       "      <td>2013</td>\n",
       "      <td>2013-01</td>\n",
       "      <td>2013-00</td>\n",
       "      <td>2</td>\n",
       "      <td>1014</td>\n",
       "      <td>1</td>\n",
       "    </tr>\n",
       "    <tr>\n",
       "      <th>25</th>\n",
       "      <td>110001.0</td>\n",
       "      <td>2013</td>\n",
       "      <td>2013-01</td>\n",
       "      <td>2013-00</td>\n",
       "      <td>2</td>\n",
       "      <td>4549</td>\n",
       "      <td>1</td>\n",
       "    </tr>\n",
       "    <tr>\n",
       "      <th>26</th>\n",
       "      <td>110001.0</td>\n",
       "      <td>2013</td>\n",
       "      <td>2013-01</td>\n",
       "      <td>2013-00</td>\n",
       "      <td>2</td>\n",
       "      <td>5559</td>\n",
       "      <td>1</td>\n",
       "    </tr>\n",
       "    <tr>\n",
       "      <th>27</th>\n",
       "      <td>110001.0</td>\n",
       "      <td>2013</td>\n",
       "      <td>2013-01</td>\n",
       "      <td>2013-01</td>\n",
       "      <td>1</td>\n",
       "      <td>4</td>\n",
       "      <td>2</td>\n",
       "    </tr>\n",
       "    <tr>\n",
       "      <th>28</th>\n",
       "      <td>110001.0</td>\n",
       "      <td>2013</td>\n",
       "      <td>2013-01</td>\n",
       "      <td>2013-01</td>\n",
       "      <td>1</td>\n",
       "      <td>1014</td>\n",
       "      <td>1</td>\n",
       "    </tr>\n",
       "    <tr>\n",
       "      <th>29</th>\n",
       "      <td>110001.0</td>\n",
       "      <td>2013</td>\n",
       "      <td>2013-01</td>\n",
       "      <td>2013-01</td>\n",
       "      <td>1</td>\n",
       "      <td>1519</td>\n",
       "      <td>5</td>\n",
       "    </tr>\n",
       "  </tbody>\n",
       "</table>\n",
       "</div>"
      ],
      "text/plain": [
       "    codmunres  year    month sem_pri_correct cs_sexo  faixa  count\n",
       "0    110000.0  2015  2015-12         2015-52       1      4      1\n",
       "1    110001.0  2010  2010-01         2010-02       2   7074      1\n",
       "2    110001.0  2010  2010-01         2010-03       2   5559      1\n",
       "3    110001.0  2010  2010-02         2010-06       1   1014      2\n",
       "4    110001.0  2010  2010-02         2010-06       1   3539      1\n",
       "5    110001.0  2010  2010-02         2010-06       2   6064      1\n",
       "6    110001.0  2010  2010-02         2010-07       1    509      1\n",
       "7    110001.0  2010  2010-02         2010-07       1   5054      1\n",
       "8    110001.0  2010  2010-02         2010-07       2   2024      1\n",
       "9    110001.0  2010  2010-02         2010-08       1   4549      1\n",
       "10   110001.0  2010  2010-02         2010-08       1   7579      1\n",
       "11   110001.0  2010  2010-05         2010-20       1   2024      1\n",
       "12   110001.0  2010  2010-11         2010-47       2   6569      1\n",
       "13   110001.0  2011  2011-03         2011-11       2   4044      1\n",
       "14   110001.0  2012  2012-01         2012-02       2   2024      1\n",
       "15   110001.0  2012  2012-12         2012-52       1    509      1\n",
       "16   110001.0  2013  2012-01         2012-05       1   2529      1\n",
       "17   110001.0  2013  2012-12         2012-52       1   3539      1\n",
       "18   110001.0  2013  2012-12         2012-52       1   5054      1\n",
       "19   110001.0  2013  2012-12         2012-53       1   1519      2\n",
       "20   110001.0  2013  2013-01         2013-00       1      4      1\n",
       "21   110001.0  2013  2013-01         2013-00       1   2529      1\n",
       "22   110001.0  2013  2013-01         2013-00       1   5054      1\n",
       "23   110001.0  2013  2013-01         2013-00       2      4      1\n",
       "24   110001.0  2013  2013-01         2013-00       2   1014      1\n",
       "25   110001.0  2013  2013-01         2013-00       2   4549      1\n",
       "26   110001.0  2013  2013-01         2013-00       2   5559      1\n",
       "27   110001.0  2013  2013-01         2013-01       1      4      2\n",
       "28   110001.0  2013  2013-01         2013-01       1   1014      1\n",
       "29   110001.0  2013  2013-01         2013-01       1   1519      5"
      ]
     },
     "execution_count": 9,
     "metadata": {},
     "output_type": "execute_result"
    }
   ],
   "source": [
    "dados.head(30)"
   ]
  },
  {
   "cell_type": "markdown",
   "metadata": {},
   "source": [
    "## Some descritives checks"
   ]
  },
  {
   "cell_type": "code",
   "execution_count": 10,
   "metadata": {},
   "outputs": [
    {
     "data": {
      "text/plain": [
       "year\n",
       "2010     869202\n",
       "2011     600937\n",
       "2012     401708\n",
       "2013    1188781\n",
       "2014     475207\n",
       "2015    1386871\n",
       "2016     479362\n",
       "2017     167600\n",
       "2018     146490\n",
       "2019    1280783\n",
       "Name: count, dtype: int64"
      ]
     },
     "execution_count": 10,
     "metadata": {},
     "output_type": "execute_result"
    }
   ],
   "source": [
    "dados.groupby(['year'])['count'].sum()"
   ]
  },
  {
   "cell_type": "code",
   "execution_count": 11,
   "metadata": {},
   "outputs": [
    {
     "data": {
      "text/plain": [
       "2015    1387045\n",
       "2019    1280791\n",
       "2013    1188923\n",
       "2010     869246\n",
       "2011     601017\n",
       "2016     479382\n",
       "2014     475282\n",
       "2012     401768\n",
       "2017     167604\n",
       "2018     146494\n",
       "Name: year, dtype: int64"
      ]
     },
     "execution_count": 11,
     "metadata": {},
     "output_type": "execute_result"
    }
   ],
   "source": [
    "df.year.value_counts()"
   ]
  },
  {
   "cell_type": "markdown",
   "metadata": {},
   "source": [
    "# Population data to calculate the risk"
   ]
  },
  {
   "cell_type": "code",
   "execution_count": 12,
   "metadata": {},
   "outputs": [],
   "source": [
    "pop = pd.read_csv('/Users/julianeoliveira/Desktop/Modelling TaskForce Arboviruses/Data/pop.csv')"
   ]
  },
  {
   "cell_type": "code",
   "execution_count": 13,
   "metadata": {},
   "outputs": [],
   "source": [
    "pop = pop.astype(int)"
   ]
  },
  {
   "cell_type": "markdown",
   "metadata": {},
   "source": [
    "# Standard incidence ratio of dengue"
   ]
  },
  {
   "cell_type": "markdown",
   "metadata": {},
   "source": [
    "## Expected number of cases per week and municipality"
   ]
  },
  {
   "cell_type": "code",
   "execution_count": 42,
   "metadata": {
    "scrolled": true
   },
   "outputs": [
    {
     "data": {
      "text/html": [
       "<div>\n",
       "<style scoped>\n",
       "    .dataframe tbody tr th:only-of-type {\n",
       "        vertical-align: middle;\n",
       "    }\n",
       "\n",
       "    .dataframe tbody tr th {\n",
       "        vertical-align: top;\n",
       "    }\n",
       "\n",
       "    .dataframe thead th {\n",
       "        text-align: right;\n",
       "    }\n",
       "</style>\n",
       "<table border=\"1\" class=\"dataframe\">\n",
       "  <thead>\n",
       "    <tr style=\"text-align: right;\">\n",
       "      <th></th>\n",
       "      <th>MUNIC_RES</th>\n",
       "      <th>ANO</th>\n",
       "      <th>SEXO</th>\n",
       "      <th>FXETARIA</th>\n",
       "      <th>POPULACAO</th>\n",
       "    </tr>\n",
       "  </thead>\n",
       "  <tbody>\n",
       "    <tr>\n",
       "      <th>0</th>\n",
       "      <td>110001</td>\n",
       "      <td>2012</td>\n",
       "      <td>1</td>\n",
       "      <td>4</td>\n",
       "      <td>943</td>\n",
       "    </tr>\n",
       "    <tr>\n",
       "      <th>1</th>\n",
       "      <td>110001</td>\n",
       "      <td>2012</td>\n",
       "      <td>1</td>\n",
       "      <td>509</td>\n",
       "      <td>1058</td>\n",
       "    </tr>\n",
       "    <tr>\n",
       "      <th>2</th>\n",
       "      <td>110001</td>\n",
       "      <td>2012</td>\n",
       "      <td>1</td>\n",
       "      <td>1014</td>\n",
       "      <td>1239</td>\n",
       "    </tr>\n",
       "    <tr>\n",
       "      <th>3</th>\n",
       "      <td>110001</td>\n",
       "      <td>2012</td>\n",
       "      <td>1</td>\n",
       "      <td>1519</td>\n",
       "      <td>1343</td>\n",
       "    </tr>\n",
       "    <tr>\n",
       "      <th>4</th>\n",
       "      <td>110001</td>\n",
       "      <td>2012</td>\n",
       "      <td>1</td>\n",
       "      <td>2024</td>\n",
       "      <td>1090</td>\n",
       "    </tr>\n",
       "  </tbody>\n",
       "</table>\n",
       "</div>"
      ],
      "text/plain": [
       "   MUNIC_RES   ANO  SEXO  FXETARIA  POPULACAO\n",
       "0     110001  2012     1         4        943\n",
       "1     110001  2012     1       509       1058\n",
       "2     110001  2012     1      1014       1239\n",
       "3     110001  2012     1      1519       1343\n",
       "4     110001  2012     1      2024       1090"
      ]
     },
     "execution_count": 42,
     "metadata": {},
     "output_type": "execute_result"
    }
   ],
   "source": [
    "teste_pop = pop.groupby(['MUNIC_RES','ANO','SEXO','FXETARIA'])['POPULACAO'].sum().reset_index()\n",
    "teste_pop.head()"
   ]
  },
  {
   "cell_type": "code",
   "execution_count": 43,
   "metadata": {},
   "outputs": [],
   "source": [
    "table_pop= teste_pop.groupby(['SEXO','FXETARIA'])['POPULACAO'].sum().reset_index()"
   ]
  },
  {
   "cell_type": "code",
   "execution_count": 63,
   "metadata": {},
   "outputs": [],
   "source": [
    "teste = dados"
   ]
  },
  {
   "cell_type": "code",
   "execution_count": 64,
   "metadata": {},
   "outputs": [],
   "source": [
    "teste = teste[teste.cs_sexo != 'I']"
   ]
  },
  {
   "cell_type": "code",
   "execution_count": 65,
   "metadata": {
    "scrolled": false
   },
   "outputs": [
    {
     "name": "stderr",
     "output_type": "stream",
     "text": [
      "/Users/julianeoliveira/opt/anaconda3/lib/python3.8/site-packages/pandas/core/generic.py:5168: SettingWithCopyWarning: \n",
      "A value is trying to be set on a copy of a slice from a DataFrame.\n",
      "Try using .loc[row_indexer,col_indexer] = value instead\n",
      "\n",
      "See the caveats in the documentation: https://pandas.pydata.org/pandas-docs/stable/user_guide/indexing.html#returning-a-view-versus-a-copy\n",
      "  self[name] = value\n"
     ]
    }
   ],
   "source": [
    "teste.codmunres = teste['codmunres'].astype(int)\n",
    "#teste = teste.astype(int)"
   ]
  },
  {
   "cell_type": "markdown",
   "metadata": {},
   "source": [
    "Let $j$ denoting a combination of age and gender categories (strata). If $j$ has $O_{ij}$ observed events out of a population $Pop_{ij}$, then expected number of cases $E_i$ for an area, $ i$, represents the prior spatial distribution of the disease. This distribution is established by the population structure, which varies according to the combination of age and gender categories of the whole population. In such a way, the expected number of events in this strata is given by:\n",
    "\\begin{equation}\\label{eq1}\n",
    "E_{ij} = Pop_{ij}\\frac{\\sum_{i=1}^{n}O_{ij}}{\\sum_{i=1}^{n}Pop_{ij}},\n",
    "\\end{equation}\n",
    "and the total number of expected events in area $i$\t is just:\n",
    "\\begin{equation}\\label{eq2}\n",
    "E_{i} = \\sum_{j=1}^{J}E_{ij},\n",
    "\\end{equation}\n",
    "where $n$ is the number of aggregated count and $J$ the number of categories \\cite{Leyland2005}. \n",
    "\n",
    "\tThe relative risk within an area is given as the ratio between the observed and expected number of cases of the disease. This ratio is the so called standard incidence ratio and is given by:\n",
    "\\begin{equation}\\label{eq3}\n",
    "\\theta_i = \\frac{O_{i}}{E_{i}}.\n",
    "\\end{equation}\n",
    "If the observed number of cases equals the expected number, the $\\theta$ is 1. If more cases are observed than expected, then $\\theta$ is greater than 1. If fewer cases are observed than expected, the $\\theta$ is less than 1. \n"
   ]
  },
  {
   "cell_type": "code",
   "execution_count": 66,
   "metadata": {
    "scrolled": true
   },
   "outputs": [
    {
     "data": {
      "text/html": [
       "<div>\n",
       "<style scoped>\n",
       "    .dataframe tbody tr th:only-of-type {\n",
       "        vertical-align: middle;\n",
       "    }\n",
       "\n",
       "    .dataframe tbody tr th {\n",
       "        vertical-align: top;\n",
       "    }\n",
       "\n",
       "    .dataframe thead th {\n",
       "        text-align: right;\n",
       "    }\n",
       "</style>\n",
       "<table border=\"1\" class=\"dataframe\">\n",
       "  <thead>\n",
       "    <tr style=\"text-align: right;\">\n",
       "      <th></th>\n",
       "      <th>codmunres</th>\n",
       "      <th>year</th>\n",
       "      <th>month</th>\n",
       "      <th>sem_pri_correct</th>\n",
       "      <th>cs_sexo</th>\n",
       "      <th>faixa</th>\n",
       "      <th>count</th>\n",
       "    </tr>\n",
       "  </thead>\n",
       "  <tbody>\n",
       "    <tr>\n",
       "      <th>0</th>\n",
       "      <td>110000</td>\n",
       "      <td>2015</td>\n",
       "      <td>2015-12</td>\n",
       "      <td>2015-52</td>\n",
       "      <td>1</td>\n",
       "      <td>4</td>\n",
       "      <td>1</td>\n",
       "    </tr>\n",
       "    <tr>\n",
       "      <th>1</th>\n",
       "      <td>110001</td>\n",
       "      <td>2010</td>\n",
       "      <td>2010-01</td>\n",
       "      <td>2010-02</td>\n",
       "      <td>2</td>\n",
       "      <td>7074</td>\n",
       "      <td>1</td>\n",
       "    </tr>\n",
       "    <tr>\n",
       "      <th>2</th>\n",
       "      <td>110001</td>\n",
       "      <td>2010</td>\n",
       "      <td>2010-01</td>\n",
       "      <td>2010-03</td>\n",
       "      <td>2</td>\n",
       "      <td>5559</td>\n",
       "      <td>1</td>\n",
       "    </tr>\n",
       "    <tr>\n",
       "      <th>3</th>\n",
       "      <td>110001</td>\n",
       "      <td>2010</td>\n",
       "      <td>2010-02</td>\n",
       "      <td>2010-06</td>\n",
       "      <td>1</td>\n",
       "      <td>1014</td>\n",
       "      <td>2</td>\n",
       "    </tr>\n",
       "    <tr>\n",
       "      <th>4</th>\n",
       "      <td>110001</td>\n",
       "      <td>2010</td>\n",
       "      <td>2010-02</td>\n",
       "      <td>2010-06</td>\n",
       "      <td>1</td>\n",
       "      <td>3539</td>\n",
       "      <td>1</td>\n",
       "    </tr>\n",
       "  </tbody>\n",
       "</table>\n",
       "</div>"
      ],
      "text/plain": [
       "   codmunres  year    month sem_pri_correct cs_sexo  faixa  count\n",
       "0     110000  2015  2015-12         2015-52       1      4      1\n",
       "1     110001  2010  2010-01         2010-02       2   7074      1\n",
       "2     110001  2010  2010-01         2010-03       2   5559      1\n",
       "3     110001  2010  2010-02         2010-06       1   1014      2\n",
       "4     110001  2010  2010-02         2010-06       1   3539      1"
      ]
     },
     "execution_count": 66,
     "metadata": {},
     "output_type": "execute_result"
    }
   ],
   "source": [
    "teste.head()"
   ]
  },
  {
   "cell_type": "code",
   "execution_count": null,
   "metadata": {},
   "outputs": [],
   "source": [
    "SOij_Spij_month = []\n",
    "for month in teste.month:\n",
    "    \n",
    "    #df_month = teste[teste.month == month]\n",
    "    #table_month = pd.pivot_table(df_month, values='count', index=['codmunres'], columns=['cs_sexo','faixa']).fillna(0)\n",
    "    #resulted_dataframe = table_year.sum().reset_index()\n",
    "    \n",
    "    datamonth = teste[teste.month == month].groupby(['cs_sexo','faixa'])['count'].sum().reset_index()\n",
    "    \n",
    "    datamonth['SOij_Spij'] = datamonth['count']/table_pop.POPULACAO\n",
    "    \n",
    "    SOij_Spij_month.append(datamonth)\n",
    "    \n",
    "    "
   ]
  },
  {
   "cell_type": "code",
   "execution_count": 58,
   "metadata": {},
   "outputs": [
    {
     "data": {
      "text/plain": [
       "[]"
      ]
     },
     "execution_count": 58,
     "metadata": {},
     "output_type": "execute_result"
    }
   ],
   "source": [
    "SOij_Spij_month"
   ]
  },
  {
   "cell_type": "code",
   "execution_count": 40,
   "metadata": {},
   "outputs": [],
   "source": [
    "dataweek1['Eij'] =popij_muni1['POPULACAO']*dataweek1['SOij_Spij']"
   ]
  },
  {
   "cell_type": "code",
   "execution_count": 41,
   "metadata": {},
   "outputs": [
    {
     "data": {
      "text/plain": [
       "0.8255987627217654"
      ]
     },
     "execution_count": 41,
     "metadata": {},
     "output_type": "execute_result"
    }
   ],
   "source": [
    "sum(dataweek1['Eij'])"
   ]
  },
  {
   "cell_type": "code",
   "execution_count": 38,
   "metadata": {},
   "outputs": [],
   "source": [
    "popij_muni1 = teste_pop[teste_pop['MUNIC_RES'] == 110001]"
   ]
  },
  {
   "cell_type": "code",
   "execution_count": null,
   "metadata": {},
   "outputs": [],
   "source": [
    "sum_observed_gender_age_week = []\n",
    "for week in teste.sem_pri_correct:\n",
    "    df_week = teste[teste.sem_pri_correct == week].groupby(['cs_sexo','faixa'])['count'].sum().reset_index()\n",
    "    sum_observed_gender_age_week.append(df_week)"
   ]
  }
 ],
 "metadata": {
  "kernelspec": {
   "display_name": "Python 3",
   "language": "python",
   "name": "python3"
  },
  "language_info": {
   "codemirror_mode": {
    "name": "ipython",
    "version": 3
   },
   "file_extension": ".py",
   "mimetype": "text/x-python",
   "name": "python",
   "nbconvert_exporter": "python",
   "pygments_lexer": "ipython3",
   "version": "3.8.5"
  }
 },
 "nbformat": 4,
 "nbformat_minor": 4
}

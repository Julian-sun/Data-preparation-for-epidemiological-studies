{
 "cells": [
  {
   "cell_type": "markdown",
   "metadata": {},
   "source": [
    "#### In this script we want to calculate the incidence of Dengue virus transmission in Brazil, for each of the agregation levels\n",
    "    \n",
    "        * Brazil\n",
    "        \n",
    "        * Regions: Centro-Oeste, Nordeste, Norte, Sudeste, Sul;\n",
    "        \n",
    "        * States\n",
    "        \n",
    "        * Municipalities\n",
    "    \n",
    "#### We also collect the number of discarded cases for the disease"
   ]
  },
  {
   "cell_type": "code",
   "execution_count": 2,
   "metadata": {},
   "outputs": [],
   "source": [
    "import pandas as pd\n",
    "from pandas import DataFrame\n",
    "import numpy as np\n",
    "import datetime\n",
    "from datetime import datetime, timedelta\n",
    "import plotly.graph_objs as go\n",
    "import matplotlib.pyplot as plt\n",
    "import csv\n",
    "import seaborn as sns\n",
    "%matplotlib inline\n",
    "sns.set()\n",
    "from PIL import Image"
   ]
  },
  {
   "cell_type": "markdown",
   "metadata": {},
   "source": [
    "# Confirmed Cases"
   ]
  },
  {
   "cell_type": "code",
   "execution_count": 2,
   "metadata": {
    "scrolled": true
   },
   "outputs": [
    {
     "data": {
      "text/plain": [
       "['C:\\\\Users\\\\juliane.oliveira\\\\Desktop\\\\Datalake\\\\Time_series_arboviruses\\\\Dengue\\\\Dengue_confirmado\\\\dengueconf2010.csv',\n",
       " 'C:\\\\Users\\\\juliane.oliveira\\\\Desktop\\\\Datalake\\\\Time_series_arboviruses\\\\Dengue\\\\Dengue_confirmado\\\\dengueconf2011.csv',\n",
       " 'C:\\\\Users\\\\juliane.oliveira\\\\Desktop\\\\Datalake\\\\Time_series_arboviruses\\\\Dengue\\\\Dengue_confirmado\\\\dengueconf2012.csv',\n",
       " 'C:\\\\Users\\\\juliane.oliveira\\\\Desktop\\\\Datalake\\\\Time_series_arboviruses\\\\Dengue\\\\Dengue_confirmado\\\\dengueconf2013_a.csv',\n",
       " 'C:\\\\Users\\\\juliane.oliveira\\\\Desktop\\\\Datalake\\\\Time_series_arboviruses\\\\Dengue\\\\Dengue_confirmado\\\\dengueconf2013_b.csv',\n",
       " 'C:\\\\Users\\\\juliane.oliveira\\\\Desktop\\\\Datalake\\\\Time_series_arboviruses\\\\Dengue\\\\Dengue_confirmado\\\\dengueconf2014.csv',\n",
       " 'C:\\\\Users\\\\juliane.oliveira\\\\Desktop\\\\Datalake\\\\Time_series_arboviruses\\\\Dengue\\\\Dengue_confirmado\\\\dengueconf2015_A.csv',\n",
       " 'C:\\\\Users\\\\juliane.oliveira\\\\Desktop\\\\Datalake\\\\Time_series_arboviruses\\\\Dengue\\\\Dengue_confirmado\\\\dengueconf2015_B.csv',\n",
       " 'C:\\\\Users\\\\juliane.oliveira\\\\Desktop\\\\Datalake\\\\Time_series_arboviruses\\\\Dengue\\\\Dengue_confirmado\\\\dengueconf2015_C.csv',\n",
       " 'C:\\\\Users\\\\juliane.oliveira\\\\Desktop\\\\Datalake\\\\Time_series_arboviruses\\\\Dengue\\\\Dengue_confirmado\\\\dengueconf2016.csv',\n",
       " 'C:\\\\Users\\\\juliane.oliveira\\\\Desktop\\\\Datalake\\\\Time_series_arboviruses\\\\Dengue\\\\Dengue_confirmado\\\\dengueconf2017.csv',\n",
       " 'C:\\\\Users\\\\juliane.oliveira\\\\Desktop\\\\Datalake\\\\Time_series_arboviruses\\\\Dengue\\\\Dengue_confirmado\\\\dengueconf2018.csv']"
      ]
     },
     "execution_count": 2,
     "metadata": {},
     "output_type": "execute_result"
    }
   ],
   "source": [
    "import sys\n",
    "import glob\n",
    "\n",
    "path = r'C:\\Users\\juliane.oliveira\\Desktop\\Datalake\\Time_series_arboviruses\\Dengue\\Dengue_confirmado'\n",
    "filenames = glob.glob(path + \"/*.csv\")\n",
    "filenames"
   ]
  },
  {
   "cell_type": "code",
   "execution_count": 3,
   "metadata": {
    "scrolled": true
   },
   "outputs": [
    {
     "name": "stdout",
     "output_type": "stream",
     "text": [
      "C:\\Users\\juliane.oliveira\\Desktop\\Datalake\\Time_series_arboviruses\\Dengue\\Dengue_confirmado\\dengueconf2010.csv\n",
      "C:\\Users\\juliane.oliveira\\Desktop\\Datalake\\Time_series_arboviruses\\Dengue\\Dengue_confirmado\\dengueconf2011.csv\n",
      "C:\\Users\\juliane.oliveira\\Desktop\\Datalake\\Time_series_arboviruses\\Dengue\\Dengue_confirmado\\dengueconf2012.csv\n",
      "C:\\Users\\juliane.oliveira\\Desktop\\Datalake\\Time_series_arboviruses\\Dengue\\Dengue_confirmado\\dengueconf2013_a.csv\n",
      "C:\\Users\\juliane.oliveira\\Desktop\\Datalake\\Time_series_arboviruses\\Dengue\\Dengue_confirmado\\dengueconf2013_b.csv\n",
      "C:\\Users\\juliane.oliveira\\Desktop\\Datalake\\Time_series_arboviruses\\Dengue\\Dengue_confirmado\\dengueconf2014.csv\n",
      "C:\\Users\\juliane.oliveira\\Desktop\\Datalake\\Time_series_arboviruses\\Dengue\\Dengue_confirmado\\dengueconf2015_A.csv\n",
      "C:\\Users\\juliane.oliveira\\Desktop\\Datalake\\Time_series_arboviruses\\Dengue\\Dengue_confirmado\\dengueconf2015_B.csv\n",
      "C:\\Users\\juliane.oliveira\\Desktop\\Datalake\\Time_series_arboviruses\\Dengue\\Dengue_confirmado\\dengueconf2015_C.csv\n",
      "C:\\Users\\juliane.oliveira\\Desktop\\Datalake\\Time_series_arboviruses\\Dengue\\Dengue_confirmado\\dengueconf2016.csv\n",
      "C:\\Users\\juliane.oliveira\\Desktop\\Datalake\\Time_series_arboviruses\\Dengue\\Dengue_confirmado\\dengueconf2017.csv\n",
      "C:\\Users\\juliane.oliveira\\Desktop\\Datalake\\Time_series_arboviruses\\Dengue\\Dengue_confirmado\\dengueconf2018.csv\n"
     ]
    }
   ],
   "source": [
    "lst_df = []\n",
    "for f in filenames:\n",
    "    print(f)\n",
    "    df = pd.read_csv(f, low_memory = False, encoding=\"iso-8859-1\")                    \n",
    "    lst_df.append(df)"
   ]
  },
  {
   "cell_type": "code",
   "execution_count": 4,
   "metadata": {},
   "outputs": [],
   "source": [
    "SINAN_dengue_conf = pd.concat(lst_df,sort=True)"
   ]
  },
  {
   "cell_type": "code",
   "execution_count": 5,
   "metadata": {},
   "outputs": [],
   "source": [
    "df1 = SINAN_dengue_conf"
   ]
  },
  {
   "cell_type": "code",
   "execution_count": 6,
   "metadata": {},
   "outputs": [
    {
     "data": {
      "text/plain": [
       "Index(['classi_fin', 'criterio', 'cs_escol_n', 'cs_gestant', 'cs_raca',\n",
       "       'cs_sexo', 'dt_notific', 'dt_sin_pri', 'id_mn_resi', 'nu_ano',\n",
       "       'nu_idade_n', 'nu_notific', 'sem_not', 'sem_pri', 'sg_uf'],\n",
       "      dtype='object')"
      ]
     },
     "execution_count": 6,
     "metadata": {},
     "output_type": "execute_result"
    }
   ],
   "source": [
    "df1.columns"
   ]
  },
  {
   "cell_type": "markdown",
   "metadata": {},
   "source": [
    "# Discarded Cases"
   ]
  },
  {
   "cell_type": "code",
   "execution_count": 7,
   "metadata": {},
   "outputs": [
    {
     "data": {
      "text/plain": [
       "['C:\\\\Users\\\\juliane.oliveira\\\\Desktop\\\\Datalake\\\\Time_series_arboviruses\\\\Dengue\\\\Dengue_descartado\\\\denguedes2017.csv',\n",
       " 'C:\\\\Users\\\\juliane.oliveira\\\\Desktop\\\\Datalake\\\\Time_series_arboviruses\\\\Dengue\\\\Dengue_descartado\\\\denguedes2018.csv',\n",
       " 'C:\\\\Users\\\\juliane.oliveira\\\\Desktop\\\\Datalake\\\\Time_series_arboviruses\\\\Dengue\\\\Dengue_descartado\\\\dengue_des_2010.csv',\n",
       " 'C:\\\\Users\\\\juliane.oliveira\\\\Desktop\\\\Datalake\\\\Time_series_arboviruses\\\\Dengue\\\\Dengue_descartado\\\\dengue_des_2011.csv',\n",
       " 'C:\\\\Users\\\\juliane.oliveira\\\\Desktop\\\\Datalake\\\\Time_series_arboviruses\\\\Dengue\\\\Dengue_descartado\\\\dengue_des_2012.csv',\n",
       " 'C:\\\\Users\\\\juliane.oliveira\\\\Desktop\\\\Datalake\\\\Time_series_arboviruses\\\\Dengue\\\\Dengue_descartado\\\\dengue_des_2013_a.csv',\n",
       " 'C:\\\\Users\\\\juliane.oliveira\\\\Desktop\\\\Datalake\\\\Time_series_arboviruses\\\\Dengue\\\\Dengue_descartado\\\\dengue_des_2013_b.csv',\n",
       " 'C:\\\\Users\\\\juliane.oliveira\\\\Desktop\\\\Datalake\\\\Time_series_arboviruses\\\\Dengue\\\\Dengue_descartado\\\\dengue_des_2014.csv',\n",
       " 'C:\\\\Users\\\\juliane.oliveira\\\\Desktop\\\\Datalake\\\\Time_series_arboviruses\\\\Dengue\\\\Dengue_descartado\\\\dengue_des_2015_A.csv',\n",
       " 'C:\\\\Users\\\\juliane.oliveira\\\\Desktop\\\\Datalake\\\\Time_series_arboviruses\\\\Dengue\\\\Dengue_descartado\\\\dengue_des_2015_B.csv',\n",
       " 'C:\\\\Users\\\\juliane.oliveira\\\\Desktop\\\\Datalake\\\\Time_series_arboviruses\\\\Dengue\\\\Dengue_descartado\\\\dengue_des_2015_C.csv',\n",
       " 'C:\\\\Users\\\\juliane.oliveira\\\\Desktop\\\\Datalake\\\\Time_series_arboviruses\\\\Dengue\\\\Dengue_descartado\\\\dengue_des_2016.csv']"
      ]
     },
     "execution_count": 7,
     "metadata": {},
     "output_type": "execute_result"
    }
   ],
   "source": [
    "import sys\n",
    "import glob\n",
    "\n",
    "path = r'C:\\Users\\juliane.oliveira\\Desktop\\Datalake\\Time_series_arboviruses\\Dengue\\Dengue_descartado'\n",
    "filenames = glob.glob(path + \"/*.csv\")\n",
    "filenames"
   ]
  },
  {
   "cell_type": "code",
   "execution_count": 8,
   "metadata": {},
   "outputs": [
    {
     "name": "stdout",
     "output_type": "stream",
     "text": [
      "C:\\Users\\juliane.oliveira\\Desktop\\Datalake\\Time_series_arboviruses\\Dengue\\Dengue_descartado\\denguedes2017.csv\n",
      "C:\\Users\\juliane.oliveira\\Desktop\\Datalake\\Time_series_arboviruses\\Dengue\\Dengue_descartado\\denguedes2018.csv\n",
      "C:\\Users\\juliane.oliveira\\Desktop\\Datalake\\Time_series_arboviruses\\Dengue\\Dengue_descartado\\dengue_des_2010.csv\n",
      "C:\\Users\\juliane.oliveira\\Desktop\\Datalake\\Time_series_arboviruses\\Dengue\\Dengue_descartado\\dengue_des_2011.csv\n",
      "C:\\Users\\juliane.oliveira\\Desktop\\Datalake\\Time_series_arboviruses\\Dengue\\Dengue_descartado\\dengue_des_2012.csv\n",
      "C:\\Users\\juliane.oliveira\\Desktop\\Datalake\\Time_series_arboviruses\\Dengue\\Dengue_descartado\\dengue_des_2013_a.csv\n",
      "C:\\Users\\juliane.oliveira\\Desktop\\Datalake\\Time_series_arboviruses\\Dengue\\Dengue_descartado\\dengue_des_2013_b.csv\n",
      "C:\\Users\\juliane.oliveira\\Desktop\\Datalake\\Time_series_arboviruses\\Dengue\\Dengue_descartado\\dengue_des_2014.csv\n",
      "C:\\Users\\juliane.oliveira\\Desktop\\Datalake\\Time_series_arboviruses\\Dengue\\Dengue_descartado\\dengue_des_2015_A.csv\n",
      "C:\\Users\\juliane.oliveira\\Desktop\\Datalake\\Time_series_arboviruses\\Dengue\\Dengue_descartado\\dengue_des_2015_B.csv\n",
      "C:\\Users\\juliane.oliveira\\Desktop\\Datalake\\Time_series_arboviruses\\Dengue\\Dengue_descartado\\dengue_des_2015_C.csv\n",
      "C:\\Users\\juliane.oliveira\\Desktop\\Datalake\\Time_series_arboviruses\\Dengue\\Dengue_descartado\\dengue_des_2016.csv\n"
     ]
    }
   ],
   "source": [
    "lst_df = []\n",
    "for f in filenames:\n",
    "    print(f)\n",
    "    df = pd.read_csv(f, low_memory = False, encoding=\"iso-8859-1\")                    \n",
    "    lst_df.append(df)"
   ]
  },
  {
   "cell_type": "code",
   "execution_count": 9,
   "metadata": {},
   "outputs": [],
   "source": [
    "SINAN_dengue = pd.concat(lst_df,sort=True)\n",
    "\n",
    "#pd.read_csv(\"/media/juliane_oliveira/My Passport/Datalake/SINAN/Dengue/DENGN17(OF).csv\", \n",
    "                #           low_memory=False,encoding=\"iso-8859-1\")"
   ]
  },
  {
   "cell_type": "code",
   "execution_count": 10,
   "metadata": {
    "scrolled": true
   },
   "outputs": [
    {
     "data": {
      "text/html": [
       "<div>\n",
       "<style scoped>\n",
       "    .dataframe tbody tr th:only-of-type {\n",
       "        vertical-align: middle;\n",
       "    }\n",
       "\n",
       "    .dataframe tbody tr th {\n",
       "        vertical-align: top;\n",
       "    }\n",
       "\n",
       "    .dataframe thead th {\n",
       "        text-align: right;\n",
       "    }\n",
       "</style>\n",
       "<table border=\"1\" class=\"dataframe\">\n",
       "  <thead>\n",
       "    <tr style=\"text-align: right;\">\n",
       "      <th></th>\n",
       "      <th>classi_fin</th>\n",
       "      <th>criterio</th>\n",
       "      <th>cs_escol_n</th>\n",
       "      <th>cs_gestant</th>\n",
       "      <th>cs_raca</th>\n",
       "      <th>cs_sexo</th>\n",
       "      <th>dt_notific</th>\n",
       "      <th>dt_sin_pri</th>\n",
       "      <th>id_mn_resi</th>\n",
       "      <th>nu_ano</th>\n",
       "      <th>nu_idade_n</th>\n",
       "      <th>nu_notific</th>\n",
       "      <th>sem_not</th>\n",
       "      <th>sem_pri</th>\n",
       "      <th>sg_uf</th>\n",
       "    </tr>\n",
       "  </thead>\n",
       "  <tbody>\n",
       "    <tr>\n",
       "      <th>0</th>\n",
       "      <td>5</td>\n",
       "      <td>2.0</td>\n",
       "      <td>5.0</td>\n",
       "      <td>5.0</td>\n",
       "      <td>4.0</td>\n",
       "      <td>F</td>\n",
       "      <td>2017-12-14T00:00:00.000-03:00</td>\n",
       "      <td>2017-12-13</td>\n",
       "      <td>120020.0</td>\n",
       "      <td>2017</td>\n",
       "      <td>4016</td>\n",
       "      <td>31830</td>\n",
       "      <td>201750</td>\n",
       "      <td>201750</td>\n",
       "      <td>12.0</td>\n",
       "    </tr>\n",
       "    <tr>\n",
       "      <th>1</th>\n",
       "      <td>5</td>\n",
       "      <td>2.0</td>\n",
       "      <td>5.0</td>\n",
       "      <td>5.0</td>\n",
       "      <td>4.0</td>\n",
       "      <td>F</td>\n",
       "      <td>2017-12-11T00:00:00.000-03:00</td>\n",
       "      <td>2017-12-10</td>\n",
       "      <td>120020.0</td>\n",
       "      <td>2017</td>\n",
       "      <td>4022</td>\n",
       "      <td>31793</td>\n",
       "      <td>201750</td>\n",
       "      <td>201750</td>\n",
       "      <td>12.0</td>\n",
       "    </tr>\n",
       "    <tr>\n",
       "      <th>2</th>\n",
       "      <td>5</td>\n",
       "      <td>1.0</td>\n",
       "      <td>2.0</td>\n",
       "      <td>6.0</td>\n",
       "      <td>4.0</td>\n",
       "      <td>M</td>\n",
       "      <td>2017-10-20T00:00:00.000-03:00</td>\n",
       "      <td>2017-10-19</td>\n",
       "      <td>120020.0</td>\n",
       "      <td>2017</td>\n",
       "      <td>4015</td>\n",
       "      <td>30058</td>\n",
       "      <td>201742</td>\n",
       "      <td>201742</td>\n",
       "      <td>12.0</td>\n",
       "    </tr>\n",
       "    <tr>\n",
       "      <th>3</th>\n",
       "      <td>5</td>\n",
       "      <td>2.0</td>\n",
       "      <td>5.0</td>\n",
       "      <td>5.0</td>\n",
       "      <td>4.0</td>\n",
       "      <td>F</td>\n",
       "      <td>2017-12-29T00:00:00.000-03:00</td>\n",
       "      <td>2017-12-27</td>\n",
       "      <td>120020.0</td>\n",
       "      <td>2017</td>\n",
       "      <td>4015</td>\n",
       "      <td>32537</td>\n",
       "      <td>201752</td>\n",
       "      <td>201752</td>\n",
       "      <td>12.0</td>\n",
       "    </tr>\n",
       "    <tr>\n",
       "      <th>4</th>\n",
       "      <td>5</td>\n",
       "      <td>1.0</td>\n",
       "      <td>1.0</td>\n",
       "      <td>5.0</td>\n",
       "      <td>4.0</td>\n",
       "      <td>F</td>\n",
       "      <td>2017-12-14T00:00:00.000-03:00</td>\n",
       "      <td>2017-12-12</td>\n",
       "      <td>120020.0</td>\n",
       "      <td>2017</td>\n",
       "      <td>4088</td>\n",
       "      <td>32593</td>\n",
       "      <td>201750</td>\n",
       "      <td>201750</td>\n",
       "      <td>12.0</td>\n",
       "    </tr>\n",
       "  </tbody>\n",
       "</table>\n",
       "</div>"
      ],
      "text/plain": [
       "   classi_fin  criterio  cs_escol_n  cs_gestant  cs_raca cs_sexo  \\\n",
       "0           5       2.0         5.0         5.0      4.0       F   \n",
       "1           5       2.0         5.0         5.0      4.0       F   \n",
       "2           5       1.0         2.0         6.0      4.0       M   \n",
       "3           5       2.0         5.0         5.0      4.0       F   \n",
       "4           5       1.0         1.0         5.0      4.0       F   \n",
       "\n",
       "                      dt_notific  dt_sin_pri  id_mn_resi  nu_ano  nu_idade_n  \\\n",
       "0  2017-12-14T00:00:00.000-03:00  2017-12-13    120020.0    2017        4016   \n",
       "1  2017-12-11T00:00:00.000-03:00  2017-12-10    120020.0    2017        4022   \n",
       "2  2017-10-20T00:00:00.000-03:00  2017-10-19    120020.0    2017        4015   \n",
       "3  2017-12-29T00:00:00.000-03:00  2017-12-27    120020.0    2017        4015   \n",
       "4  2017-12-14T00:00:00.000-03:00  2017-12-12    120020.0    2017        4088   \n",
       "\n",
       "   nu_notific  sem_not  sem_pri  sg_uf  \n",
       "0       31830   201750   201750   12.0  \n",
       "1       31793   201750   201750   12.0  \n",
       "2       30058   201742   201742   12.0  \n",
       "3       32537   201752   201752   12.0  \n",
       "4       32593   201750   201750   12.0  "
      ]
     },
     "execution_count": 10,
     "metadata": {},
     "output_type": "execute_result"
    }
   ],
   "source": [
    "SINAN_dengue.head()"
   ]
  },
  {
   "cell_type": "code",
   "execution_count": 11,
   "metadata": {},
   "outputs": [
    {
     "data": {
      "text/plain": [
       "array([5], dtype=int64)"
      ]
     },
     "execution_count": 11,
     "metadata": {},
     "output_type": "execute_result"
    }
   ],
   "source": [
    "SINAN_dengue['classi_fin'].unique()"
   ]
  },
  {
   "cell_type": "code",
   "execution_count": 12,
   "metadata": {},
   "outputs": [],
   "source": [
    "ano = SINAN_dengue[SINAN_dengue['nu_ano'] == 2013]"
   ]
  },
  {
   "cell_type": "code",
   "execution_count": 13,
   "metadata": {
    "scrolled": true
   },
   "outputs": [
    {
     "data": {
      "text/plain": [
       "array([5], dtype=int64)"
      ]
     },
     "execution_count": 13,
     "metadata": {},
     "output_type": "execute_result"
    }
   ],
   "source": [
    "ano['classi_fin'].unique()"
   ]
  },
  {
   "cell_type": "code",
   "execution_count": 14,
   "metadata": {},
   "outputs": [
    {
     "name": "stdout",
     "output_type": "stream",
     "text": [
      "<class 'pandas.core.frame.DataFrame'>\n",
      "Int64Index: 562263 entries, 0 to 342967\n",
      "Data columns (total 15 columns):\n",
      "classi_fin    562263 non-null int64\n",
      "criterio      562262 non-null float64\n",
      "cs_escol_n    448878 non-null float64\n",
      "cs_gestant    562159 non-null float64\n",
      "cs_raca       503219 non-null float64\n",
      "cs_sexo       562245 non-null object\n",
      "dt_notific    562263 non-null object\n",
      "dt_sin_pri    562263 non-null object\n",
      "id_mn_resi    562139 non-null float64\n",
      "nu_ano        562263 non-null int64\n",
      "nu_idade_n    562263 non-null int64\n",
      "nu_notific    562263 non-null int64\n",
      "sem_not       562263 non-null int64\n",
      "sem_pri       562263 non-null int64\n",
      "sg_uf         562157 non-null float64\n",
      "dtypes: float64(6), int64(6), object(3)\n",
      "memory usage: 68.6+ MB\n"
     ]
    }
   ],
   "source": [
    "ano.info()"
   ]
  },
  {
   "cell_type": "markdown",
   "metadata": {},
   "source": [
    "Disc 1:\n",
    "    \n",
    "    1 - Dengue Clássico\n",
    "    \n",
    "    2 - Dengue com Complicações\n",
    "    3 - Febre Hemorrágica do Dengue\n",
    "    – FHD\n",
    "    \n",
    "    4 – Síndrome do choque da\n",
    "    Dengue – SCD Inconclusivo, qual\n",
    "    é o código?\n",
    "    \n",
    "    5 - Descartado\n",
    "    \n",
    "Disc2:\n",
    "\n",
    "    5- Descartado \n",
    "    \n",
    "    10- Dengue \n",
    "    \n",
    "    11- Dengue com Sinais de Alarme\n",
    "    \n",
    "    12- Dengue Grave \n",
    "    \n",
    "    13- Chikungunya\n"
   ]
  },
  {
   "cell_type": "code",
   "execution_count": 15,
   "metadata": {},
   "outputs": [],
   "source": [
    "df = SINAN_dengue  #.drop(columns=['Unnamed: 0'])"
   ]
  },
  {
   "cell_type": "code",
   "execution_count": 16,
   "metadata": {},
   "outputs": [
    {
     "data": {
      "text/plain": [
       "Index(['classi_fin', 'criterio', 'cs_escol_n', 'cs_gestant', 'cs_raca',\n",
       "       'cs_sexo', 'dt_notific', 'dt_sin_pri', 'id_mn_resi', 'nu_ano',\n",
       "       'nu_idade_n', 'nu_notific', 'sem_not', 'sem_pri', 'sg_uf'],\n",
       "      dtype='object')"
      ]
     },
     "execution_count": 16,
     "metadata": {},
     "output_type": "execute_result"
    }
   ],
   "source": [
    "df.columns\n"
   ]
  },
  {
   "cell_type": "markdown",
   "metadata": {},
   "source": [
    "# In order to work with incidence of the disease by epidemiológical week, we will use the variable of \"sem_pri\". We start the process of cleaning this variable first. "
   ]
  },
  {
   "cell_type": "markdown",
   "metadata": {},
   "source": [
    "##### We can see that \"sem_pri\" has the same amount of value of the variables \"dt_notific\", \"sem_not\", \"dt_sin_pri\"., which is 4987, for the Chik database."
   ]
  },
  {
   "cell_type": "code",
   "execution_count": 17,
   "metadata": {},
   "outputs": [],
   "source": [
    "df1['sem_pri'] = df1['sem_pri'].fillna('000000')\n",
    "df1.sem_pri = df1.sem_pri.astype('int64')"
   ]
  },
  {
   "cell_type": "code",
   "execution_count": 18,
   "metadata": {},
   "outputs": [],
   "source": [
    "df['sem_pri'] = df['sem_pri'].fillna('000000')\n",
    "df.sem_pri = df.sem_pri.astype('int64')"
   ]
  },
  {
   "cell_type": "code",
   "execution_count": null,
   "metadata": {},
   "outputs": [],
   "source": [
    "#clean1 = df1[(df1['sem_pri'] < 201000)]\n",
    "#clean = df[(df['sem_pri'] < 201000)]"
   ]
  },
  {
   "cell_type": "code",
   "execution_count": null,
   "metadata": {
    "scrolled": true
   },
   "outputs": [],
   "source": [
    "#clean.info()"
   ]
  },
  {
   "cell_type": "markdown",
   "metadata": {},
   "source": [
    "##### As we can see, we have a loss of  % of values.  In the code as follow we clean this remaining data. "
   ]
  },
  {
   "cell_type": "code",
   "execution_count": 19,
   "metadata": {},
   "outputs": [],
   "source": [
    "for i in range(0,len(df1.sem_pri)):\n",
    "    if df1.iloc[i,13] < 201000: df1.iloc[i,13] = df1.iloc[i,12]"
   ]
  },
  {
   "cell_type": "code",
   "execution_count": 20,
   "metadata": {
    "scrolled": true
   },
   "outputs": [],
   "source": [
    "for i in range(0,len(df.sem_pri)):\n",
    "    if df.iloc[i,13] < 201000: df.iloc[i,13] = df.iloc[i,12]"
   ]
  },
  {
   "cell_type": "markdown",
   "metadata": {},
   "source": [
    "#### After cleaning the variable, we aim to plot the temporal series, per epidmiological week by correcting the variable: \"sem_pri\" and substituting wrong values by using the variable \"sem_pri\"."
   ]
  },
  {
   "cell_type": "code",
   "execution_count": 21,
   "metadata": {},
   "outputs": [],
   "source": [
    "df1['sem_pri'] = df1['sem_pri'].fillna('000000')\n",
    "df1.sem_pri = df1.sem_pri.astype('int64')"
   ]
  },
  {
   "cell_type": "code",
   "execution_count": 22,
   "metadata": {
    "scrolled": true
   },
   "outputs": [],
   "source": [
    "df['sem_pri'] = df['sem_pri'].fillna('000000')\n",
    "df.sem_pri = df.sem_pri.astype('int64')"
   ]
  },
  {
   "cell_type": "code",
   "execution_count": 23,
   "metadata": {},
   "outputs": [],
   "source": [
    "df1.sem_pri = df1.sem_pri.astype(str)\n",
    "\n",
    "sem_pri_corre = []\n",
    "for value in df1['sem_pri']:\n",
    "    if len(value) == 6: value =  value\n",
    "    elif len(value) == 4: value =   '20' + value[:2] + value[2:4] \n",
    "    elif len(value) == 1: value = '000000' \n",
    "    sem_pri_corre.extend([value])\n",
    "    \n",
    "df1['sem_pri'] = sem_pri_corre  "
   ]
  },
  {
   "cell_type": "code",
   "execution_count": 24,
   "metadata": {},
   "outputs": [],
   "source": [
    "df.sem_pri = df.sem_pri.astype(str)\n",
    "\n",
    "sem_pri_corre = []\n",
    "for value in df['sem_pri']:\n",
    "    if len(value) == 6: value =  value\n",
    "    elif len(value) == 4: value =   '20' + value[:2] + value[2:4] \n",
    "    elif len(value) == 1: value = '000000' \n",
    "    sem_pri_corre.extend([value])\n",
    "    \n",
    "df['sem_pri'] = sem_pri_corre  "
   ]
  },
  {
   "cell_type": "code",
   "execution_count": 25,
   "metadata": {
    "scrolled": true
   },
   "outputs": [
    {
     "data": {
      "text/html": [
       "<div>\n",
       "<style scoped>\n",
       "    .dataframe tbody tr th:only-of-type {\n",
       "        vertical-align: middle;\n",
       "    }\n",
       "\n",
       "    .dataframe tbody tr th {\n",
       "        vertical-align: top;\n",
       "    }\n",
       "\n",
       "    .dataframe thead th {\n",
       "        text-align: right;\n",
       "    }\n",
       "</style>\n",
       "<table border=\"1\" class=\"dataframe\">\n",
       "  <thead>\n",
       "    <tr style=\"text-align: right;\">\n",
       "      <th></th>\n",
       "      <th>sem_pri</th>\n",
       "      <th>Confirmed Cases of Dengue Brazil</th>\n",
       "    </tr>\n",
       "  </thead>\n",
       "  <tbody>\n",
       "    <tr>\n",
       "      <th>1</th>\n",
       "      <td>201001</td>\n",
       "      <td>25080</td>\n",
       "    </tr>\n",
       "    <tr>\n",
       "      <th>2</th>\n",
       "      <td>201002</td>\n",
       "      <td>22296</td>\n",
       "    </tr>\n",
       "    <tr>\n",
       "      <th>3</th>\n",
       "      <td>201003</td>\n",
       "      <td>22774</td>\n",
       "    </tr>\n",
       "    <tr>\n",
       "      <th>4</th>\n",
       "      <td>201004</td>\n",
       "      <td>25258</td>\n",
       "    </tr>\n",
       "    <tr>\n",
       "      <th>5</th>\n",
       "      <td>201005</td>\n",
       "      <td>28223</td>\n",
       "    </tr>\n",
       "  </tbody>\n",
       "</table>\n",
       "</div>"
      ],
      "text/plain": [
       "  sem_pri  Confirmed Cases of Dengue Brazil\n",
       "1  201001                             25080\n",
       "2  201002                             22296\n",
       "3  201003                             22774\n",
       "4  201004                             25258\n",
       "5  201005                             28223"
      ]
     },
     "execution_count": 25,
     "metadata": {},
     "output_type": "execute_result"
    }
   ],
   "source": [
    "data_conf = df1.groupby(['sem_pri']).size().to_frame(name = 'Confirmed Cases of Dengue Brazil').reset_index()\n",
    "data_conf = data_conf.drop([0])\n",
    "data_conf.head()"
   ]
  },
  {
   "cell_type": "code",
   "execution_count": null,
   "metadata": {},
   "outputs": [],
   "source": [
    "data_conf.to_csv('conf_dengue_brasil.csv')"
   ]
  },
  {
   "cell_type": "code",
   "execution_count": 26,
   "metadata": {},
   "outputs": [
    {
     "data": {
      "text/html": [
       "<div>\n",
       "<style scoped>\n",
       "    .dataframe tbody tr th:only-of-type {\n",
       "        vertical-align: middle;\n",
       "    }\n",
       "\n",
       "    .dataframe tbody tr th {\n",
       "        vertical-align: top;\n",
       "    }\n",
       "\n",
       "    .dataframe thead th {\n",
       "        text-align: right;\n",
       "    }\n",
       "</style>\n",
       "<table border=\"1\" class=\"dataframe\">\n",
       "  <thead>\n",
       "    <tr style=\"text-align: right;\">\n",
       "      <th></th>\n",
       "      <th>sem_pri</th>\n",
       "      <th>Discarded Cases of Dengue Brazil</th>\n",
       "    </tr>\n",
       "  </thead>\n",
       "  <tbody>\n",
       "    <tr>\n",
       "      <th>1</th>\n",
       "      <td>201001</td>\n",
       "      <td>7992</td>\n",
       "    </tr>\n",
       "    <tr>\n",
       "      <th>2</th>\n",
       "      <td>201002</td>\n",
       "      <td>6703</td>\n",
       "    </tr>\n",
       "    <tr>\n",
       "      <th>3</th>\n",
       "      <td>201003</td>\n",
       "      <td>7350</td>\n",
       "    </tr>\n",
       "    <tr>\n",
       "      <th>4</th>\n",
       "      <td>201004</td>\n",
       "      <td>8472</td>\n",
       "    </tr>\n",
       "    <tr>\n",
       "      <th>5</th>\n",
       "      <td>201005</td>\n",
       "      <td>9596</td>\n",
       "    </tr>\n",
       "  </tbody>\n",
       "</table>\n",
       "</div>"
      ],
      "text/plain": [
       "  sem_pri  Discarded Cases of Dengue Brazil\n",
       "1  201001                              7992\n",
       "2  201002                              6703\n",
       "3  201003                              7350\n",
       "4  201004                              8472\n",
       "5  201005                              9596"
      ]
     },
     "execution_count": 26,
     "metadata": {},
     "output_type": "execute_result"
    }
   ],
   "source": [
    "data = df.groupby(['sem_pri']).size().to_frame(name = 'Discarded Cases of Dengue Brazil').reset_index()\n",
    "data = data.drop([0])\n",
    "data.head()"
   ]
  },
  {
   "cell_type": "code",
   "execution_count": 27,
   "metadata": {},
   "outputs": [],
   "source": [
    "data_conf.set_index('sem_pri', inplace=True)\n",
    "data_conf;"
   ]
  },
  {
   "cell_type": "code",
   "execution_count": 28,
   "metadata": {},
   "outputs": [],
   "source": [
    "data.set_index('sem_pri', inplace=True)\n",
    "data;"
   ]
  },
  {
   "cell_type": "code",
   "execution_count": 29,
   "metadata": {},
   "outputs": [],
   "source": [
    "y = []\n",
    "for value in df1['sem_pri']:\n",
    "    ano = int(str(value)[:4])\n",
    "    y.extend([ano])"
   ]
  },
  {
   "cell_type": "code",
   "execution_count": 30,
   "metadata": {},
   "outputs": [],
   "source": [
    "df1['year'] = y"
   ]
  },
  {
   "cell_type": "code",
   "execution_count": 31,
   "metadata": {},
   "outputs": [],
   "source": [
    "year = []\n",
    "for value in df['sem_pri']:\n",
    "    ano = int(str(value)[:4])\n",
    "    year.extend([ano])"
   ]
  },
  {
   "cell_type": "code",
   "execution_count": 32,
   "metadata": {},
   "outputs": [],
   "source": [
    "df['year'] = year "
   ]
  },
  {
   "cell_type": "code",
   "execution_count": 33,
   "metadata": {},
   "outputs": [
    {
     "data": {
      "text/html": [
       "<div>\n",
       "<style scoped>\n",
       "    .dataframe tbody tr th:only-of-type {\n",
       "        vertical-align: middle;\n",
       "    }\n",
       "\n",
       "    .dataframe tbody tr th {\n",
       "        vertical-align: top;\n",
       "    }\n",
       "\n",
       "    .dataframe thead th {\n",
       "        text-align: right;\n",
       "    }\n",
       "</style>\n",
       "<table border=\"1\" class=\"dataframe\">\n",
       "  <thead>\n",
       "    <tr style=\"text-align: right;\">\n",
       "      <th></th>\n",
       "      <th>classi_fin</th>\n",
       "      <th>criterio</th>\n",
       "      <th>cs_escol_n</th>\n",
       "      <th>cs_gestant</th>\n",
       "      <th>cs_raca</th>\n",
       "      <th>cs_sexo</th>\n",
       "      <th>dt_notific</th>\n",
       "      <th>dt_sin_pri</th>\n",
       "      <th>id_mn_resi</th>\n",
       "      <th>nu_ano</th>\n",
       "      <th>nu_idade_n</th>\n",
       "      <th>nu_notific</th>\n",
       "      <th>sem_not</th>\n",
       "      <th>sem_pri</th>\n",
       "      <th>sg_uf</th>\n",
       "      <th>year</th>\n",
       "    </tr>\n",
       "  </thead>\n",
       "  <tbody>\n",
       "    <tr>\n",
       "      <th>0</th>\n",
       "      <td>1</td>\n",
       "      <td>2.0</td>\n",
       "      <td>3.0</td>\n",
       "      <td>6.0</td>\n",
       "      <td>4.0</td>\n",
       "      <td>M</td>\n",
       "      <td>2010-01-29</td>\n",
       "      <td>2010-01-25</td>\n",
       "      <td>510340.0</td>\n",
       "      <td>2010</td>\n",
       "      <td>4044</td>\n",
       "      <td>0766206</td>\n",
       "      <td>201004</td>\n",
       "      <td>201004</td>\n",
       "      <td>51.0</td>\n",
       "      <td>2010</td>\n",
       "    </tr>\n",
       "    <tr>\n",
       "      <th>1</th>\n",
       "      <td>1</td>\n",
       "      <td>2.0</td>\n",
       "      <td>6.0</td>\n",
       "      <td>6.0</td>\n",
       "      <td>4.0</td>\n",
       "      <td>M</td>\n",
       "      <td>2010-01-29</td>\n",
       "      <td>2010-01-25</td>\n",
       "      <td>510340.0</td>\n",
       "      <td>2010</td>\n",
       "      <td>4027</td>\n",
       "      <td>0766205</td>\n",
       "      <td>201004</td>\n",
       "      <td>201004</td>\n",
       "      <td>51.0</td>\n",
       "      <td>2010</td>\n",
       "    </tr>\n",
       "    <tr>\n",
       "      <th>2</th>\n",
       "      <td>1</td>\n",
       "      <td>2.0</td>\n",
       "      <td>9.0</td>\n",
       "      <td>6.0</td>\n",
       "      <td>9.0</td>\n",
       "      <td>M</td>\n",
       "      <td>2010-01-31</td>\n",
       "      <td>2010-01-25</td>\n",
       "      <td>510340.0</td>\n",
       "      <td>2010</td>\n",
       "      <td>4029</td>\n",
       "      <td>0766216</td>\n",
       "      <td>201005</td>\n",
       "      <td>201004</td>\n",
       "      <td>51.0</td>\n",
       "      <td>2010</td>\n",
       "    </tr>\n",
       "    <tr>\n",
       "      <th>3</th>\n",
       "      <td>1</td>\n",
       "      <td>2.0</td>\n",
       "      <td>NaN</td>\n",
       "      <td>9.0</td>\n",
       "      <td>2.0</td>\n",
       "      <td>F</td>\n",
       "      <td>2010-01-31</td>\n",
       "      <td>2010-01-17</td>\n",
       "      <td>510340.0</td>\n",
       "      <td>2010</td>\n",
       "      <td>4067</td>\n",
       "      <td>0766209</td>\n",
       "      <td>201005</td>\n",
       "      <td>201003</td>\n",
       "      <td>51.0</td>\n",
       "      <td>2010</td>\n",
       "    </tr>\n",
       "    <tr>\n",
       "      <th>4</th>\n",
       "      <td>1</td>\n",
       "      <td>2.0</td>\n",
       "      <td>3.0</td>\n",
       "      <td>5.0</td>\n",
       "      <td>NaN</td>\n",
       "      <td>F</td>\n",
       "      <td>2010-01-26</td>\n",
       "      <td>2010-01-18</td>\n",
       "      <td>510340.0</td>\n",
       "      <td>2010</td>\n",
       "      <td>4013</td>\n",
       "      <td>0767313</td>\n",
       "      <td>201004</td>\n",
       "      <td>201003</td>\n",
       "      <td>51.0</td>\n",
       "      <td>2010</td>\n",
       "    </tr>\n",
       "  </tbody>\n",
       "</table>\n",
       "</div>"
      ],
      "text/plain": [
       "   classi_fin  criterio  cs_escol_n  cs_gestant  cs_raca cs_sexo  dt_notific  \\\n",
       "0           1       2.0         3.0         6.0      4.0       M  2010-01-29   \n",
       "1           1       2.0         6.0         6.0      4.0       M  2010-01-29   \n",
       "2           1       2.0         9.0         6.0      9.0       M  2010-01-31   \n",
       "3           1       2.0         NaN         9.0      2.0       F  2010-01-31   \n",
       "4           1       2.0         3.0         5.0      NaN       F  2010-01-26   \n",
       "\n",
       "   dt_sin_pri  id_mn_resi  nu_ano  nu_idade_n nu_notific  sem_not sem_pri  \\\n",
       "0  2010-01-25    510340.0    2010        4044    0766206   201004  201004   \n",
       "1  2010-01-25    510340.0    2010        4027    0766205   201004  201004   \n",
       "2  2010-01-25    510340.0    2010        4029    0766216   201005  201004   \n",
       "3  2010-01-17    510340.0    2010        4067    0766209   201005  201003   \n",
       "4  2010-01-18    510340.0    2010        4013    0767313   201004  201003   \n",
       "\n",
       "   sg_uf  year  \n",
       "0   51.0  2010  \n",
       "1   51.0  2010  \n",
       "2   51.0  2010  \n",
       "3   51.0  2010  \n",
       "4   51.0  2010  "
      ]
     },
     "execution_count": 33,
     "metadata": {},
     "output_type": "execute_result"
    }
   ],
   "source": [
    "df1.head(5)"
   ]
  },
  {
   "cell_type": "code",
   "execution_count": null,
   "metadata": {},
   "outputs": [],
   "source": [
    "df1.to_csv('dengue_confirmed_br_clean.csv')"
   ]
  },
  {
   "cell_type": "code",
   "execution_count": null,
   "metadata": {},
   "outputs": [],
   "source": [
    "df.to_csv('dengue_discarded_br_clean.csv')"
   ]
  },
  {
   "cell_type": "code",
   "execution_count": 34,
   "metadata": {},
   "outputs": [],
   "source": [
    "conf_dengue = df1\n",
    "disc_dengue = df"
   ]
  },
  {
   "cell_type": "code",
   "execution_count": 35,
   "metadata": {},
   "outputs": [],
   "source": [
    "conf_dengue = conf_dengue[conf_dengue['year'] <=2017]"
   ]
  },
  {
   "cell_type": "markdown",
   "metadata": {},
   "source": [
    "Dengue Confimado \t2010\t2011\t2012\t2013\t2014\t2015\t2016\t2017\n",
    "\t851325\t589753\t395819\t1181960\t466526\t1365722\t474284\t164396\n",
    "\t14114\t8206\t3643\t6003\t8719\t22188\t2053\t2864\n",
    "\t3807\t3058\t1084\t1407\t813\t1874\t305\t344\n",
    "\t869246\t601017\t400546\t1189370\t476058\t1389784\t476642\t167604\n"
   ]
  },
  {
   "cell_type": "code",
   "execution_count": 30,
   "metadata": {
    "scrolled": true
   },
   "outputs": [
    {
     "data": {
      "text/plain": [
       "80.7"
      ]
     },
     "execution_count": 30,
     "metadata": {},
     "output_type": "execute_result"
    }
   ],
   "source": [
    "round(167604*100000/sum(pop.POP2017),1)"
   ]
  },
  {
   "cell_type": "code",
   "execution_count": 22,
   "metadata": {},
   "outputs": [
    {
     "data": {
      "text/plain": [
       "190755799.0"
      ]
     },
     "execution_count": 22,
     "metadata": {},
     "output_type": "execute_result"
    }
   ],
   "source": [
    "sum(pop.POP2010)"
   ]
  },
  {
   "cell_type": "markdown",
   "metadata": {},
   "source": [
    "|      | Yearly Chikungunya Incidence (per 100,000 hab.) of Brazil |          |                            |\n",
    "|------|----------------------------------------------|----------|----------------------------|\n",
    "| year | N. of cases                                      | Pop       | Incidence  |\n",
    "| 2010 | 869246                                           | 190755799 | 455.7      |\n",
    "| 2011 | 601017                                           | 192376496 |  312.4     |\n",
    "| 2012 | 400546                                           | 193946886 |  206.5     |\n",
    "| 2013 | 1189370                                          | 201032714 |  591.6     |\n",
    "| 2014 | 476058                                           | 204450049 |  234.8     |\n",
    "| 2015 | 1389784                                          | 204450049 |  679.8     |\n",
    "| 2016 | 476642                                           | 206081432 |  231.3     |\n",
    "| 2017 | 167604                                           | 207660929 |  80.7      |"
   ]
  },
  {
   "cell_type": "code",
   "execution_count": null,
   "metadata": {},
   "outputs": [],
   "source": []
  },
  {
   "cell_type": "code",
   "execution_count": 36,
   "metadata": {},
   "outputs": [],
   "source": [
    "disc_dengue = disc_dengue[disc_dengue['year'] <=2017]"
   ]
  },
  {
   "cell_type": "markdown",
   "metadata": {},
   "source": [
    "# Plot of confirmed and discarded Dengue cases in Brazil"
   ]
  },
  {
   "cell_type": "code",
   "execution_count": 37,
   "metadata": {},
   "outputs": [
    {
     "data": {
      "image/png": "[encoded data removed]",
      "text/plain": [
       "<Figure size 1440x720 with 1 Axes>"
      ]
     },
     "metadata": {},
     "output_type": "display_data"
    }
   ],
   "source": [
    "ax = data_conf.plot(figsize=(20,10), linewidth=5, fontsize=32)\n",
    "data.plot(ax=ax,figsize=(20,10), linewidth=5, fontsize=32)\n",
    "plt.xlabel('Week', fontsize=28)\n",
    "plt.ylabel('Number of Cases', fontsize=32)\n",
    "plt.legend(loc=1, prop={'size': 20})\n",
    "plt.savefig('Brazil_conf_dis_dengue.png')"
   ]
  },
  {
   "cell_type": "markdown",
   "metadata": {},
   "source": [
    "# Read POP data"
   ]
  },
  {
   "cell_type": "code",
   "execution_count": 3,
   "metadata": {},
   "outputs": [],
   "source": [
    "pop = pd.read_csv('POPULATION.csv', low_memory = False, encoding=\"iso-8859-1\")\n",
    "pop= pop.drop(columns=['Unnamed: 0'])"
   ]
  },
  {
   "cell_type": "code",
   "execution_count": 20,
   "metadata": {
    "scrolled": true
   },
   "outputs": [],
   "source": [
    "pop=pop.fillna(0)"
   ]
  },
  {
   "cell_type": "code",
   "execution_count": 31,
   "metadata": {},
   "outputs": [],
   "source": [
    "south_POP2018= 11348937+11329605+7075494\n",
    "south_POP2017= 11320892+11322895+7001161\n",
    "south_POP2016= 11242720+11286500+6910553\n",
    "south_POP2015= 11163018+11247972+6819190\n",
    "south_POP2014= 11081692+11207274+6727148\n",
    "south_POP2013= 10997465+6634254+11164043\n",
    "south_POP2012= 10577755+6383286+10770603\n",
    "south_POP2011= 1.05122e+07+6.31691e+06+1.07328e+07\n",
    "south_POP2010= 1.04445e+07+6.24844e+06+1.06939e+07"
   ]
  },
  {
   "cell_type": "code",
   "execution_count": 32,
   "metadata": {},
   "outputs": [],
   "source": [
    "southeast_POP2018= 17159960+21040662+45538936+3972388\n",
    "southeast_POP2017= 16718956+21119536+45094866+4016356\n",
    "southeast_POP2016= 16635996+20997560+44749699+3973697\n",
    "southeast_POP2015= 16550024+20869101+44396484+3929911\n",
    "southeast_POP2014= 16461173+20734097+44035304+3885049\n",
    "southeast_POP2013= 43663669+20593356+16369179+3839366\n",
    "southeast_POP2012= 41901219+19855332+16231365+3578067\n",
    "southeast_POP2011= 4.15869e+07+1.97283e+07+1.61126e+07+3.54701e+06\n",
    "southeast_POP2010= 4.12622e+07+1.95973e+07+1.59899e+07+3.51495e+06"
   ]
  },
  {
   "cell_type": "code",
   "execution_count": 33,
   "metadata": {},
   "outputs": [],
   "source": [
    "north_POP2018 = 1555229+8513497+4080611+869265+1757589+576568+829494\n",
    "north_POP2017 = 1550194+8366628+4063614+829619+1805788+522636+797722\n",
    "north_POP2016 = 1532902+8272724+4001667+816687+1787279+514229+782295\n",
    "north_POP2015 = 1515126+8175113+3938336+803513+1768204+505665+766679\n",
    "north_POP2014 = 8073924+3873743+1496880+1748531+750912+496936+790101\n",
    "north_POP2013 = 7969654+488072+1478164+734996+1728214+776463+3807921\n",
    "north_POP2012 = 7792561+469524+1417694+698602+1590011+758786+3590985\n",
    "north_POP2011 = 7.68853e+06+460157+1.40081e+06+684301+1.57642e+06+746375+3.53836e+06\n",
    "north_POP2010 = 7.58105e+06+450479+1.38344e+06+669526+1.56241e+06+733559+3.48398e+06"
   ]
  },
  {
   "cell_type": "code",
   "execution_count": 34,
   "metadata": {},
   "outputs": [],
   "source": [
    "northeast_POP2018 = 14812617+3322820+9075649+7035055+3479010+3996496+9496294+2278308+3264531\n",
    "northeast_POP2017 = 15344447+3375823+9020460+7000229+3507003+4025558+9473266+2288116+3219257\n",
    "northeast_POP2016 = 15276566+3358963+8963663+6954036+3474998+3999415+9410336+2265779+3212180\n",
    "northeast_POP2015 = 15203334+ 3340932+8904459+6904241+3442175+3972202+9345173+2242937+3204028     \n",
    "northeast_POP2014 = 8842791+9277727+15126371+6850884+3321730+3943885+3194718+3408510+2219574\n",
    "northeast_POP2013 = 8778576+9208550+15044137+6794301+3300935+3914421+3184166+3373959+2195662\n",
    "northeast_POP2012 = 8606005+8931028+14175341+6714314+3165472+3815171+3160748+3228198+2110867\n",
    "northeast_POP2011 = 8.53006e+06+8.8648e+06+1.40973e+07+6.64566e+06+3.14334e+06+3.7912e+06+3.14021e+06+3.19857e+06+2.08978e+06\n",
    "northeast_POP2010 = 8.45238e+06+8.79645e+06+1.40169e+07+6.57479e+06+3.12049e+06+3.76653e+06+3.11836e+06+3.16803e+06+2.06802e+06"
   ]
  },
  {
   "cell_type": "code",
   "execution_count": 35,
   "metadata": {},
   "outputs": [],
   "source": [
    "midwest_POP2018 = 2974703 +6921161+2748023 +3441998 \n",
    "midwest_POP2017 = 3039444+6778772+2713147+3344544\n",
    "midwest_POP2016 = 2977216+6695855+2682386+3305531\n",
    "midwest_POP2015 = 2914830+6610681+2651235+3265486     \n",
    "midwest_POP2014 = 3224357+2619657+2852372+6523222\n",
    "midwest_POP2013 = 3182113+2587269+2789761+6434048\n",
    "midwest_POP2012 =  3115336+2505088+2648532+6154996\n",
    "midwest_POP2011 = 3.07586e+06+2.4775e+06+2.61e+06+6.08059e+06\n",
    "midwest_POP2010 = 3.03512e+06+2.44902e+06+2.57016e+06+6.00379e+06                                   "
   ]
  },
  {
   "cell_type": "code",
   "execution_count": 45,
   "metadata": {},
   "outputs": [],
   "source": [
    "### Discarded dataset with populational data\n",
    "conf_dengue_pop = conf_dengue.set_index('id_mn_resi').join(pop.set_index('codmunres')).reset_index()"
   ]
  },
  {
   "cell_type": "code",
   "execution_count": 46,
   "metadata": {},
   "outputs": [],
   "source": [
    "### Discarded dataset with populational data\n",
    "disc_dengue_pop = disc_dengue.set_index('id_mn_resi').join(pop.set_index('codmunres')).reset_index()"
   ]
  },
  {
   "cell_type": "code",
   "execution_count": null,
   "metadata": {},
   "outputs": [],
   "source": [
    "conf_dengue_pop.to_csv('conf_dengue_pop.csv')"
   ]
  },
  {
   "cell_type": "code",
   "execution_count": null,
   "metadata": {},
   "outputs": [],
   "source": [
    "disc_dengue_pop.to_csv('disc_dengue_pop.csv')"
   ]
  },
  {
   "cell_type": "markdown",
   "metadata": {},
   "source": [
    "#  Cases by region"
   ]
  },
  {
   "cell_type": "markdown",
   "metadata": {},
   "source": [
    "# Midwest  \n",
    "Goiás, Mato Grosso e Mato Grosso do Sul, mais o Distrito Federal,"
   ]
  },
  {
   "cell_type": "code",
   "execution_count": 47,
   "metadata": {},
   "outputs": [],
   "source": [
    "midwest_dengue_conf = conf_dengue_pop[(conf_dengue_pop.UF == 'DF') | (conf_dengue_pop.UF == 'GO') | (conf_dengue_pop.UF == 'MS') | (conf_dengue_pop.UF == 'MT')]"
   ]
  },
  {
   "cell_type": "code",
   "execution_count": 48,
   "metadata": {
    "scrolled": true
   },
   "outputs": [],
   "source": [
    "midwest_dengue_disc = disc_dengue_pop[(disc_dengue_pop.UF == 'DF') | (disc_dengue_pop.UF == 'GO') | (disc_dengue_pop.UF == 'MS') | (disc_dengue_pop.UF == 'MT')]"
   ]
  },
  {
   "cell_type": "code",
   "execution_count": 49,
   "metadata": {},
   "outputs": [
    {
     "data": {
      "text/plain": [
       "GO    434282\n",
       "MS    143485\n",
       "MT    135355\n",
       "DF     46659\n",
       "Name: UF, dtype: int64"
      ]
     },
     "execution_count": 49,
     "metadata": {},
     "output_type": "execute_result"
    }
   ],
   "source": [
    "midwest_dengue_conf['UF'].value_counts()"
   ]
  },
  {
   "cell_type": "code",
   "execution_count": 50,
   "metadata": {},
   "outputs": [
    {
     "data": {
      "text/plain": [
       "GO    134892\n",
       "MS     84441\n",
       "MT     50068\n",
       "DF     25773\n",
       "Name: UF, dtype: int64"
      ]
     },
     "execution_count": 50,
     "metadata": {},
     "output_type": "execute_result"
    }
   ],
   "source": [
    "midwest_dengue_disc['UF'].value_counts()"
   ]
  },
  {
   "cell_type": "code",
   "execution_count": 51,
   "metadata": {},
   "outputs": [],
   "source": [
    "data11 = midwest_dengue_conf.groupby(['sem_pri']).size().to_frame(name = 'Confirmed_dengue_midwest').reset_index()\n",
    "data11 = data11.drop([0])"
   ]
  },
  {
   "cell_type": "code",
   "execution_count": 52,
   "metadata": {},
   "outputs": [],
   "source": [
    "data21 = midwest_dengue_disc.groupby(['sem_pri']).size().to_frame(name = 'Discarded_dengue_midwest').reset_index()\n",
    "data21 = data21.drop([0])"
   ]
  },
  {
   "cell_type": "code",
   "execution_count": null,
   "metadata": {},
   "outputs": [],
   "source": [
    "data11.to_csv('conf_dengue_midwest.csv')"
   ]
  },
  {
   "cell_type": "code",
   "execution_count": null,
   "metadata": {},
   "outputs": [],
   "source": [
    "data21.to_csv('dis_dengue_midwest.csv')"
   ]
  },
  {
   "cell_type": "code",
   "execution_count": 53,
   "metadata": {
    "scrolled": true
   },
   "outputs": [
    {
     "data": {
      "text/plain": [
       "2013    180750\n",
       "2010    178810\n",
       "2015    157167\n",
       "2014     92939\n",
       "2012     58618\n",
       "2017     58385\n",
       "2011     31588\n",
       "2009       937\n",
       "2016       587\n",
       "Name: year, dtype: int64"
      ]
     },
     "execution_count": 53,
     "metadata": {},
     "output_type": "execute_result"
    }
   ],
   "source": [
    "midwest_dengue_conf.year.value_counts()"
   ]
  },
  {
   "cell_type": "code",
   "execution_count": 47,
   "metadata": {
    "scrolled": true
   },
   "outputs": [
    {
     "data": {
      "text/plain": [
       "367.8"
      ]
     },
     "execution_count": 47,
     "metadata": {},
     "output_type": "execute_result"
    }
   ],
   "source": [
    "round(58385*100000/midwest_POP2017,1)"
   ]
  },
  {
   "cell_type": "code",
   "execution_count": 39,
   "metadata": {},
   "outputs": [
    {
     "data": {
      "text/plain": [
       "14993191"
      ]
     },
     "execution_count": 39,
     "metadata": {},
     "output_type": "execute_result"
    }
   ],
   "source": [
    "midwest_POP2013"
   ]
  },
  {
   "cell_type": "markdown",
   "metadata": {},
   "source": [
    "|      | Yearly Dengue Incidence (per 100,000 hab.) of Midwest |          |                            |\n",
    "|------|----------------------------------------------|----------|----------------------------|\n",
    "| year | N. of cases                               | Pop      | Incidence  |\n",
    "| 2010 | 178810                                    | 14058090 |  1271.9                      |\n",
    "| 2011 | 31588                                     | 14243950 |  221.8                      |\n",
    "| 2012 | 58618                                     | 14423952 |  406.4                      |\n",
    "| 2013 | 180750                                    | 14993191 |  1205.5                      |\n",
    "| 2014 | 92939                                     | 15219608 |  610.7                      |\n",
    "| 2015 | 157167                                    | 15442232 |  1017.8                     |\n",
    "| 2016 | 587                                       | 15660988 |  3.7                     |\n",
    "| 2017 | 58385                                     | 15875907 |  367.8                     |"
   ]
  },
  {
   "cell_type": "code",
   "execution_count": null,
   "metadata": {},
   "outputs": [],
   "source": []
  },
  {
   "cell_type": "code",
   "execution_count": 54,
   "metadata": {
    "scrolled": false
   },
   "outputs": [
    {
     "data": {
      "text/plain": [
       "2013    64419\n",
       "2015    60348\n",
       "2010    45980\n",
       "2014    43977\n",
       "2012    30028\n",
       "2017    27054\n",
       "2011    22877\n",
       "2016      337\n",
       "2009      154\n",
       "Name: year, dtype: int64"
      ]
     },
     "execution_count": 54,
     "metadata": {},
     "output_type": "execute_result"
    }
   ],
   "source": [
    "midwest_dengue_disc.year.value_counts()"
   ]
  },
  {
   "cell_type": "code",
   "execution_count": 55,
   "metadata": {},
   "outputs": [],
   "source": [
    "filename = []\n",
    "for ano in [2018,2017,2016,2015,2014,2013,2012,2011,2010]:\n",
    "    value = midwest_dengue_conf[midwest_dengue_conf.year == ano]\n",
    "    filename.extend([value])"
   ]
  },
  {
   "cell_type": "code",
   "execution_count": 56,
   "metadata": {},
   "outputs": [],
   "source": [
    "filename_inci = []\n",
    "for file in filename:\n",
    "    dataframe = file.groupby(['sem_pri']).size().to_frame(name = 'Confirmed_dengue_midwest').reset_index()\n",
    "    filename_inci.extend([dataframe])"
   ]
  },
  {
   "cell_type": "code",
   "execution_count": 57,
   "metadata": {},
   "outputs": [],
   "source": [
    "midwest2018 = filename_inci[0]\n",
    "midwest2017 = filename_inci[1]\n",
    "midwest2016 = filename_inci[2]\n",
    "midwest2015 = filename_inci[3]\n",
    "midwest2014 = filename_inci[4]\n",
    "midwest2013 = filename_inci[5]\n",
    "midwest2012 = filename_inci[6]\n",
    "midwest2011 = filename_inci[7]\n",
    "midwest2010 = filename_inci[8]"
   ]
  },
  {
   "cell_type": "code",
   "execution_count": 58,
   "metadata": {},
   "outputs": [],
   "source": [
    "midwest2018['inc'] = midwest2018.Confirmed_dengue_midwest*100000/midwest_POP2018 \n",
    "midwest2017['inc'] = midwest2017.Confirmed_dengue_midwest*100000/midwest_POP2017\n",
    "midwest2016['inc'] = midwest2016.Confirmed_dengue_midwest*100000/midwest_POP2016 \n",
    "midwest2015['inc'] = midwest2015.Confirmed_dengue_midwest*100000/midwest_POP2015\n",
    "midwest2014['inc'] = midwest2014.Confirmed_dengue_midwest*100000/midwest_POP2014\n",
    "midwest2013['inc'] = midwest2013.Confirmed_dengue_midwest*100000/midwest_POP2013\n",
    "midwest2012['inc'] = midwest2012.Confirmed_dengue_midwest*100000/midwest_POP2012\n",
    "midwest2011['inc'] = midwest2011.Confirmed_dengue_midwest*100000/midwest_POP2011\n",
    "midwest2010['inc'] = midwest2010.Confirmed_dengue_midwest*100000/midwest_POP2010"
   ]
  },
  {
   "cell_type": "code",
   "execution_count": null,
   "metadata": {
    "scrolled": true
   },
   "outputs": [],
   "source": []
  },
  {
   "cell_type": "code",
   "execution_count": 59,
   "metadata": {},
   "outputs": [],
   "source": [
    "midwest = pd.concat([midwest2010,midwest2011,midwest2012,midwest2013,midwest2014,midwest2015, midwest2016,midwest2017,midwest2018],sort=True)"
   ]
  },
  {
   "cell_type": "code",
   "execution_count": 60,
   "metadata": {
    "scrolled": true
   },
   "outputs": [],
   "source": [
    "midwest.rename(columns={'inc':'Midwest'}, inplace=True)"
   ]
  },
  {
   "cell_type": "code",
   "execution_count": 61,
   "metadata": {},
   "outputs": [
    {
     "data": {
      "text/plain": [
       "Index(['Confirmed_dengue_midwest', 'Midwest', 'sem_pri'], dtype='object')"
      ]
     },
     "execution_count": 61,
     "metadata": {},
     "output_type": "execute_result"
    }
   ],
   "source": [
    "midwest.columns"
   ]
  },
  {
   "cell_type": "markdown",
   "metadata": {},
   "source": [
    "# Northeast\n",
    " Alagoas, Bahia, Ceará, Maranhão, Paraíba, Piauí, Pernambuco, Rio Grande do Norte e Sergipe"
   ]
  },
  {
   "cell_type": "code",
   "execution_count": 62,
   "metadata": {},
   "outputs": [],
   "source": [
    "northeast_dengue_conf = conf_dengue_pop[(conf_dengue_pop.UF == 'AL') | (conf_dengue_pop.UF == 'BA') | (conf_dengue_pop.UF == 'CE') | (conf_dengue_pop.UF == 'MA') | (conf_dengue_pop.UF == 'PB') | (conf_dengue_pop.UF == 'PE') | (conf_dengue_pop.UF == 'PI') | (conf_dengue_pop.UF == 'RN') | (conf_dengue_pop.UF == 'SE')]"
   ]
  },
  {
   "cell_type": "code",
   "execution_count": 63,
   "metadata": {},
   "outputs": [],
   "source": [
    "northeast_dengue_disc = disc_dengue_pop[(disc_dengue_pop.UF == 'AL') | (disc_dengue_pop.UF == 'BA') | (disc_dengue_pop.UF == 'CE') | (disc_dengue_pop.UF == 'MA') | (disc_dengue_pop.UF == 'PB') | (disc_dengue_pop.UF == 'PE') | (disc_dengue_pop.UF == 'PI') | (disc_dengue_pop.UF == 'RN') | (disc_dengue_pop.UF == 'SE')]"
   ]
  },
  {
   "cell_type": "code",
   "execution_count": 64,
   "metadata": {},
   "outputs": [
    {
     "data": {
      "text/plain": [
       "CE    259856\n",
       "PE    199043\n",
       "BA    166994\n",
       "AL    115330\n",
       "RN     52481\n",
       "PI     49805\n",
       "PB     49271\n",
       "MA     33358\n",
       "SE     17003\n",
       "Name: UF, dtype: int64"
      ]
     },
     "execution_count": 64,
     "metadata": {},
     "output_type": "execute_result"
    }
   ],
   "source": [
    "northeast_dengue_conf['UF'].value_counts()"
   ]
  },
  {
   "cell_type": "code",
   "execution_count": 65,
   "metadata": {},
   "outputs": [
    {
     "data": {
      "text/plain": [
       "PE    218281\n",
       "CE    185380\n",
       "BA    119809\n",
       "AL     28449\n",
       "RN     27754\n",
       "PB     22314\n",
       "PI     21469\n",
       "SE     20334\n",
       "MA      9803\n",
       "Name: UF, dtype: int64"
      ]
     },
     "execution_count": 65,
     "metadata": {},
     "output_type": "execute_result"
    }
   ],
   "source": [
    "northeast_dengue_disc['UF'].value_counts()"
   ]
  },
  {
   "cell_type": "code",
   "execution_count": 66,
   "metadata": {},
   "outputs": [],
   "source": [
    "data12 = northeast_dengue_conf.groupby(['sem_pri']).size().to_frame(name = 'Confirmed_dengue_northeast').reset_index()\n",
    "data12 = data12.drop([0])"
   ]
  },
  {
   "cell_type": "code",
   "execution_count": 67,
   "metadata": {},
   "outputs": [],
   "source": [
    "data22 = northeast_dengue_disc.groupby(['sem_pri']).size().to_frame(name = 'Discarded_dengue_northeast').reset_index()\n",
    "data22 = data22.drop([0])"
   ]
  },
  {
   "cell_type": "code",
   "execution_count": null,
   "metadata": {},
   "outputs": [],
   "source": [
    "data12.to_csv('conf_dengue_northeast.csv')"
   ]
  },
  {
   "cell_type": "code",
   "execution_count": null,
   "metadata": {},
   "outputs": [],
   "source": [
    "data22.to_csv('dis_dengue_northeast.csv')"
   ]
  },
  {
   "cell_type": "code",
   "execution_count": 68,
   "metadata": {
    "scrolled": true
   },
   "outputs": [
    {
     "data": {
      "text/plain": [
       "2015    221165\n",
       "2012    175071\n",
       "2011    144655\n",
       "2010    135985\n",
       "2013    108780\n",
       "2014     62022\n",
       "2017     53909\n",
       "2016     41495\n",
       "2009        59\n",
       "Name: year, dtype: int64"
      ]
     },
     "execution_count": 68,
     "metadata": {},
     "output_type": "execute_result"
    }
   ],
   "source": [
    "northeast_dengue_conf.year.value_counts()"
   ]
  },
  {
   "cell_type": "code",
   "execution_count": 59,
   "metadata": {
    "scrolled": false
   },
   "outputs": [
    {
     "data": {
      "text/plain": [
       "94.2"
      ]
     },
     "execution_count": 59,
     "metadata": {},
     "output_type": "execute_result"
    }
   ],
   "source": [
    "round(53909*100000/northeast_POP2017,1)"
   ]
  },
  {
   "cell_type": "code",
   "execution_count": 51,
   "metadata": {
    "scrolled": true
   },
   "outputs": [
    {
     "data": {
      "text/plain": [
       "53081950.0"
      ]
     },
     "execution_count": 51,
     "metadata": {},
     "output_type": "execute_result"
    }
   ],
   "source": [
    "northeast_POP2010"
   ]
  },
  {
   "cell_type": "markdown",
   "metadata": {},
   "source": [
    "|      | Yearly Dengue Incidence (per 100,000 hab.) of Northeast |          |                            |\n",
    "|------|----------------------------------------------|----------|----------------------------|\n",
    "| year | N. of cases                                  | Pop      | Incidence  |\n",
    "| 2010 |  135985                                           | 53081950 |   256.2                     |\n",
    "| 2011 |  144655                                           | 53500920 |   270.4                     |\n",
    "| 2012 |  175071                                          | 53907144 |    324.8                    |\n",
    "| 2013 |  108780                                           | 55794707 |   195.0                     |\n",
    "| 2014 |  62022                                          | 56186190 |    110.4                    |\n",
    "| 2015 |  221165                                         | 56559481 |   391.0                     |\n",
    "| 2016 |  41495                                        | 56915936 |   72.9                    |\n",
    "| 2017 |  53909                                       | 57254159 |   94.2                   |"
   ]
  },
  {
   "cell_type": "code",
   "execution_count": null,
   "metadata": {},
   "outputs": [],
   "source": []
  },
  {
   "cell_type": "code",
   "execution_count": 69,
   "metadata": {
    "scrolled": true
   },
   "outputs": [
    {
     "data": {
      "text/plain": [
       "2015    158783\n",
       "2012     99412\n",
       "2013     79251\n",
       "2011     76670\n",
       "2010     69689\n",
       "2017     65792\n",
       "2016     58774\n",
       "2014     45192\n",
       "2009        30\n",
       "Name: year, dtype: int64"
      ]
     },
     "execution_count": 69,
     "metadata": {},
     "output_type": "execute_result"
    }
   ],
   "source": [
    "northeast_dengue_disc.year.value_counts()"
   ]
  },
  {
   "cell_type": "code",
   "execution_count": 70,
   "metadata": {},
   "outputs": [],
   "source": [
    "filename = []\n",
    "for ano in [2018,2017,2016,2015,2014,2013,2012,2011,2010]:\n",
    "    value = northeast_dengue_conf[northeast_dengue_conf.year == ano]\n",
    "    filename.extend([value])"
   ]
  },
  {
   "cell_type": "code",
   "execution_count": 71,
   "metadata": {},
   "outputs": [],
   "source": [
    "filename_inci = []\n",
    "for file in filename:\n",
    "    dataframe = file.groupby(['sem_pri']).size().to_frame(name = 'Confirmed_dengue_northeast').reset_index()\n",
    "    filename_inci.extend([dataframe])"
   ]
  },
  {
   "cell_type": "code",
   "execution_count": 72,
   "metadata": {},
   "outputs": [],
   "source": [
    "northeast2018 = filename_inci[0]\n",
    "northeast2017 = filename_inci[1]\n",
    "northeast2016 = filename_inci[2]\n",
    "northeast2015 = filename_inci[3]\n",
    "northeast2014 = filename_inci[4]\n",
    "northeast2013 = filename_inci[5]\n",
    "northeast2012 = filename_inci[6]\n",
    "northeast2011 = filename_inci[7]\n",
    "northeast2010 = filename_inci[8]"
   ]
  },
  {
   "cell_type": "code",
   "execution_count": 73,
   "metadata": {},
   "outputs": [],
   "source": [
    "northeast2018['inc'] = northeast2018.Confirmed_dengue_northeast*100000/northeast_POP2018 \n",
    "northeast2017['inc'] = northeast2017.Confirmed_dengue_northeast*100000/northeast_POP2017\n",
    "northeast2016['inc'] = northeast2016.Confirmed_dengue_northeast*100000/northeast_POP2016 \n",
    "northeast2015['inc'] = northeast2015.Confirmed_dengue_northeast*100000/northeast_POP2015\n",
    "northeast2014['inc'] = northeast2014.Confirmed_dengue_northeast*100000/northeast_POP2014\n",
    "northeast2013['inc'] = northeast2013.Confirmed_dengue_northeast*100000/northeast_POP2013\n",
    "northeast2012['inc'] = northeast2012.Confirmed_dengue_northeast*100000/northeast_POP2012\n",
    "northeast2011['inc'] = northeast2011.Confirmed_dengue_northeast*100000/northeast_POP2011\n",
    "northeast2010['inc'] = northeast2010.Confirmed_dengue_northeast*100000/northeast_POP2010"
   ]
  },
  {
   "cell_type": "code",
   "execution_count": null,
   "metadata": {},
   "outputs": [],
   "source": []
  },
  {
   "cell_type": "code",
   "execution_count": 74,
   "metadata": {},
   "outputs": [],
   "source": [
    "northeast = pd.concat([northeast2010,northeast2011, northeast2012,northeast2013,northeast2014,northeast2015, northeast2016,northeast2017,northeast2018],sort=True)"
   ]
  },
  {
   "cell_type": "code",
   "execution_count": 75,
   "metadata": {
    "scrolled": true
   },
   "outputs": [],
   "source": [
    "northeast.rename(columns={'inc':'Northeast'}, inplace=True)"
   ]
  },
  {
   "cell_type": "code",
   "execution_count": 76,
   "metadata": {},
   "outputs": [
    {
     "data": {
      "text/plain": [
       "Index(['Confirmed_dengue_northeast', 'Northeast', 'sem_pri'], dtype='object')"
      ]
     },
     "execution_count": 76,
     "metadata": {},
     "output_type": "execute_result"
    }
   ],
   "source": [
    "northeast.columns"
   ]
  },
  {
   "cell_type": "markdown",
   "metadata": {},
   "source": [
    "# North\n",
    "Acre, Amapá, Amazonas, Pará, Rondônia, Roraima e Tocantins"
   ]
  },
  {
   "cell_type": "code",
   "execution_count": 77,
   "metadata": {},
   "outputs": [],
   "source": [
    "north_dengue_conf = conf_dengue_pop[(conf_dengue_pop.UF == 'AC') | (conf_dengue_pop.UF == 'AM') | (conf_dengue_pop.UF == 'AP') | (conf_dengue_pop.UF == 'PA') | (conf_dengue_pop.UF == 'RO') | (conf_dengue_pop.UF == 'RR') | (conf_dengue_pop.UF == 'TO')]"
   ]
  },
  {
   "cell_type": "code",
   "execution_count": 78,
   "metadata": {},
   "outputs": [],
   "source": [
    "north_dengue_disc = disc_dengue_pop[(disc_dengue_pop.UF == 'AC') | (disc_dengue_pop.UF == 'AM') | (disc_dengue_pop.UF == 'AP') | (disc_dengue_pop.UF == 'PA') | (disc_dengue_pop.UF == 'RO') | (disc_dengue_pop.UF == 'RR') | (disc_dengue_pop.UF == 'TO')]"
   ]
  },
  {
   "cell_type": "code",
   "execution_count": 79,
   "metadata": {},
   "outputs": [
    {
     "data": {
      "text/plain": [
       "AM    92697\n",
       "AC    82556\n",
       "PA    61926\n",
       "TO    50567\n",
       "RO    33965\n",
       "RR    12835\n",
       "AP    12390\n",
       "Name: UF, dtype: int64"
      ]
     },
     "execution_count": 79,
     "metadata": {},
     "output_type": "execute_result"
    }
   ],
   "source": [
    "north_dengue_conf['UF'].value_counts()"
   ]
  },
  {
   "cell_type": "code",
   "execution_count": 80,
   "metadata": {
    "scrolled": true
   },
   "outputs": [
    {
     "data": {
      "text/plain": [
       "TO    72135\n",
       "PA    54969\n",
       "AC    47641\n",
       "AM    30387\n",
       "RO    26833\n",
       "RR    16742\n",
       "AP     5860\n",
       "Name: UF, dtype: int64"
      ]
     },
     "execution_count": 80,
     "metadata": {},
     "output_type": "execute_result"
    }
   ],
   "source": [
    "north_dengue_disc['UF'].value_counts()"
   ]
  },
  {
   "cell_type": "code",
   "execution_count": 81,
   "metadata": {},
   "outputs": [],
   "source": [
    "data13 = north_dengue_conf.groupby(['sem_pri']).size().to_frame(name = 'Confirmed_dengue_north').reset_index()\n",
    "data13 = data13.drop([0])"
   ]
  },
  {
   "cell_type": "code",
   "execution_count": 82,
   "metadata": {},
   "outputs": [],
   "source": [
    "data23 = north_dengue_disc.groupby(['sem_pri']).size().to_frame(name = 'Discarded_dengue_north').reset_index()\n",
    "data23 = data23.drop([0])"
   ]
  },
  {
   "cell_type": "code",
   "execution_count": null,
   "metadata": {},
   "outputs": [],
   "source": []
  },
  {
   "cell_type": "code",
   "execution_count": null,
   "metadata": {},
   "outputs": [],
   "source": [
    "data13.to_csv('conf_dengue_north.csv')"
   ]
  },
  {
   "cell_type": "code",
   "execution_count": null,
   "metadata": {},
   "outputs": [],
   "source": [
    "data23.to_csv('dis_dengue_north.csv')"
   ]
  },
  {
   "cell_type": "code",
   "execution_count": 83,
   "metadata": {
    "scrolled": true
   },
   "outputs": [
    {
     "data": {
      "text/plain": [
       "2011    102680\n",
       "2010     92156\n",
       "2013     42940\n",
       "2012     36230\n",
       "2014     31493\n",
       "2015     25934\n",
       "2017     15002\n",
       "2009       263\n",
       "2016       238\n",
       "Name: year, dtype: int64"
      ]
     },
     "execution_count": 83,
     "metadata": {},
     "output_type": "execute_result"
    }
   ],
   "source": [
    "north_dengue_conf.year.value_counts()"
   ]
  },
  {
   "cell_type": "code",
   "execution_count": 71,
   "metadata": {
    "scrolled": true
   },
   "outputs": [
    {
     "data": {
      "text/plain": [
       "83.6"
      ]
     },
     "execution_count": 71,
     "metadata": {},
     "output_type": "execute_result"
    }
   ],
   "source": [
    "round(15002*100000/north_POP2017,1)"
   ]
  },
  {
   "cell_type": "code",
   "execution_count": 63,
   "metadata": {},
   "outputs": [
    {
     "data": {
      "text/plain": [
       "15864444.0"
      ]
     },
     "execution_count": 63,
     "metadata": {},
     "output_type": "execute_result"
    }
   ],
   "source": [
    "north_POP2010"
   ]
  },
  {
   "cell_type": "markdown",
   "metadata": {},
   "source": [
    "|      | Yearly Dengue Incidence (per 100,000 hab.) of North |          |                            |\n",
    "|------|----------------------------------------------|----------|----------------------------|\n",
    "| year | N. of cases                                  | Pop      | Incidence  |\n",
    "| 2010 | 92156                                           | 15864444 |       580.9                  |\n",
    "| 2011 | 102680                                           | 16094953 |     638.0                    |\n",
    "| 2012 | 36230                                           | 16318163 |      222.0                   |\n",
    "| 2013 | 42940                                           | 16983484 |      252.8                   |\n",
    "| 2014 | 31493                                           | 17231027 |      182.8                   |\n",
    "| 2015 | 25934                                         | 17472636 |       148.4                |\n",
    "| 2016 | 238                                        | 17707783 |          1.3             |\n",
    "| 2017 | 15002                                       | 17936201 |         83.6              |"
   ]
  },
  {
   "cell_type": "code",
   "execution_count": null,
   "metadata": {},
   "outputs": [],
   "source": []
  },
  {
   "cell_type": "code",
   "execution_count": 84,
   "metadata": {
    "scrolled": false
   },
   "outputs": [
    {
     "data": {
      "text/plain": [
       "2011    41875\n",
       "2013    41283\n",
       "2012    39293\n",
       "2015    38679\n",
       "2010    35180\n",
       "2017    32562\n",
       "2014    25186\n",
       "2016      433\n",
       "2009       76\n",
       "Name: year, dtype: int64"
      ]
     },
     "execution_count": 84,
     "metadata": {},
     "output_type": "execute_result"
    }
   ],
   "source": [
    "north_dengue_disc.year.value_counts()"
   ]
  },
  {
   "cell_type": "code",
   "execution_count": 85,
   "metadata": {},
   "outputs": [],
   "source": [
    "filename = []\n",
    "for ano in [2018,2017,2016,2015,2014,2013,2012,2011,2010]:\n",
    "    value = north_dengue_conf[north_dengue_conf.year == ano]\n",
    "    filename.extend([value])"
   ]
  },
  {
   "cell_type": "code",
   "execution_count": 86,
   "metadata": {},
   "outputs": [],
   "source": [
    "filename_inci = []\n",
    "for file in filename:\n",
    "    dataframe = file.groupby(['sem_pri']).size().to_frame(name = 'Confirmed_dengue_north').reset_index()\n",
    "    filename_inci.extend([dataframe])"
   ]
  },
  {
   "cell_type": "code",
   "execution_count": 87,
   "metadata": {},
   "outputs": [],
   "source": [
    "north2018 = filename_inci[0]\n",
    "north2017 = filename_inci[1]\n",
    "north2016 = filename_inci[2]\n",
    "north2015 = filename_inci[3]\n",
    "north2014 = filename_inci[4]\n",
    "north2013 = filename_inci[5]\n",
    "north2012 = filename_inci[6]\n",
    "north2011 = filename_inci[7]\n",
    "north2010 = filename_inci[8]"
   ]
  },
  {
   "cell_type": "code",
   "execution_count": 88,
   "metadata": {},
   "outputs": [],
   "source": [
    "north2018['inc'] = north2018.Confirmed_dengue_north*100000/north_POP2018 \n",
    "north2017['inc'] = north2017.Confirmed_dengue_north*100000/north_POP2017\n",
    "north2016['inc'] = north2016.Confirmed_dengue_north*100000/north_POP2016 \n",
    "north2015['inc'] = north2015.Confirmed_dengue_north*100000/north_POP2015\n",
    "north2014['inc'] = north2014.Confirmed_dengue_north*100000/north_POP2014\n",
    "north2013['inc'] = north2013.Confirmed_dengue_north*100000/north_POP2013\n",
    "north2012['inc'] = north2012.Confirmed_dengue_north*100000/north_POP2012\n",
    "north2011['inc'] = north2011.Confirmed_dengue_north*100000/north_POP2011\n",
    "north2010['inc'] = north2010.Confirmed_dengue_north*100000/north_POP2010"
   ]
  },
  {
   "cell_type": "code",
   "execution_count": 122,
   "metadata": {},
   "outputs": [],
   "source": [
    "north = pd.concat([north2010,north2011,north2012,north2013,north2014,north2015, north2016,north2017,north2018],sort=True)"
   ]
  },
  {
   "cell_type": "code",
   "execution_count": 123,
   "metadata": {
    "scrolled": true
   },
   "outputs": [],
   "source": [
    "north.rename(columns={'inc':'North'}, inplace=True)"
   ]
  },
  {
   "cell_type": "code",
   "execution_count": null,
   "metadata": {},
   "outputs": [],
   "source": []
  },
  {
   "cell_type": "markdown",
   "metadata": {},
   "source": [
    "# Southeast\n",
    "Espírito Santo, Minas Gerais, Rio de Janeiro e São Paulo."
   ]
  },
  {
   "cell_type": "code",
   "execution_count": 90,
   "metadata": {},
   "outputs": [],
   "source": [
    "southeast_dengue_conf = conf_dengue_pop[(conf_dengue_pop.UF == 'ES') | (conf_dengue_pop.UF == 'MG') | (conf_dengue_pop.UF == 'RJ') | (conf_dengue_pop.UF == 'SP')]"
   ]
  },
  {
   "cell_type": "code",
   "execution_count": 91,
   "metadata": {},
   "outputs": [],
   "source": [
    "southeast_dengue_disc = disc_dengue_pop[(disc_dengue_pop.UF == 'ES') | (disc_dengue_pop.UF == 'MG') | (disc_dengue_pop.UF == 'RJ') | (disc_dengue_pop.UF == 'SP')]"
   ]
  },
  {
   "cell_type": "code",
   "execution_count": 92,
   "metadata": {},
   "outputs": [
    {
     "data": {
      "text/plain": [
       "SP    1431986\n",
       "MG    1288550\n",
       "RJ     415055\n",
       "ES     185735\n",
       "Name: UF, dtype: int64"
      ]
     },
     "execution_count": 92,
     "metadata": {},
     "output_type": "execute_result"
    }
   ],
   "source": [
    "southeast_dengue_conf['UF'].value_counts()"
   ]
  },
  {
   "cell_type": "code",
   "execution_count": 93,
   "metadata": {
    "scrolled": false
   },
   "outputs": [
    {
     "data": {
      "text/plain": [
       "SP    975345\n",
       "MG    452855\n",
       "RJ    180888\n",
       "ES     76728\n",
       "Name: UF, dtype: int64"
      ]
     },
     "execution_count": 93,
     "metadata": {},
     "output_type": "execute_result"
    }
   ],
   "source": [
    "southeast_dengue_disc['UF'].value_counts()"
   ]
  },
  {
   "cell_type": "code",
   "execution_count": 94,
   "metadata": {},
   "outputs": [],
   "source": [
    "data14 = southeast_dengue_conf.groupby(['sem_pri']).size().to_frame(name = 'Confirmed_dengue_southeast').reset_index()\n",
    "data14 = data14.drop([0])"
   ]
  },
  {
   "cell_type": "code",
   "execution_count": 95,
   "metadata": {},
   "outputs": [],
   "source": [
    "data24 = southeast_dengue_disc.groupby(['sem_pri']).size().to_frame(name = 'Discarded_dengue_southeast').reset_index()\n",
    "data24 = data24.drop([0])"
   ]
  },
  {
   "cell_type": "code",
   "execution_count": null,
   "metadata": {},
   "outputs": [],
   "source": [
    "data14.to_csv('conf_dengue_southeast.csv')"
   ]
  },
  {
   "cell_type": "code",
   "execution_count": null,
   "metadata": {},
   "outputs": [],
   "source": [
    "data24.to_csv('dis_dengue_southeast.csv')"
   ]
  },
  {
   "cell_type": "code",
   "execution_count": 96,
   "metadata": {
    "scrolled": true
   },
   "outputs": [
    {
     "data": {
      "text/plain": [
       "2015    937847\n",
       "2013    792794\n",
       "2016    430092\n",
       "2010    429215\n",
       "2011    289687\n",
       "2014    273572\n",
       "2012    129446\n",
       "2017     38487\n",
       "2009       186\n",
       "Name: year, dtype: int64"
      ]
     },
     "execution_count": 96,
     "metadata": {},
     "output_type": "execute_result"
    }
   ],
   "source": [
    "southeast_dengue_conf.year.value_counts()"
   ]
  },
  {
   "cell_type": "code",
   "execution_count": 79,
   "metadata": {},
   "outputs": [
    {
     "data": {
      "text/plain": [
       "44.3"
      ]
     },
     "execution_count": 79,
     "metadata": {},
     "output_type": "execute_result"
    }
   ],
   "source": [
    "round(38487*100000/southeast_POP2017,1)"
   ]
  },
  {
   "cell_type": "code",
   "execution_count": 61,
   "metadata": {},
   "outputs": [
    {
     "data": {
      "text/plain": [
       "86949714"
      ]
     },
     "execution_count": 61,
     "metadata": {},
     "output_type": "execute_result"
    }
   ],
   "source": [
    "southeast_POP2017"
   ]
  },
  {
   "cell_type": "markdown",
   "metadata": {},
   "source": [
    "|      | Yearly Chikungunya Incidence (per 100,000 hab.) of Southeast |          |                            |\n",
    "|------|----------------------------------------------|----------|----------------------------|\n",
    "| year | N. of cases                                  | Pop      | Incidence  |\n",
    "| 2010 |   429215                                         | 85115623 |   534.1                     |\n",
    "| 2011 |   289687                                         | 85115623 |   357.7                     |\n",
    "| 2012 |   129446                                         | 85115623 |   158.7                     |\n",
    "| 2013 |   792794                                         | 85115623 |   938.6                     |\n",
    "| 2014 |   273572                                         | 85115623 |   321.4                     |\n",
    "| 2015 |   937847                                       | 85745520 |    1093.8                    |\n",
    "| 2016 |   430092                                      | 86356952 |     498.0                 |\n",
    "| 2017 |    38487                                    | 86949714 |      44.3                 |"
   ]
  },
  {
   "cell_type": "code",
   "execution_count": null,
   "metadata": {},
   "outputs": [],
   "source": []
  },
  {
   "cell_type": "code",
   "execution_count": 97,
   "metadata": {
    "scrolled": true
   },
   "outputs": [
    {
     "data": {
      "text/plain": [
       "2015    377893\n",
       "2013    327430\n",
       "2014    198455\n",
       "2011    178639\n",
       "2010    176564\n",
       "2012    169162\n",
       "2016    137775\n",
       "2017    119735\n",
       "2009       163\n",
       "Name: year, dtype: int64"
      ]
     },
     "execution_count": 97,
     "metadata": {},
     "output_type": "execute_result"
    }
   ],
   "source": [
    "southeast_dengue_disc.year.value_counts()"
   ]
  },
  {
   "cell_type": "code",
   "execution_count": 98,
   "metadata": {},
   "outputs": [],
   "source": [
    "filename = []\n",
    "for ano in [2018,2017,2016,2015,2014,2013,2012,2011,2010]:\n",
    "    value = southeast_dengue_conf[southeast_dengue_conf.year == ano]\n",
    "    filename.extend([value])"
   ]
  },
  {
   "cell_type": "code",
   "execution_count": 99,
   "metadata": {},
   "outputs": [],
   "source": [
    "filename_inci = []\n",
    "for file in filename:\n",
    "    dataframe = file.groupby(['sem_pri']).size().to_frame(name = 'Confirmed_dengue_southeast').reset_index()\n",
    "    filename_inci.extend([dataframe])"
   ]
  },
  {
   "cell_type": "code",
   "execution_count": 100,
   "metadata": {},
   "outputs": [],
   "source": [
    "southeast2018 = filename_inci[0]\n",
    "southeast2017 = filename_inci[1]\n",
    "southeast2016 = filename_inci[2]\n",
    "southeast2015 = filename_inci[3]\n",
    "southeast2014 = filename_inci[4]\n",
    "southeast2013 = filename_inci[5]\n",
    "southeast2012 = filename_inci[6]\n",
    "southeast2011 = filename_inci[7]\n",
    "southeast2010 = filename_inci[8]"
   ]
  },
  {
   "cell_type": "code",
   "execution_count": 101,
   "metadata": {},
   "outputs": [],
   "source": [
    "southeast2018['inc'] = southeast2018.Confirmed_dengue_southeast*100000/southeast_POP2018 \n",
    "southeast2017['inc'] = southeast2017.Confirmed_dengue_southeast*100000/southeast_POP2017\n",
    "southeast2016['inc'] = southeast2016.Confirmed_dengue_southeast*100000/southeast_POP2016 \n",
    "southeast2015['inc'] = southeast2015.Confirmed_dengue_southeast*100000/southeast_POP2015\n",
    "southeast2014['inc'] = southeast2014.Confirmed_dengue_southeast*100000/southeast_POP2014\n",
    "southeast2013['inc'] = southeast2013.Confirmed_dengue_southeast*100000/southeast_POP2013\n",
    "southeast2012['inc'] = southeast2012.Confirmed_dengue_southeast*100000/southeast_POP2012\n",
    "southeast2011['inc'] = southeast2011.Confirmed_dengue_southeast*100000/southeast_POP2011\n",
    "southeast2010['inc'] = southeast2010.Confirmed_dengue_southeast*100000/southeast_POP2010"
   ]
  },
  {
   "cell_type": "code",
   "execution_count": null,
   "metadata": {},
   "outputs": [],
   "source": []
  },
  {
   "cell_type": "code",
   "execution_count": 102,
   "metadata": {},
   "outputs": [],
   "source": [
    "southeast = pd.concat([southeast2010, southeast2011, southeast2012,southeast2013,southeast2014, southeast2015, southeast2016,southeast2017,southeast2018],sort=True)"
   ]
  },
  {
   "cell_type": "code",
   "execution_count": 103,
   "metadata": {
    "scrolled": true
   },
   "outputs": [],
   "source": [
    "southeast.rename(columns={'inc':'Southeast'}, inplace=True)"
   ]
  },
  {
   "cell_type": "code",
   "execution_count": 104,
   "metadata": {},
   "outputs": [
    {
     "data": {
      "text/plain": [
       "Index(['Confirmed_dengue_southeast', 'Southeast', 'sem_pri'], dtype='object')"
      ]
     },
     "execution_count": 104,
     "metadata": {},
     "output_type": "execute_result"
    }
   ],
   "source": [
    "southeast.columns"
   ]
  },
  {
   "cell_type": "markdown",
   "metadata": {},
   "source": [
    "# South\n",
    "Paraná, Santa Catarina e Rio Grande do Sul"
   ]
  },
  {
   "cell_type": "code",
   "execution_count": 105,
   "metadata": {},
   "outputs": [],
   "source": [
    "south_dengue_conf = conf_dengue_pop[(conf_dengue_pop.UF == 'PR') | (conf_dengue_pop.UF == 'RS') | (conf_dengue_pop.UF == 'SC')]"
   ]
  },
  {
   "cell_type": "code",
   "execution_count": 106,
   "metadata": {},
   "outputs": [],
   "source": [
    "south_dengue_disc = disc_dengue_pop[(disc_dengue_pop.UF == 'PR') | (disc_dengue_pop.UF == 'RS') | (disc_dengue_pop.UF == 'SC')]"
   ]
  },
  {
   "cell_type": "code",
   "execution_count": 107,
   "metadata": {},
   "outputs": [
    {
     "data": {
      "text/plain": [
       "PR    189754\n",
       "RS      5753\n",
       "SC      4373\n",
       "Name: UF, dtype: int64"
      ]
     },
     "execution_count": 107,
     "metadata": {},
     "output_type": "execute_result"
    }
   ],
   "source": [
    "south_dengue_conf['UF'].value_counts()"
   ]
  },
  {
   "cell_type": "code",
   "execution_count": 108,
   "metadata": {
    "scrolled": true
   },
   "outputs": [
    {
     "data": {
      "text/plain": [
       "PR    228070\n",
       "SC     12110\n",
       "RS      9437\n",
       "Name: UF, dtype: int64"
      ]
     },
     "execution_count": 108,
     "metadata": {},
     "output_type": "execute_result"
    }
   ],
   "source": [
    "south_dengue_disc['UF'].value_counts()"
   ]
  },
  {
   "cell_type": "code",
   "execution_count": 109,
   "metadata": {},
   "outputs": [],
   "source": [
    "data15 = south_dengue_conf.groupby(['sem_pri']).size().to_frame(name = 'Confirmed_dengue_south').reset_index()\n",
    "data15 = data15.drop([0])"
   ]
  },
  {
   "cell_type": "code",
   "execution_count": 110,
   "metadata": {},
   "outputs": [],
   "source": [
    "data25 = south_dengue_disc.groupby(['sem_pri']).size().to_frame(name = 'Discarded_dengue_south').reset_index()\n",
    "data25 = data25.drop([0])"
   ]
  },
  {
   "cell_type": "code",
   "execution_count": null,
   "metadata": {},
   "outputs": [],
   "source": [
    "data15.to_csv('conf_dengue_south.csv')"
   ]
  },
  {
   "cell_type": "code",
   "execution_count": null,
   "metadata": {},
   "outputs": [],
   "source": [
    "data25.to_csv('dis_dengue_south.csv')"
   ]
  },
  {
   "cell_type": "code",
   "execution_count": 111,
   "metadata": {
    "scrolled": true
   },
   "outputs": [
    {
     "data": {
      "text/plain": [
       "2013    60420\n",
       "2015    47020\n",
       "2010    38327\n",
       "2011    29153\n",
       "2014    19959\n",
       "2012     4050\n",
       "2017      913\n",
       "2016       30\n",
       "2009        8\n",
       "Name: year, dtype: int64"
      ]
     },
     "execution_count": 111,
     "metadata": {},
     "output_type": "execute_result"
    }
   ],
   "source": [
    "south_dengue_conf.year.value_counts()"
   ]
  },
  {
   "cell_type": "code",
   "execution_count": 87,
   "metadata": {},
   "outputs": [
    {
     "data": {
      "text/plain": [
       "3.1"
      ]
     },
     "execution_count": 87,
     "metadata": {},
     "output_type": "execute_result"
    }
   ],
   "source": [
    "round(913*100000/south_POP2017,1)"
   ]
  },
  {
   "cell_type": "code",
   "execution_count": 69,
   "metadata": {},
   "outputs": [
    {
     "data": {
      "text/plain": [
       "29016114"
      ]
     },
     "execution_count": 69,
     "metadata": {},
     "output_type": "execute_result"
    }
   ],
   "source": [
    "south_POP2014"
   ]
  },
  {
   "cell_type": "markdown",
   "metadata": {},
   "source": [
    "|      | Yearly Dengue Incidence (per 100,000 hab.) of South |          |                            |\n",
    "|------|----------------------------------------------|----------|----------------------------|\n",
    "| year | N. of cases                                  | Pop      | Incidence  |\n",
    "| 2010 | 38327                                           | 29016114 | 139.9                       |\n",
    "| 2011 | 29153                                           | 29016114 |  105.8                      |\n",
    "| 2012 | 4050                                           | 29016114 |    14.6                    |\n",
    "| 2013 | 60420                                           | 29016114 |   209.8                     |\n",
    "| 2014 | 19959                                           | 29016114 |    68.8                    |\n",
    "| 2015 | 47020                                           | 29230180 |     160.9                  |\n",
    "| 2016 |  30                                          | 29439773 |       0.1                |\n",
    "| 2017 |  913                                          | 29644948 |      3.1                |"
   ]
  },
  {
   "cell_type": "code",
   "execution_count": null,
   "metadata": {},
   "outputs": [],
   "source": []
  },
  {
   "cell_type": "code",
   "execution_count": 112,
   "metadata": {
    "scrolled": true
   },
   "outputs": [
    {
     "data": {
      "text/plain": [
       "2015    61184\n",
       "2013    48922\n",
       "2014    32936\n",
       "2011    32792\n",
       "2010    31123\n",
       "2017    28184\n",
       "2012    13961\n",
       "2016      485\n",
       "2009       30\n",
       "Name: year, dtype: int64"
      ]
     },
     "execution_count": 112,
     "metadata": {},
     "output_type": "execute_result"
    }
   ],
   "source": [
    "south_dengue_disc.year.value_counts()"
   ]
  },
  {
   "cell_type": "code",
   "execution_count": 113,
   "metadata": {},
   "outputs": [],
   "source": [
    "filename = []\n",
    "for ano in [2018,2017,2016,2015,2014,2013,2012,2011,2010]:\n",
    "    value = south_dengue_conf[south_dengue_conf.year == ano]\n",
    "    filename.extend([value])"
   ]
  },
  {
   "cell_type": "code",
   "execution_count": 114,
   "metadata": {},
   "outputs": [],
   "source": [
    "filename_inci = []\n",
    "for file in filename:\n",
    "    dataframe = file.groupby(['sem_pri']).size().to_frame(name = 'Confirmed_dengue_south').reset_index()\n",
    "    filename_inci.extend([dataframe])"
   ]
  },
  {
   "cell_type": "code",
   "execution_count": 115,
   "metadata": {},
   "outputs": [],
   "source": [
    "south2018 = filename_inci[0]\n",
    "south2017 = filename_inci[1]\n",
    "south2016 = filename_inci[2]\n",
    "south2015 = filename_inci[3]\n",
    "south2014 = filename_inci[4]\n",
    "south2013 = filename_inci[5]\n",
    "south2012 = filename_inci[6]\n",
    "south2011 = filename_inci[7]\n",
    "south2010 = filename_inci[8]"
   ]
  },
  {
   "cell_type": "code",
   "execution_count": 116,
   "metadata": {},
   "outputs": [],
   "source": [
    "south2018['inc'] = south2018.Confirmed_dengue_south*100000/south_POP2018 \n",
    "south2017['inc'] = south2017.Confirmed_dengue_south*100000/south_POP2017\n",
    "south2016['inc'] = south2016.Confirmed_dengue_south*100000/south_POP2016 \n",
    "south2015['inc'] = south2015.Confirmed_dengue_south*100000/south_POP2015\n",
    "south2014['inc'] = south2014.Confirmed_dengue_south*100000/south_POP2014\n",
    "south2013['inc'] = south2013.Confirmed_dengue_south*100000/south_POP2013\n",
    "south2012['inc'] = south2012.Confirmed_dengue_south*100000/south_POP2012\n",
    "south2011['inc'] = south2011.Confirmed_dengue_south*100000/south_POP2011\n",
    "south2010['inc'] = south2010.Confirmed_dengue_south*100000/south_POP2010"
   ]
  },
  {
   "cell_type": "code",
   "execution_count": 118,
   "metadata": {},
   "outputs": [],
   "source": [
    "south = pd.concat([south2010,south2011, south2012,south2013,south2014,south2015, south2016,south2017,south2018],sort=True)"
   ]
  },
  {
   "cell_type": "code",
   "execution_count": 119,
   "metadata": {
    "scrolled": true
   },
   "outputs": [],
   "source": [
    "south.rename(columns={'inc':'South'}, inplace=True)"
   ]
  },
  {
   "cell_type": "code",
   "execution_count": null,
   "metadata": {},
   "outputs": [],
   "source": []
  },
  {
   "cell_type": "markdown",
   "metadata": {},
   "source": [
    "# Plot for each reagion"
   ]
  },
  {
   "cell_type": "code",
   "execution_count": 120,
   "metadata": {},
   "outputs": [
    {
     "data": {
      "image/png": "[encoded data removed]",
      "text/plain": [
       "<Figure size 432x288 with 1 Axes>"
      ]
     },
     "metadata": {},
     "output_type": "display_data"
    },
    {
     "data": {
      "image/png": "[encoded data removed]",
      "text/plain": [
       "<Figure size 432x288 with 1 Axes>"
      ]
     },
     "metadata": {},
     "output_type": "display_data"
    },
    {
     "data": {
      "image/png": "[encoded data removed]",
      "text/plain": [
       "<Figure size 432x288 with 1 Axes>"
      ]
     },
     "metadata": {},
     "output_type": "display_data"
    },
    {
     "data": {
      "image/png": "[encoded data removed]",
      "text/plain": [
       "<Figure size 432x288 with 1 Axes>"
      ]
     },
     "metadata": {},
     "output_type": "display_data"
    },
    {
     "data": {
      "image/png": "[encoded data removed]",
      "text/plain": [
       "<Figure size 432x288 with 1 Axes>"
      ]
     },
     "metadata": {},
     "output_type": "display_data"
    }
   ],
   "source": [
    "ax = data11.plot()\n",
    "data21.plot(ax=ax)\n",
    "plt.xlabel('Week')\n",
    "plt.ylabel('Number of Cases')\n",
    "plt.legend(loc=1, prop={'size': 10})\n",
    "plt.savefig('midwest_dengue.png')\n",
    "\n",
    "ax = data12.plot()\n",
    "data22.plot(ax=ax)\n",
    "plt.xlabel('Week')\n",
    "plt.ylabel('Number of Cases')\n",
    "plt.legend(loc=1, prop={'size': 10})\n",
    "plt.savefig('northeast_dengue.png')\n",
    "\n",
    "ax = data13.plot()\n",
    "data23.plot(ax=ax)\n",
    "plt.xlabel('Week')\n",
    "plt.ylabel('Number of Cases')\n",
    "plt.legend(loc=1, prop={'size': 10})\n",
    "plt.savefig('north_dengue.png')\n",
    "\n",
    "ax = data14.plot()\n",
    "data24.plot(ax=ax)\n",
    "plt.xlabel('Week')\n",
    "plt.ylabel('Number of Cases')\n",
    "plt.legend(loc=1, prop={'size': 10})\n",
    "plt.savefig('southeast_dengue.png')\n",
    "\n",
    "ax = data15.plot()\n",
    "data25.plot(ax=ax)\n",
    "plt.xlabel('Week')\n",
    "plt.ylabel('Number of Cases')\n",
    "plt.legend(loc=1, prop={'size': 10})\n",
    "plt.savefig('south_dengue.png')\n"
   ]
  },
  {
   "cell_type": "code",
   "execution_count": 124,
   "metadata": {},
   "outputs": [
    {
     "data": {
      "image/png": "[encoded data removed]",
      "text/plain": [
       "<Figure size 432x288 with 1 Axes>"
      ]
     },
     "metadata": {},
     "output_type": "display_data"
    }
   ],
   "source": [
    "#Plot of incidence\n",
    "ax =midwest.plot(x='sem_pri', y='Midwest')\n",
    "northeast.plot(x='sem_pri', y='Northeast', ax=ax)\n",
    "north.plot(x='sem_pri', y='North', ax=ax)\n",
    "southeast.plot(x='sem_pri', y='Southeast', ax=ax)\n",
    "south.plot(x='sem_pri', y='South', ax=ax)\n",
    "plt.title('Incidence of Dengue in Brazilian Regions')\n",
    "plt.ylabel('Incidence per 100000')\n",
    "plt.xlabel('Week')\n",
    "plt.legend(loc=1, prop={'size': 10})\n",
    "plt.savefig('dengue_conf_regions.png')"
   ]
  },
  {
   "cell_type": "code",
   "execution_count": null,
   "metadata": {},
   "outputs": [],
   "source": []
  },
  {
   "cell_type": "code",
   "execution_count": null,
   "metadata": {},
   "outputs": [],
   "source": []
  }
 ],
 "metadata": {
  "kernelspec": {
   "display_name": "Python 3",
   "language": "python",
   "name": "python3"
  },
  "language_info": {
   "codemirror_mode": {
    "name": "ipython",
    "version": 3
   },
   "file_extension": ".py",
   "mimetype": "text/x-python",
   "name": "python",
   "nbconvert_exporter": "python",
   "pygments_lexer": "ipython3",
   "version": "3.6.5"
  }
 },
 "nbformat": 4,
 "nbformat_minor": 2
}

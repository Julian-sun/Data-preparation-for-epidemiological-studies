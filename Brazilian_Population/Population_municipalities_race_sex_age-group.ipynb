{
 "cells": [
  {
   "cell_type": "code",
   "execution_count": 1,
   "metadata": {},
   "outputs": [],
   "source": [
    "import pandas as pd\n",
    "from pandas import DataFrame\n",
    "import numpy as np\n",
    "import csv\n",
    "import sys\n",
    "import glob"
   ]
  },
  {
   "cell_type": "markdown",
   "metadata": {},
   "source": [
    "# File of the population by sex and age-gruop for each municipality"
   ]
  },
  {
   "cell_type": "code",
   "execution_count": null,
   "metadata": {},
   "outputs": [],
   "source": [
    "# get data file names\n",
    "path =r'G:\\Datalake\\POPULACAO\\csv'\n",
    "filenames = glob.glob(path + \"/*.csv\")"
   ]
  },
  {
   "cell_type": "code",
   "execution_count": null,
   "metadata": {
    "scrolled": true
   },
   "outputs": [],
   "source": [
    "filenames"
   ]
  },
  {
   "cell_type": "code",
   "execution_count": null,
   "metadata": {},
   "outputs": [],
   "source": [
    "df = pd.read_csv(filenames[0])"
   ]
  },
  {
   "cell_type": "code",
   "execution_count": null,
   "metadata": {},
   "outputs": [],
   "source": [
    "df.head()"
   ]
  },
  {
   "cell_type": "code",
   "execution_count": null,
   "metadata": {
    "scrolled": true
   },
   "outputs": [],
   "source": [
    "lst_df = []\n",
    "for f in filenames:\n",
    "    df = pd.read_csv(f)\n",
    "    lst_df.append(df)"
   ]
  },
  {
   "cell_type": "code",
   "execution_count": null,
   "metadata": {},
   "outputs": [],
   "source": [
    "len(filenames)"
   ]
  },
  {
   "cell_type": "code",
   "execution_count": null,
   "metadata": {},
   "outputs": [],
   "source": [
    "fil"
   ]
  },
  {
   "cell_type": "code",
   "execution_count": null,
   "metadata": {},
   "outputs": [],
   "source": [
    "POP = pd.read_csv(filenames[0])\n",
    "for i in range(1,13):\n",
    "    POP=POP.append(lst_df[i], ignore_index=True, sort=False)"
   ]
  },
  {
   "cell_type": "code",
   "execution_count": null,
   "metadata": {
    "scrolled": true
   },
   "outputs": [],
   "source": [
    "POP.head()"
   ]
  },
  {
   "cell_type": "code",
   "execution_count": null,
   "metadata": {},
   "outputs": [],
   "source": [
    "#POP.to_csv('populacao.csv')"
   ]
  },
  {
   "cell_type": "markdown",
   "metadata": {},
   "source": [
    "# The objective in the remaining part is to work out on the calculus of extrapolations and estimations for the size of the population in desired aggregations.   "
   ]
  },
  {
   "cell_type": "code",
   "execution_count": null,
   "metadata": {},
   "outputs": [],
   "source": [
    "POP.FXETARIA.unique()"
   ]
  },
  {
   "cell_type": "code",
   "execution_count": null,
   "metadata": {
    "scrolled": false
   },
   "outputs": [],
   "source": [
    "POP.info()"
   ]
  },
  {
   "cell_type": "code",
   "execution_count": null,
   "metadata": {},
   "outputs": [],
   "source": [
    "#lista de populacao femenina por municipio para cada faixa etaria e por ano\n",
    "lst = []\n",
    "for i in pop_female['MUNIC_RES'].unique():\n",
    "    data_muni = pop_female[pop_female.MUNIC_RES == i]\n",
    "    lst.append(data_muni)"
   ]
  },
  {
   "cell_type": "code",
   "execution_count": null,
   "metadata": {},
   "outputs": [],
   "source": [
    "# funcao para calcular a taxa de (de)crescimento da populacao na faixa etaria \n",
    "def inicial_final_pop(dataframe):\n",
    "    results=[]\n",
    "    for fx in dataframe['FXETARIA'].unique():\n",
    "        pop_i = dataframe[dataframe.FXETARIA == fx][dataframe[dataframe.FXETARIA == fx].ANO ==2000].iloc[0]['POPULACAO']\n",
    "        pop_f = dataframe[dataframe.FXETARIA == fx][dataframe[dataframe.FXETARIA == fx].ANO ==2010].iloc[0]['POPULACAO']\n",
    "        growth_rate = (pop_f/pop_i)**(1/10) -1\n",
    "        #print(fx,pop_i,pop_f,growth_rate)\n",
    "        population = pop_f + growth_rate*pop_f\n",
    "        results.append([fx,pop_i,pop_f,growth_rate,population])\n",
    "    return results"
   ]
  },
  {
   "cell_type": "code",
   "execution_count": null,
   "metadata": {},
   "outputs": [],
   "source": [
    "range(len(lst))"
   ]
  },
  {
   "cell_type": "code",
   "execution_count": null,
   "metadata": {
    "scrolled": true
   },
   "outputs": [],
   "source": [
    "time = 1999\n",
    "\n",
    "for i in range(len(lst)):\n",
    "    pop = []\n",
    "    population = inicial_final_pop(lst[i])[0][1]\n",
    "    while population < 1000:\n",
    "        population = population + inicial_final_pop(lst[i])[0][3]*population\n",
    "        if population >= 1000 or population<150:\n",
    "            break\n",
    "        else:\n",
    "            print (population)\n",
    "            time = time + 1\n",
    "            pop.append([time,population])\n",
    "#return pop"
   ]
  },
  {
   "cell_type": "code",
   "execution_count": null,
   "metadata": {},
   "outputs": [],
   "source": [
    "pop"
   ]
  },
  {
   "cell_type": "code",
   "execution_count": null,
   "metadata": {
    "scrolled": true
   },
   "outputs": [],
   "source": [
    "population = inicial_final_pop(lst[0])[0][1]\n",
    "population"
   ]
  },
  {
   "cell_type": "code",
   "execution_count": null,
   "metadata": {
    "scrolled": true
   },
   "outputs": [],
   "source": [
    "inicial_final_pop(lst[0])"
   ]
  },
  {
   "cell_type": "code",
   "execution_count": null,
   "metadata": {},
   "outputs": [],
   "source": [
    "for i in pop_female.FXETARIA.unique():\n",
    "    fxi = lst[0][lst[0].FXETARIA == i]\n",
    "    time = 0 #### esse programa ta melhor\n",
    "    population = fxi.POPULACAO[0] \n",
    "    pop = [population] \n",
    "    pop_final = fx1[fx1.ANO ==2010].iloc[0]['POPULACAO']\n",
    "    growth_rate = (pop_final/population)**(1/10) -1 #    \n",
    "    while population < 1000:\n",
    "        population = population + growth_rate * population\n",
    "        if population >= 1000 or population<100:\n",
    "            break\n",
    "        else:\n",
    "            print (population)\n",
    "            time = time + 1\n",
    "    pop.append(population)\n",
    "    plot(fxi.ANO,fxi.POPULACAO)"
   ]
  },
  {
   "cell_type": "code",
   "execution_count": null,
   "metadata": {
    "scrolled": true
   },
   "outputs": [],
   "source": [
    "inicial_final_pop(lst[0])"
   ]
  },
  {
   "cell_type": "code",
   "execution_count": null,
   "metadata": {},
   "outputs": [],
   "source": [
    "lst[0];"
   ]
  },
  {
   "cell_type": "code",
   "execution_count": null,
   "metadata": {
    "scrolled": true
   },
   "outputs": [],
   "source": [
    "lst[0][lst[0].FXETARIA == 0][lst[0][lst[0].FXETARIA == 0].ANO ==2010].iloc[0]['POPULACAO']"
   ]
  },
  {
   "cell_type": "code",
   "execution_count": null,
   "metadata": {
    "scrolled": false
   },
   "outputs": [],
   "source": [
    "for i in pop_female.FXETARIA.unique():\n",
    "    fxi = lst[0][lst[0].FXETARIA == i]\n",
    "    time = 0 #### esse programa ta melhor\n",
    "    population = fxi.POPULACAO[0] \n",
    "    pop = [population] \n",
    "    pop_final = fx1[fx1.ANO ==2010].iloc[0]['POPULACAO']\n",
    "    growth_rate = (pop_final/population)**(1/10) -1 #    \n",
    "    while population < 1000:\n",
    "        population = population + growth_rate * population\n",
    "        if population >= 1000 or population<100:\n",
    "            break\n",
    "        else:\n",
    "            print (population)\n",
    "            time = time + 1\n",
    "    pop.append(population)\n",
    "    plot(fxi.ANO,fxi.POPULACAO)"
   ]
  },
  {
   "cell_type": "code",
   "execution_count": null,
   "metadata": {},
   "outputs": [],
   "source": [
    "fx1"
   ]
  },
  {
   "cell_type": "code",
   "execution_count": null,
   "metadata": {},
   "outputs": [],
   "source": [
    "r = (193/275)**(1/10) -1"
   ]
  },
  {
   "cell_type": "code",
   "execution_count": null,
   "metadata": {},
   "outputs": [],
   "source": [
    "fx1 = lst[0][lst[0].FXETARIA == 0]\n",
    "#plot(fx1.ANO,fx1.POPULACAO, 'o')\n",
    "fx1"
   ]
  },
  {
   "cell_type": "code",
   "execution_count": null,
   "metadata": {
    "scrolled": true
   },
   "outputs": [],
   "source": [
    "time = 0 #### esse programa ta melhor\n",
    "population = 275 \n",
    "pop = [275] \n",
    "growth_rate = (193/275)**(1/10) -1 # \n",
    "while population < 1000:\n",
    "    population = population + growth_rate * population\n",
    "    if population >= 1000 or population<100:\n",
    "        break\n",
    "    else:\n",
    "        print (population)\n",
    "        time = time + 1\n",
    "    pop.append(population)"
   ]
  },
  {
   "cell_type": "markdown",
   "metadata": {},
   "source": [
    "# File of the population by race, sex and age-gruop for each municipality"
   ]
  },
  {
   "cell_type": "code",
   "execution_count": 2,
   "metadata": {},
   "outputs": [],
   "source": [
    "#data = pd.read_csv('tabela3175_2.csv',low_memory=False, encoding='iso-8859-1', delimiter='\\t')\n",
    "\n",
    "data = pd.read_csv('tabela3175.csv', skiprows=4, low_memory=False, encoding='iso-8859-1')"
   ]
  },
  {
   "cell_type": "code",
   "execution_count": 5,
   "metadata": {},
   "outputs": [],
   "source": [
    "data = data.iloc[0:1202039]"
   ]
  },
  {
   "cell_type": "code",
   "execution_count": 7,
   "metadata": {},
   "outputs": [],
   "source": [
    "data = data.rename(columns={\"CÃ³d.\": \"codmun\", \"MunicÃ­pio\": \"mame_muni\",\"Cor ou raÃ§a\":\"cor\"})"
   ]
  },
  {
   "cell_type": "code",
   "execution_count": 10,
   "metadata": {},
   "outputs": [],
   "source": [
    "data = data.replace({'cor' : { 'Branca' : 1, 'Preta' : 2, 'Amarela': 3, 'Parda' : 4, 'IndÃ\\xadgena': 5, 'Sem declaraÃ§Ã£o': 9 }, \n",
    "                  'Sexo': {'Mulheres': 1, 'Homens': 2}, \n",
    "                    'Idade': {'0 a 4 anos': 4, '5 a 9 anos': 509, '10 a 14 anos': 1014, '15 a 19 anos': 1519,\n",
    "                              '20 a 24 anos': 2024, '25 a 29 anos': 2529, '30 a 34 anos': 3034, '35 a 39 anos': 3539,\n",
    "                              '40 a 44 anos':4044, '45 a 49 anos': 4549, '50 a 54 anos': 5054, '55 a 59 anos': 5559,\n",
    "                              '60 a 64 anos': 6064, '65 a 69 anos': 6569, '70 a 74 anos': 7074, \n",
    "                              '75 a 79 anos': 7579,'80 a 89 anos': 8099, '90 a 99 anos': 8099 }})"
   ]
  },
  {
   "cell_type": "code",
   "execution_count": 13,
   "metadata": {
    "scrolled": true
   },
   "outputs": [],
   "source": [
    "data= data.replace('-',0)"
   ]
  },
  {
   "cell_type": "code",
   "execution_count": 22,
   "metadata": {},
   "outputs": [
    {
     "name": "stdout",
     "output_type": "stream",
     "text": [
      "<class 'pandas.core.frame.DataFrame'>\n",
      "RangeIndex: 1202039 entries, 0 to 1202038\n",
      "Data columns (total 6 columns):\n",
      "codmun       1202039 non-null object\n",
      "mame_muni    1202039 non-null object\n",
      "cor          1202039 non-null object\n",
      "Sexo         1202039 non-null int64\n",
      "Idade        1202039 non-null int64\n",
      "Total        1202039 non-null int32\n",
      "dtypes: int32(1), int64(2), object(3)\n",
      "memory usage: 50.4+ MB\n"
     ]
    }
   ],
   "source": [
    "data.info()"
   ]
  },
  {
   "cell_type": "code",
   "execution_count": 21,
   "metadata": {},
   "outputs": [
    {
     "data": {
      "text/html": [
       "<div>\n",
       "<style scoped>\n",
       "    .dataframe tbody tr th:only-of-type {\n",
       "        vertical-align: middle;\n",
       "    }\n",
       "\n",
       "    .dataframe tbody tr th {\n",
       "        vertical-align: top;\n",
       "    }\n",
       "\n",
       "    .dataframe thead th {\n",
       "        text-align: right;\n",
       "    }\n",
       "</style>\n",
       "<table border=\"1\" class=\"dataframe\">\n",
       "  <thead>\n",
       "    <tr style=\"text-align: right;\">\n",
       "      <th></th>\n",
       "      <th>codmun</th>\n",
       "      <th>mame_muni</th>\n",
       "      <th>cor</th>\n",
       "      <th>Sexo</th>\n",
       "      <th>Idade</th>\n",
       "      <th>Total</th>\n",
       "    </tr>\n",
       "  </thead>\n",
       "  <tbody>\n",
       "    <tr>\n",
       "      <th>0</th>\n",
       "      <td>1100015</td>\n",
       "      <td>Alta Floresta D'Oeste (RO)</td>\n",
       "      <td>1</td>\n",
       "      <td>2</td>\n",
       "      <td>4</td>\n",
       "      <td>430</td>\n",
       "    </tr>\n",
       "    <tr>\n",
       "      <th>1</th>\n",
       "      <td>1100015</td>\n",
       "      <td>Alta Floresta D'Oeste (RO)</td>\n",
       "      <td>1</td>\n",
       "      <td>2</td>\n",
       "      <td>509</td>\n",
       "      <td>393</td>\n",
       "    </tr>\n",
       "    <tr>\n",
       "      <th>2</th>\n",
       "      <td>1100015</td>\n",
       "      <td>Alta Floresta D'Oeste (RO)</td>\n",
       "      <td>1</td>\n",
       "      <td>2</td>\n",
       "      <td>1014</td>\n",
       "      <td>484</td>\n",
       "    </tr>\n",
       "    <tr>\n",
       "      <th>3</th>\n",
       "      <td>1100015</td>\n",
       "      <td>Alta Floresta D'Oeste (RO)</td>\n",
       "      <td>1</td>\n",
       "      <td>2</td>\n",
       "      <td>1519</td>\n",
       "      <td>524</td>\n",
       "    </tr>\n",
       "    <tr>\n",
       "      <th>4</th>\n",
       "      <td>1100015</td>\n",
       "      <td>Alta Floresta D'Oeste (RO)</td>\n",
       "      <td>1</td>\n",
       "      <td>2</td>\n",
       "      <td>2024</td>\n",
       "      <td>462</td>\n",
       "    </tr>\n",
       "  </tbody>\n",
       "</table>\n",
       "</div>"
      ],
      "text/plain": [
       "    codmun                   mame_muni cor  Sexo  Idade  Total\n",
       "0  1100015  Alta Floresta D'Oeste (RO)   1     2      4    430\n",
       "1  1100015  Alta Floresta D'Oeste (RO)   1     2    509    393\n",
       "2  1100015  Alta Floresta D'Oeste (RO)   1     2   1014    484\n",
       "3  1100015  Alta Floresta D'Oeste (RO)   1     2   1519    524\n",
       "4  1100015  Alta Floresta D'Oeste (RO)   1     2   2024    462"
      ]
     },
     "execution_count": 21,
     "metadata": {},
     "output_type": "execute_result"
    }
   ],
   "source": [
    "data.head()"
   ]
  },
  {
   "cell_type": "code",
   "execution_count": 20,
   "metadata": {},
   "outputs": [
    {
     "data": {
      "text/plain": [
       "cor\n",
       "1    91041211\n",
       "2    14514650\n",
       "3     2083987\n",
       "4    82267374\n",
       "5      817736\n",
       "9        6605\n",
       "Name: Total, dtype: int32"
      ]
     },
     "execution_count": 20,
     "metadata": {},
     "output_type": "execute_result"
    }
   ],
   "source": [
    "data.Total = data.Total.astype(int)\n",
    "data.groupby(['cor'])['Total'].sum()"
   ]
  },
  {
   "cell_type": "code",
   "execution_count": 23,
   "metadata": {},
   "outputs": [],
   "source": [
    "data.to_csv('pop_race_sex_age.csv')"
   ]
  }
 ],
 "metadata": {
  "kernelspec": {
   "display_name": "Python 3",
   "language": "python",
   "name": "python3"
  },
  "language_info": {
   "codemirror_mode": {
    "name": "ipython",
    "version": 3
   },
   "file_extension": ".py",
   "mimetype": "text/x-python",
   "name": "python",
   "nbconvert_exporter": "python",
   "pygments_lexer": "ipython3",
   "version": "3.6.5"
  }
 },
 "nbformat": 4,
 "nbformat_minor": 2
}

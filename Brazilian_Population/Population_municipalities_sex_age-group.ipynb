{
 "cells": [
  {
   "cell_type": "code",
   "execution_count": 1,
   "metadata": {},
   "outputs": [],
   "source": [
    "import pandas as pd\n",
    "from pandas import DataFrame\n",
    "import numpy as np\n",
    "import csv\n",
    "import sys\n",
    "import glob"
   ]
  },
  {
   "cell_type": "code",
   "execution_count": 2,
   "metadata": {},
   "outputs": [],
   "source": [
    "# get data file names\n",
    "path =r'G:\\Datalake\\POPULACAO\\csv'\n",
    "filenames = glob.glob(path + \"/*.csv\")"
   ]
  },
  {
   "cell_type": "code",
   "execution_count": 3,
   "metadata": {
    "scrolled": true
   },
   "outputs": [
    {
     "data": {
      "text/plain": [
       "['G:\\\\Datalake\\\\POPULACAO\\\\csv\\\\POPBR00.csv',\n",
       " 'G:\\\\Datalake\\\\POPULACAO\\\\csv\\\\POPBR01.csv',\n",
       " 'G:\\\\Datalake\\\\POPULACAO\\\\csv\\\\POPBR02.csv',\n",
       " 'G:\\\\Datalake\\\\POPULACAO\\\\csv\\\\POPBR03.csv',\n",
       " 'G:\\\\Datalake\\\\POPULACAO\\\\csv\\\\POPBR04.csv',\n",
       " 'G:\\\\Datalake\\\\POPULACAO\\\\csv\\\\POPBR05.csv',\n",
       " 'G:\\\\Datalake\\\\POPULACAO\\\\csv\\\\POPBR06.csv',\n",
       " 'G:\\\\Datalake\\\\POPULACAO\\\\csv\\\\POPBR07.csv',\n",
       " 'G:\\\\Datalake\\\\POPULACAO\\\\csv\\\\POPBR08.csv',\n",
       " 'G:\\\\Datalake\\\\POPULACAO\\\\csv\\\\POPBR09.csv',\n",
       " 'G:\\\\Datalake\\\\POPULACAO\\\\csv\\\\POPBR10.csv',\n",
       " 'G:\\\\Datalake\\\\POPULACAO\\\\csv\\\\POPBR11.csv',\n",
       " 'G:\\\\Datalake\\\\POPULACAO\\\\csv\\\\POPBR12.csv']"
      ]
     },
     "execution_count": 3,
     "metadata": {},
     "output_type": "execute_result"
    }
   ],
   "source": [
    "filenames"
   ]
  },
  {
   "cell_type": "code",
   "execution_count": 4,
   "metadata": {},
   "outputs": [],
   "source": [
    "df = pd.read_csv(filenames[0])"
   ]
  },
  {
   "cell_type": "code",
   "execution_count": 5,
   "metadata": {},
   "outputs": [
    {
     "data": {
      "text/html": [
       "<div>\n",
       "<style scoped>\n",
       "    .dataframe tbody tr th:only-of-type {\n",
       "        vertical-align: middle;\n",
       "    }\n",
       "\n",
       "    .dataframe tbody tr th {\n",
       "        vertical-align: top;\n",
       "    }\n",
       "\n",
       "    .dataframe thead th {\n",
       "        text-align: right;\n",
       "    }\n",
       "</style>\n",
       "<table border=\"1\" class=\"dataframe\">\n",
       "  <thead>\n",
       "    <tr style=\"text-align: right;\">\n",
       "      <th></th>\n",
       "      <th>MUNIC_RES</th>\n",
       "      <th>ANO</th>\n",
       "      <th>SEXO</th>\n",
       "      <th>SITUACAO</th>\n",
       "      <th>FXETARIA</th>\n",
       "      <th>POPULACAO</th>\n",
       "    </tr>\n",
       "  </thead>\n",
       "  <tbody>\n",
       "    <tr>\n",
       "      <th>0</th>\n",
       "      <td>110001</td>\n",
       "      <td>2000</td>\n",
       "      <td>1</td>\n",
       "      <td>1</td>\n",
       "      <td>0</td>\n",
       "      <td>118</td>\n",
       "    </tr>\n",
       "    <tr>\n",
       "      <th>1</th>\n",
       "      <td>110001</td>\n",
       "      <td>2000</td>\n",
       "      <td>1</td>\n",
       "      <td>1</td>\n",
       "      <td>101</td>\n",
       "      <td>110</td>\n",
       "    </tr>\n",
       "    <tr>\n",
       "      <th>2</th>\n",
       "      <td>110001</td>\n",
       "      <td>2000</td>\n",
       "      <td>1</td>\n",
       "      <td>1</td>\n",
       "      <td>202</td>\n",
       "      <td>127</td>\n",
       "    </tr>\n",
       "    <tr>\n",
       "      <th>3</th>\n",
       "      <td>110001</td>\n",
       "      <td>2000</td>\n",
       "      <td>1</td>\n",
       "      <td>1</td>\n",
       "      <td>303</td>\n",
       "      <td>149</td>\n",
       "    </tr>\n",
       "    <tr>\n",
       "      <th>4</th>\n",
       "      <td>110001</td>\n",
       "      <td>2000</td>\n",
       "      <td>1</td>\n",
       "      <td>1</td>\n",
       "      <td>404</td>\n",
       "      <td>140</td>\n",
       "    </tr>\n",
       "  </tbody>\n",
       "</table>\n",
       "</div>"
      ],
      "text/plain": [
       "   MUNIC_RES   ANO  SEXO  SITUACAO  FXETARIA  POPULACAO\n",
       "0     110001  2000     1         1         0        118\n",
       "1     110001  2000     1         1       101        110\n",
       "2     110001  2000     1         1       202        127\n",
       "3     110001  2000     1         1       303        149\n",
       "4     110001  2000     1         1       404        140"
      ]
     },
     "execution_count": 5,
     "metadata": {},
     "output_type": "execute_result"
    }
   ],
   "source": [
    "df.head()"
   ]
  },
  {
   "cell_type": "code",
   "execution_count": 6,
   "metadata": {
    "scrolled": true
   },
   "outputs": [],
   "source": [
    "lst_df = []\n",
    "for f in filenames:\n",
    "    df = pd.read_csv(f)\n",
    "    lst_df.append(df)"
   ]
  },
  {
   "cell_type": "code",
   "execution_count": 7,
   "metadata": {},
   "outputs": [
    {
     "data": {
      "text/plain": [
       "13"
      ]
     },
     "execution_count": 7,
     "metadata": {},
     "output_type": "execute_result"
    }
   ],
   "source": [
    "len(filenames)"
   ]
  },
  {
   "cell_type": "code",
   "execution_count": null,
   "metadata": {},
   "outputs": [],
   "source": [
    "fil"
   ]
  },
  {
   "cell_type": "code",
   "execution_count": 8,
   "metadata": {},
   "outputs": [],
   "source": [
    "POP = pd.read_csv(filenames[0])\n",
    "for i in range(1,13):\n",
    "    POP=POP.append(lst_df[i], ignore_index=True, sort=False)"
   ]
  },
  {
   "cell_type": "code",
   "execution_count": 9,
   "metadata": {
    "scrolled": true
   },
   "outputs": [
    {
     "data": {
      "text/html": [
       "<div>\n",
       "<style scoped>\n",
       "    .dataframe tbody tr th:only-of-type {\n",
       "        vertical-align: middle;\n",
       "    }\n",
       "\n",
       "    .dataframe tbody tr th {\n",
       "        vertical-align: top;\n",
       "    }\n",
       "\n",
       "    .dataframe thead th {\n",
       "        text-align: right;\n",
       "    }\n",
       "</style>\n",
       "<table border=\"1\" class=\"dataframe\">\n",
       "  <thead>\n",
       "    <tr style=\"text-align: right;\">\n",
       "      <th></th>\n",
       "      <th>MUNIC_RES</th>\n",
       "      <th>ANO</th>\n",
       "      <th>SEXO</th>\n",
       "      <th>SITUACAO</th>\n",
       "      <th>FXETARIA</th>\n",
       "      <th>POPULACAO</th>\n",
       "    </tr>\n",
       "  </thead>\n",
       "  <tbody>\n",
       "    <tr>\n",
       "      <th>0</th>\n",
       "      <td>110001</td>\n",
       "      <td>2000</td>\n",
       "      <td>1</td>\n",
       "      <td>1</td>\n",
       "      <td>0</td>\n",
       "      <td>118</td>\n",
       "    </tr>\n",
       "    <tr>\n",
       "      <th>1</th>\n",
       "      <td>110001</td>\n",
       "      <td>2000</td>\n",
       "      <td>1</td>\n",
       "      <td>1</td>\n",
       "      <td>101</td>\n",
       "      <td>110</td>\n",
       "    </tr>\n",
       "    <tr>\n",
       "      <th>2</th>\n",
       "      <td>110001</td>\n",
       "      <td>2000</td>\n",
       "      <td>1</td>\n",
       "      <td>1</td>\n",
       "      <td>202</td>\n",
       "      <td>127</td>\n",
       "    </tr>\n",
       "    <tr>\n",
       "      <th>3</th>\n",
       "      <td>110001</td>\n",
       "      <td>2000</td>\n",
       "      <td>1</td>\n",
       "      <td>1</td>\n",
       "      <td>303</td>\n",
       "      <td>149</td>\n",
       "    </tr>\n",
       "    <tr>\n",
       "      <th>4</th>\n",
       "      <td>110001</td>\n",
       "      <td>2000</td>\n",
       "      <td>1</td>\n",
       "      <td>1</td>\n",
       "      <td>404</td>\n",
       "      <td>140</td>\n",
       "    </tr>\n",
       "  </tbody>\n",
       "</table>\n",
       "</div>"
      ],
      "text/plain": [
       "   MUNIC_RES   ANO  SEXO  SITUACAO  FXETARIA  POPULACAO\n",
       "0     110001  2000     1         1         0        118\n",
       "1     110001  2000     1         1       101        110\n",
       "2     110001  2000     1         1       202        127\n",
       "3     110001  2000     1         1       303        149\n",
       "4     110001  2000     1         1       404        140"
      ]
     },
     "execution_count": 9,
     "metadata": {},
     "output_type": "execute_result"
    }
   ],
   "source": [
    "POP.head()"
   ]
  },
  {
   "cell_type": "code",
   "execution_count": 10,
   "metadata": {},
   "outputs": [],
   "source": [
    "#POP.to_csv('populacao.csv')"
   ]
  },
  {
   "cell_type": "code",
   "execution_count": null,
   "metadata": {},
   "outputs": [],
   "source": [
    "# The objective in the remaining part is to work out on the calculus of extrapolations and estimations.  "
   ]
  },
  {
   "cell_type": "code",
   "execution_count": 11,
   "metadata": {},
   "outputs": [
    {
     "data": {
      "text/plain": [
       "array([   0,  101,  202,  303,  404,  505,  606,  707,  808,  909, 1010,\n",
       "       1111, 1212, 1313, 1414, 1515, 1616, 1717, 1818, 1919, 2024, 2529,\n",
       "       3034, 3539, 4044, 4549, 5054, 5559, 6064, 6569, 7074, 7579, 8099],\n",
       "      dtype=int64)"
      ]
     },
     "execution_count": 11,
     "metadata": {},
     "output_type": "execute_result"
    }
   ],
   "source": [
    "POP.FXETARIA.unique()"
   ]
  },
  {
   "cell_type": "code",
   "execution_count": 12,
   "metadata": {
    "scrolled": false
   },
   "outputs": [
    {
     "name": "stdout",
     "output_type": "stream",
     "text": [
      "<class 'pandas.core.frame.DataFrame'>\n",
      "RangeIndex: 5495078 entries, 0 to 5495077\n",
      "Data columns (total 6 columns):\n",
      "MUNIC_RES    int64\n",
      "ANO          int64\n",
      "SEXO         int64\n",
      "SITUACAO     int64\n",
      "FXETARIA     int64\n",
      "POPULACAO    int64\n",
      "dtypes: int64(6)\n",
      "memory usage: 251.5 MB\n"
     ]
    }
   ],
   "source": [
    "POP.info()"
   ]
  },
  {
   "cell_type": "code",
   "execution_count": 17,
   "metadata": {},
   "outputs": [],
   "source": [
    "#lista de populacao femenina por municipio para cada faixa etaria e por ano\n",
    "lst = []\n",
    "for i in pop_female['MUNIC_RES'].unique():\n",
    "    data_muni = pop_female[pop_female.MUNIC_RES == i]\n",
    "    lst.append(data_muni)"
   ]
  },
  {
   "cell_type": "code",
   "execution_count": 86,
   "metadata": {},
   "outputs": [],
   "source": [
    "# funcao para calcular a taxa de (de)crescimento da populacao na faixa etaria \n",
    "def inicial_final_pop(dataframe):\n",
    "    results=[]\n",
    "    for fx in dataframe['FXETARIA'].unique():\n",
    "        pop_i = dataframe[dataframe.FXETARIA == fx][dataframe[dataframe.FXETARIA == fx].ANO ==2000].iloc[0]['POPULACAO']\n",
    "        pop_f = dataframe[dataframe.FXETARIA == fx][dataframe[dataframe.FXETARIA == fx].ANO ==2010].iloc[0]['POPULACAO']\n",
    "        growth_rate = (pop_f/pop_i)**(1/10) -1\n",
    "        #print(fx,pop_i,pop_f,growth_rate)\n",
    "        population = pop_f + growth_rate*pop_f\n",
    "        results.append([fx,pop_i,pop_f,growth_rate,population])\n",
    "    return results"
   ]
  },
  {
   "cell_type": "code",
   "execution_count": 74,
   "metadata": {},
   "outputs": [
    {
     "data": {
      "text/plain": [
       "range(0, 5566)"
      ]
     },
     "execution_count": 74,
     "metadata": {},
     "output_type": "execute_result"
    }
   ],
   "source": [
    "range(len(lst))"
   ]
  },
  {
   "cell_type": "code",
   "execution_count": 82,
   "metadata": {
    "scrolled": true
   },
   "outputs": [
    {
     "name": "stdout",
     "output_type": "stream",
     "text": [
      "265.43314652012197\n",
      "256.1991100784456\n",
      "247.28631245009782\n",
      "238.68357819995444\n",
      "230.38012067016544\n",
      "222.36552845515416\n",
      "214.62975234713193\n",
      "207.1630927357591\n",
      "199.95618744615402\n",
      "192.9999999999999\n",
      "186.28580828503092\n",
      "179.80519361869077\n",
      "173.55003019225035\n",
      "167.51247488214972\n",
      "161.68495741578872\n",
      "156.06017087943536\n",
      "150.63106255635068\n",
      "883.6592685811434\n",
      "863.776220076727\n",
      "844.3405562508686\n",
      "825.3422105863256\n",
      "806.7713430706376\n",
      "788.6183350995866\n",
      "770.8737844953315\n",
      "753.5285006366399\n",
      "736.5734996986934\n",
      "720.0000000000003\n",
      "703.7994174540082\n",
      "687.9633611230571\n",
      "672.4836288723734\n",
      "657.3522031218523\n",
      "642.5612466934283\n",
      "628.1030987518832\n",
      "613.9702708369897\n",
      "600.1554429849344\n",
      "586.6514599370124\n",
      "573.4513274336286\n",
      "560.5482085916881\n",
      "547.935420363497\n",
      "535.6064300753419\n",
      "523.5548520439535\n",
      "511.77444426910245\n",
      "500.25910520061524\n",
      "489.0028705781337\n",
      "477.99991034198354\n",
      "467.2445256135501\n",
      "456.7311457435984\n",
      "446.45432542700854\n",
      "436.4087418824315\n",
      "426.5891920954053\n",
      "416.99059012350295\n",
      "407.6079644621172\n",
      "398.4364554695167\n",
      "389.4713128498412\n",
      "380.7078931927304\n",
      "372.1416575683144\n",
      "363.76816917631743\n",
      "355.58309104806\n",
      "347.5821838001668\n",
      "339.76130343881846\n",
      "332.1163992134095\n",
      "324.64351151850053\n",
      "317.338769842978\n",
      "310.19839076536033\n",
      "303.2186759942102\n",
      "296.39601045263987\n",
      "289.7268604059166\n",
      "283.20777163119834\n",
      "276.83536762845154\n",
      "270.6063478716254\n",
      "264.5174860991758\n",
      "258.56562864305357\n",
      "252.7476927952923\n",
      "247.060665211349\n",
      "241.501600349371\n",
      "236.0676189445805\n",
      "230.75590651798677\n",
      "225.5637119186536\n",
      "220.48834589876677\n",
      "215.52717972076368\n",
      "210.67764379580382\n",
      "205.9372263528746\n",
      "201.3034721378435\n",
      "196.77398114178246\n",
      "192.34640735790617\n",
      "188.0184575664801\n",
      "183.78789014706916\n",
      "179.65251391751178\n",
      "175.61018699901786\n",
      "171.658815706803\n",
      "167.79635346568455\n",
      "164.0207997500772\n",
      "160.33019904784004\n",
      "156.72263984743745\n",
      "153.19625364788996\n",
      "698.7593933616422\n",
      "688.6666993104799\n",
      "678.7197814366084\n",
      "668.9165341878573\n",
      "659.2548824240894\n",
      "649.7327809779372\n",
      "640.3482142218845\n",
      "631.0991956416008\n",
      "621.9837674154377\n",
      "613.0\n",
      "604.145991721702\n"
     ]
    },
    {
     "ename": "KeyboardInterrupt",
     "evalue": "",
     "output_type": "error",
     "traceback": [
      "\u001b[1;31m---------------------------------------------------------------------------\u001b[0m",
      "\u001b[1;31mKeyboardInterrupt\u001b[0m                         Traceback (most recent call last)",
      "\u001b[1;32m<ipython-input-82-76227b811d5d>\u001b[0m in \u001b[0;36m<module>\u001b[1;34m()\u001b[0m\n\u001b[0;32m      5\u001b[0m     \u001b[0mpopulation\u001b[0m \u001b[1;33m=\u001b[0m \u001b[0minicial_final_pop\u001b[0m\u001b[1;33m(\u001b[0m\u001b[0mlst\u001b[0m\u001b[1;33m[\u001b[0m\u001b[0mi\u001b[0m\u001b[1;33m]\u001b[0m\u001b[1;33m)\u001b[0m\u001b[1;33m[\u001b[0m\u001b[1;36m0\u001b[0m\u001b[1;33m]\u001b[0m\u001b[1;33m[\u001b[0m\u001b[1;36m1\u001b[0m\u001b[1;33m]\u001b[0m\u001b[1;33m\u001b[0m\u001b[0m\n\u001b[0;32m      6\u001b[0m     \u001b[1;32mwhile\u001b[0m \u001b[0mpopulation\u001b[0m \u001b[1;33m<\u001b[0m \u001b[1;36m1000\u001b[0m\u001b[1;33m:\u001b[0m\u001b[1;33m\u001b[0m\u001b[0m\n\u001b[1;32m----> 7\u001b[1;33m         \u001b[0mpopulation\u001b[0m \u001b[1;33m=\u001b[0m \u001b[0mpopulation\u001b[0m \u001b[1;33m+\u001b[0m \u001b[0minicial_final_pop\u001b[0m\u001b[1;33m(\u001b[0m\u001b[0mlst\u001b[0m\u001b[1;33m[\u001b[0m\u001b[0mi\u001b[0m\u001b[1;33m]\u001b[0m\u001b[1;33m)\u001b[0m\u001b[1;33m[\u001b[0m\u001b[1;36m0\u001b[0m\u001b[1;33m]\u001b[0m\u001b[1;33m[\u001b[0m\u001b[1;36m3\u001b[0m\u001b[1;33m]\u001b[0m\u001b[1;33m*\u001b[0m\u001b[0mpopulation\u001b[0m\u001b[1;33m\u001b[0m\u001b[0m\n\u001b[0m\u001b[0;32m      8\u001b[0m         \u001b[1;32mif\u001b[0m \u001b[0mpopulation\u001b[0m \u001b[1;33m>=\u001b[0m \u001b[1;36m1000\u001b[0m \u001b[1;32mor\u001b[0m \u001b[0mpopulation\u001b[0m\u001b[1;33m<\u001b[0m\u001b[1;36m150\u001b[0m\u001b[1;33m:\u001b[0m\u001b[1;33m\u001b[0m\u001b[0m\n\u001b[0;32m      9\u001b[0m             \u001b[1;32mbreak\u001b[0m\u001b[1;33m\u001b[0m\u001b[0m\n",
      "\u001b[1;32m<ipython-input-37-42829fd901aa>\u001b[0m in \u001b[0;36minicial_final_pop\u001b[1;34m(dataframe)\u001b[0m\n\u001b[0;32m      3\u001b[0m     \u001b[0mresults\u001b[0m\u001b[1;33m=\u001b[0m\u001b[1;33m[\u001b[0m\u001b[1;33m]\u001b[0m\u001b[1;33m\u001b[0m\u001b[0m\n\u001b[0;32m      4\u001b[0m     \u001b[1;32mfor\u001b[0m \u001b[0mfx\u001b[0m \u001b[1;32min\u001b[0m \u001b[0mdataframe\u001b[0m\u001b[1;33m[\u001b[0m\u001b[1;34m'FXETARIA'\u001b[0m\u001b[1;33m]\u001b[0m\u001b[1;33m.\u001b[0m\u001b[0munique\u001b[0m\u001b[1;33m(\u001b[0m\u001b[1;33m)\u001b[0m\u001b[1;33m:\u001b[0m\u001b[1;33m\u001b[0m\u001b[0m\n\u001b[1;32m----> 5\u001b[1;33m         \u001b[0mpop_i\u001b[0m \u001b[1;33m=\u001b[0m \u001b[0mdataframe\u001b[0m\u001b[1;33m[\u001b[0m\u001b[0mdataframe\u001b[0m\u001b[1;33m.\u001b[0m\u001b[0mFXETARIA\u001b[0m \u001b[1;33m==\u001b[0m \u001b[0mfx\u001b[0m\u001b[1;33m]\u001b[0m\u001b[1;33m[\u001b[0m\u001b[0mdataframe\u001b[0m\u001b[1;33m[\u001b[0m\u001b[0mdataframe\u001b[0m\u001b[1;33m.\u001b[0m\u001b[0mFXETARIA\u001b[0m \u001b[1;33m==\u001b[0m \u001b[0mfx\u001b[0m\u001b[1;33m]\u001b[0m\u001b[1;33m.\u001b[0m\u001b[0mANO\u001b[0m \u001b[1;33m==\u001b[0m\u001b[1;36m2000\u001b[0m\u001b[1;33m]\u001b[0m\u001b[1;33m.\u001b[0m\u001b[0miloc\u001b[0m\u001b[1;33m[\u001b[0m\u001b[1;36m0\u001b[0m\u001b[1;33m]\u001b[0m\u001b[1;33m[\u001b[0m\u001b[1;34m'POPULACAO'\u001b[0m\u001b[1;33m]\u001b[0m\u001b[1;33m\u001b[0m\u001b[0m\n\u001b[0m\u001b[0;32m      6\u001b[0m         \u001b[0mpop_f\u001b[0m \u001b[1;33m=\u001b[0m \u001b[0mdataframe\u001b[0m\u001b[1;33m[\u001b[0m\u001b[0mdataframe\u001b[0m\u001b[1;33m.\u001b[0m\u001b[0mFXETARIA\u001b[0m \u001b[1;33m==\u001b[0m \u001b[0mfx\u001b[0m\u001b[1;33m]\u001b[0m\u001b[1;33m[\u001b[0m\u001b[0mdataframe\u001b[0m\u001b[1;33m[\u001b[0m\u001b[0mdataframe\u001b[0m\u001b[1;33m.\u001b[0m\u001b[0mFXETARIA\u001b[0m \u001b[1;33m==\u001b[0m \u001b[0mfx\u001b[0m\u001b[1;33m]\u001b[0m\u001b[1;33m.\u001b[0m\u001b[0mANO\u001b[0m \u001b[1;33m==\u001b[0m\u001b[1;36m2010\u001b[0m\u001b[1;33m]\u001b[0m\u001b[1;33m.\u001b[0m\u001b[0miloc\u001b[0m\u001b[1;33m[\u001b[0m\u001b[1;36m0\u001b[0m\u001b[1;33m]\u001b[0m\u001b[1;33m[\u001b[0m\u001b[1;34m'POPULACAO'\u001b[0m\u001b[1;33m]\u001b[0m\u001b[1;33m\u001b[0m\u001b[0m\n\u001b[0;32m      7\u001b[0m         \u001b[0mgrowth_rate\u001b[0m \u001b[1;33m=\u001b[0m \u001b[1;33m(\u001b[0m\u001b[0mpop_f\u001b[0m\u001b[1;33m/\u001b[0m\u001b[0mpop_i\u001b[0m\u001b[1;33m)\u001b[0m\u001b[1;33m**\u001b[0m\u001b[1;33m(\u001b[0m\u001b[1;36m1\u001b[0m\u001b[1;33m/\u001b[0m\u001b[1;36m10\u001b[0m\u001b[1;33m)\u001b[0m \u001b[1;33m-\u001b[0m\u001b[1;36m1\u001b[0m\u001b[1;33m\u001b[0m\u001b[0m\n",
      "\u001b[1;32mC:\\ProgramData\\Anaconda3\\lib\\site-packages\\pandas\\core\\frame.py\u001b[0m in \u001b[0;36m__getitem__\u001b[1;34m(self, key)\u001b[0m\n\u001b[0;32m   2677\u001b[0m         \u001b[1;32mif\u001b[0m \u001b[0misinstance\u001b[0m\u001b[1;33m(\u001b[0m\u001b[0mkey\u001b[0m\u001b[1;33m,\u001b[0m \u001b[1;33m(\u001b[0m\u001b[0mSeries\u001b[0m\u001b[1;33m,\u001b[0m \u001b[0mnp\u001b[0m\u001b[1;33m.\u001b[0m\u001b[0mndarray\u001b[0m\u001b[1;33m,\u001b[0m \u001b[0mIndex\u001b[0m\u001b[1;33m,\u001b[0m \u001b[0mlist\u001b[0m\u001b[1;33m)\u001b[0m\u001b[1;33m)\u001b[0m\u001b[1;33m:\u001b[0m\u001b[1;33m\u001b[0m\u001b[0m\n\u001b[0;32m   2678\u001b[0m             \u001b[1;31m# either boolean or fancy integer index\u001b[0m\u001b[1;33m\u001b[0m\u001b[1;33m\u001b[0m\u001b[0m\n\u001b[1;32m-> 2679\u001b[1;33m             \u001b[1;32mreturn\u001b[0m \u001b[0mself\u001b[0m\u001b[1;33m.\u001b[0m\u001b[0m_getitem_array\u001b[0m\u001b[1;33m(\u001b[0m\u001b[0mkey\u001b[0m\u001b[1;33m)\u001b[0m\u001b[1;33m\u001b[0m\u001b[0m\n\u001b[0m\u001b[0;32m   2680\u001b[0m         \u001b[1;32melif\u001b[0m \u001b[0misinstance\u001b[0m\u001b[1;33m(\u001b[0m\u001b[0mkey\u001b[0m\u001b[1;33m,\u001b[0m \u001b[0mDataFrame\u001b[0m\u001b[1;33m)\u001b[0m\u001b[1;33m:\u001b[0m\u001b[1;33m\u001b[0m\u001b[0m\n\u001b[0;32m   2681\u001b[0m             \u001b[1;32mreturn\u001b[0m \u001b[0mself\u001b[0m\u001b[1;33m.\u001b[0m\u001b[0m_getitem_frame\u001b[0m\u001b[1;33m(\u001b[0m\u001b[0mkey\u001b[0m\u001b[1;33m)\u001b[0m\u001b[1;33m\u001b[0m\u001b[0m\n",
      "\u001b[1;32mC:\\ProgramData\\Anaconda3\\lib\\site-packages\\pandas\\core\\frame.py\u001b[0m in \u001b[0;36m_getitem_array\u001b[1;34m(self, key)\u001b[0m\n\u001b[0;32m   2719\u001b[0m             \u001b[0mkey\u001b[0m \u001b[1;33m=\u001b[0m \u001b[0mcheck_bool_indexer\u001b[0m\u001b[1;33m(\u001b[0m\u001b[0mself\u001b[0m\u001b[1;33m.\u001b[0m\u001b[0mindex\u001b[0m\u001b[1;33m,\u001b[0m \u001b[0mkey\u001b[0m\u001b[1;33m)\u001b[0m\u001b[1;33m\u001b[0m\u001b[0m\n\u001b[0;32m   2720\u001b[0m             \u001b[0mindexer\u001b[0m \u001b[1;33m=\u001b[0m \u001b[0mkey\u001b[0m\u001b[1;33m.\u001b[0m\u001b[0mnonzero\u001b[0m\u001b[1;33m(\u001b[0m\u001b[1;33m)\u001b[0m\u001b[1;33m[\u001b[0m\u001b[1;36m0\u001b[0m\u001b[1;33m]\u001b[0m\u001b[1;33m\u001b[0m\u001b[0m\n\u001b[1;32m-> 2721\u001b[1;33m             \u001b[1;32mreturn\u001b[0m \u001b[0mself\u001b[0m\u001b[1;33m.\u001b[0m\u001b[0m_take\u001b[0m\u001b[1;33m(\u001b[0m\u001b[0mindexer\u001b[0m\u001b[1;33m,\u001b[0m \u001b[0maxis\u001b[0m\u001b[1;33m=\u001b[0m\u001b[1;36m0\u001b[0m\u001b[1;33m)\u001b[0m\u001b[1;33m\u001b[0m\u001b[0m\n\u001b[0m\u001b[0;32m   2722\u001b[0m         \u001b[1;32melse\u001b[0m\u001b[1;33m:\u001b[0m\u001b[1;33m\u001b[0m\u001b[0m\n\u001b[0;32m   2723\u001b[0m             \u001b[0mindexer\u001b[0m \u001b[1;33m=\u001b[0m \u001b[0mself\u001b[0m\u001b[1;33m.\u001b[0m\u001b[0mloc\u001b[0m\u001b[1;33m.\u001b[0m\u001b[0m_convert_to_indexer\u001b[0m\u001b[1;33m(\u001b[0m\u001b[0mkey\u001b[0m\u001b[1;33m,\u001b[0m \u001b[0maxis\u001b[0m\u001b[1;33m=\u001b[0m\u001b[1;36m1\u001b[0m\u001b[1;33m)\u001b[0m\u001b[1;33m\u001b[0m\u001b[0m\n",
      "\u001b[1;32mC:\\ProgramData\\Anaconda3\\lib\\site-packages\\pandas\\core\\generic.py\u001b[0m in \u001b[0;36m_take\u001b[1;34m(self, indices, axis, is_copy)\u001b[0m\n\u001b[0;32m   2784\u001b[0m         new_data = self._data.take(indices,\n\u001b[0;32m   2785\u001b[0m                                    \u001b[0maxis\u001b[0m\u001b[1;33m=\u001b[0m\u001b[0mself\u001b[0m\u001b[1;33m.\u001b[0m\u001b[0m_get_block_manager_axis\u001b[0m\u001b[1;33m(\u001b[0m\u001b[0maxis\u001b[0m\u001b[1;33m)\u001b[0m\u001b[1;33m,\u001b[0m\u001b[1;33m\u001b[0m\u001b[0m\n\u001b[1;32m-> 2786\u001b[1;33m                                    verify=True)\n\u001b[0m\u001b[0;32m   2787\u001b[0m         \u001b[0mresult\u001b[0m \u001b[1;33m=\u001b[0m \u001b[0mself\u001b[0m\u001b[1;33m.\u001b[0m\u001b[0m_constructor\u001b[0m\u001b[1;33m(\u001b[0m\u001b[0mnew_data\u001b[0m\u001b[1;33m)\u001b[0m\u001b[1;33m.\u001b[0m\u001b[0m__finalize__\u001b[0m\u001b[1;33m(\u001b[0m\u001b[0mself\u001b[0m\u001b[1;33m)\u001b[0m\u001b[1;33m\u001b[0m\u001b[0m\n\u001b[0;32m   2788\u001b[0m \u001b[1;33m\u001b[0m\u001b[0m\n",
      "\u001b[1;32mC:\\ProgramData\\Anaconda3\\lib\\site-packages\\pandas\\core\\internals.py\u001b[0m in \u001b[0;36mtake\u001b[1;34m(self, indexer, axis, verify, convert)\u001b[0m\n\u001b[0;32m   4537\u001b[0m         \u001b[0mnew_labels\u001b[0m \u001b[1;33m=\u001b[0m \u001b[0mself\u001b[0m\u001b[1;33m.\u001b[0m\u001b[0maxes\u001b[0m\u001b[1;33m[\u001b[0m\u001b[0maxis\u001b[0m\u001b[1;33m]\u001b[0m\u001b[1;33m.\u001b[0m\u001b[0mtake\u001b[0m\u001b[1;33m(\u001b[0m\u001b[0mindexer\u001b[0m\u001b[1;33m)\u001b[0m\u001b[1;33m\u001b[0m\u001b[0m\n\u001b[0;32m   4538\u001b[0m         return self.reindex_indexer(new_axis=new_labels, indexer=indexer,\n\u001b[1;32m-> 4539\u001b[1;33m                                     axis=axis, allow_dups=True)\n\u001b[0m\u001b[0;32m   4540\u001b[0m \u001b[1;33m\u001b[0m\u001b[0m\n\u001b[0;32m   4541\u001b[0m     \u001b[1;32mdef\u001b[0m \u001b[0mmerge\u001b[0m\u001b[1;33m(\u001b[0m\u001b[0mself\u001b[0m\u001b[1;33m,\u001b[0m \u001b[0mother\u001b[0m\u001b[1;33m,\u001b[0m \u001b[0mlsuffix\u001b[0m\u001b[1;33m=\u001b[0m\u001b[1;34m''\u001b[0m\u001b[1;33m,\u001b[0m \u001b[0mrsuffix\u001b[0m\u001b[1;33m=\u001b[0m\u001b[1;34m''\u001b[0m\u001b[1;33m)\u001b[0m\u001b[1;33m:\u001b[0m\u001b[1;33m\u001b[0m\u001b[0m\n",
      "\u001b[1;32mC:\\ProgramData\\Anaconda3\\lib\\site-packages\\pandas\\core\\internals.py\u001b[0m in \u001b[0;36mreindex_indexer\u001b[1;34m(self, new_axis, indexer, axis, fill_value, allow_dups, copy)\u001b[0m\n\u001b[0;32m   4427\u001b[0m         \u001b[0mnew_axes\u001b[0m \u001b[1;33m=\u001b[0m \u001b[0mlist\u001b[0m\u001b[1;33m(\u001b[0m\u001b[0mself\u001b[0m\u001b[1;33m.\u001b[0m\u001b[0maxes\u001b[0m\u001b[1;33m)\u001b[0m\u001b[1;33m\u001b[0m\u001b[0m\n\u001b[0;32m   4428\u001b[0m         \u001b[0mnew_axes\u001b[0m\u001b[1;33m[\u001b[0m\u001b[0maxis\u001b[0m\u001b[1;33m]\u001b[0m \u001b[1;33m=\u001b[0m \u001b[0mnew_axis\u001b[0m\u001b[1;33m\u001b[0m\u001b[0m\n\u001b[1;32m-> 4429\u001b[1;33m         \u001b[1;32mreturn\u001b[0m \u001b[0mself\u001b[0m\u001b[1;33m.\u001b[0m\u001b[0m__class__\u001b[0m\u001b[1;33m(\u001b[0m\u001b[0mnew_blocks\u001b[0m\u001b[1;33m,\u001b[0m \u001b[0mnew_axes\u001b[0m\u001b[1;33m)\u001b[0m\u001b[1;33m\u001b[0m\u001b[0m\n\u001b[0m\u001b[0;32m   4430\u001b[0m \u001b[1;33m\u001b[0m\u001b[0m\n\u001b[0;32m   4431\u001b[0m     \u001b[1;32mdef\u001b[0m \u001b[0m_slice_take_blocks_ax0\u001b[0m\u001b[1;33m(\u001b[0m\u001b[0mself\u001b[0m\u001b[1;33m,\u001b[0m \u001b[0mslice_or_indexer\u001b[0m\u001b[1;33m,\u001b[0m \u001b[0mfill_tuple\u001b[0m\u001b[1;33m=\u001b[0m\u001b[1;32mNone\u001b[0m\u001b[1;33m)\u001b[0m\u001b[1;33m:\u001b[0m\u001b[1;33m\u001b[0m\u001b[0m\n",
      "\u001b[1;32mC:\\ProgramData\\Anaconda3\\lib\\site-packages\\pandas\\core\\internals.py\u001b[0m in \u001b[0;36m__init__\u001b[1;34m(self, blocks, axes, do_integrity_check)\u001b[0m\n\u001b[0;32m   3284\u001b[0m         \u001b[0mself\u001b[0m\u001b[1;33m.\u001b[0m\u001b[0m_consolidate_check\u001b[0m\u001b[1;33m(\u001b[0m\u001b[1;33m)\u001b[0m\u001b[1;33m\u001b[0m\u001b[0m\n\u001b[0;32m   3285\u001b[0m \u001b[1;33m\u001b[0m\u001b[0m\n\u001b[1;32m-> 3286\u001b[1;33m         \u001b[0mself\u001b[0m\u001b[1;33m.\u001b[0m\u001b[0m_rebuild_blknos_and_blklocs\u001b[0m\u001b[1;33m(\u001b[0m\u001b[1;33m)\u001b[0m\u001b[1;33m\u001b[0m\u001b[0m\n\u001b[0m\u001b[0;32m   3287\u001b[0m \u001b[1;33m\u001b[0m\u001b[0m\n\u001b[0;32m   3288\u001b[0m     \u001b[1;32mdef\u001b[0m \u001b[0mmake_empty\u001b[0m\u001b[1;33m(\u001b[0m\u001b[0mself\u001b[0m\u001b[1;33m,\u001b[0m \u001b[0maxes\u001b[0m\u001b[1;33m=\u001b[0m\u001b[1;32mNone\u001b[0m\u001b[1;33m)\u001b[0m\u001b[1;33m:\u001b[0m\u001b[1;33m\u001b[0m\u001b[0m\n",
      "\u001b[1;32mC:\\ProgramData\\Anaconda3\\lib\\site-packages\\pandas\\core\\internals.py\u001b[0m in \u001b[0;36m_rebuild_blknos_and_blklocs\u001b[1;34m(self)\u001b[0m\n\u001b[0;32m   3373\u001b[0m             \u001b[0mrl\u001b[0m \u001b[1;33m=\u001b[0m \u001b[0mblk\u001b[0m\u001b[1;33m.\u001b[0m\u001b[0mmgr_locs\u001b[0m\u001b[1;33m\u001b[0m\u001b[0m\n\u001b[0;32m   3374\u001b[0m             \u001b[0mnew_blknos\u001b[0m\u001b[1;33m[\u001b[0m\u001b[0mrl\u001b[0m\u001b[1;33m.\u001b[0m\u001b[0mindexer\u001b[0m\u001b[1;33m]\u001b[0m \u001b[1;33m=\u001b[0m \u001b[0mblkno\u001b[0m\u001b[1;33m\u001b[0m\u001b[0m\n\u001b[1;32m-> 3375\u001b[1;33m             \u001b[0mnew_blklocs\u001b[0m\u001b[1;33m[\u001b[0m\u001b[0mrl\u001b[0m\u001b[1;33m.\u001b[0m\u001b[0mindexer\u001b[0m\u001b[1;33m]\u001b[0m \u001b[1;33m=\u001b[0m \u001b[0mnp\u001b[0m\u001b[1;33m.\u001b[0m\u001b[0marange\u001b[0m\u001b[1;33m(\u001b[0m\u001b[0mlen\u001b[0m\u001b[1;33m(\u001b[0m\u001b[0mrl\u001b[0m\u001b[1;33m)\u001b[0m\u001b[1;33m)\u001b[0m\u001b[1;33m\u001b[0m\u001b[0m\n\u001b[0m\u001b[0;32m   3376\u001b[0m \u001b[1;33m\u001b[0m\u001b[0m\n\u001b[0;32m   3377\u001b[0m         \u001b[1;32mif\u001b[0m \u001b[1;33m(\u001b[0m\u001b[0mnew_blknos\u001b[0m \u001b[1;33m==\u001b[0m \u001b[1;33m-\u001b[0m\u001b[1;36m1\u001b[0m\u001b[1;33m)\u001b[0m\u001b[1;33m.\u001b[0m\u001b[0many\u001b[0m\u001b[1;33m(\u001b[0m\u001b[1;33m)\u001b[0m\u001b[1;33m:\u001b[0m\u001b[1;33m\u001b[0m\u001b[0m\n",
      "\u001b[1;31mKeyboardInterrupt\u001b[0m: "
     ]
    }
   ],
   "source": [
    "time = 1999\n",
    "\n",
    "for i in range(len(lst)):\n",
    "    pop = []\n",
    "    population = inicial_final_pop(lst[i])[0][1]\n",
    "    while population < 1000:\n",
    "        population = population + inicial_final_pop(lst[i])[0][3]*population\n",
    "        if population >= 1000 or population<150:\n",
    "            break\n",
    "        else:\n",
    "            print (population)\n",
    "            time = time + 1\n",
    "            pop.append([time,population])\n",
    "#return pop"
   ]
  },
  {
   "cell_type": "code",
   "execution_count": 83,
   "metadata": {},
   "outputs": [
    {
     "data": {
      "text/plain": [
       "[[2095, 698.7593933616422],\n",
       " [2096, 688.6666993104799],\n",
       " [2097, 678.7197814366084],\n",
       " [2098, 668.9165341878573],\n",
       " [2099, 659.2548824240894],\n",
       " [2100, 649.7327809779372],\n",
       " [2101, 640.3482142218845],\n",
       " [2102, 631.0991956416008],\n",
       " [2103, 621.9837674154377],\n",
       " [2104, 613.0],\n",
       " [2105, 604.145991721702]]"
      ]
     },
     "execution_count": 83,
     "metadata": {},
     "output_type": "execute_result"
    }
   ],
   "source": [
    "pop"
   ]
  },
  {
   "cell_type": "code",
   "execution_count": 49,
   "metadata": {
    "scrolled": true
   },
   "outputs": [
    {
     "data": {
      "text/plain": [
       "275"
      ]
     },
     "execution_count": 49,
     "metadata": {},
     "output_type": "execute_result"
    }
   ],
   "source": [
    "population = inicial_final_pop(lst[0])[0][1]\n",
    "population"
   ]
  },
  {
   "cell_type": "code",
   "execution_count": 87,
   "metadata": {
    "scrolled": true
   },
   "outputs": [
    {
     "data": {
      "text/plain": [
       "[[0, 275, 193, -0.03478855810864745, 186.28580828503104],\n",
       " [101, 283, 161, -0.05484302414337705, 152.1702731129163],\n",
       " [202, 294, 187, -0.044238730343908794, 178.72735742568906],\n",
       " [303, 320, 223, -0.03547055895688822, 215.09006535261392],\n",
       " [404, 324, 192, -0.05097943874728983, 182.21194776052036],\n",
       " [505, 349, 208, -0.05043698483557735, 197.5091071541999],\n",
       " [606, 327, 212, -0.04241174478103815, 203.00871010641993],\n",
       " [707, 331, 202, -0.04818545400769103, 192.26653829044642],\n",
       " [808, 350, 218, -0.04624057002299775, 207.9195557349865],\n",
       " [909, 320, 233, -0.031230194583643622, 225.72336466201102],\n",
       " [1010, 327, 270, -0.018971552326960683, 264.8776808717206],\n",
       " [1111, 357, 228, -0.04384860479385744, 218.0025181070005],\n",
       " [1212, 325, 237, -0.03108317251052739, 229.633288115005],\n",
       " [1313, 300, 254, -0.016507061121817768, 249.80720647505828],\n",
       " [1414, 261, 267, 0.0022754099326549593, 267.60753445201885],\n",
       " [1515, 336, 290, -0.014615169944764972, 285.76160071601817],\n",
       " [1616, 300, 273, -0.009386734904589189, 270.43742137104715],\n",
       " [1717, 317, 267, -0.017018826936322173, 262.455973208002],\n",
       " [1818, 275, 276, 0.00036304268910969384, 276.1001997821943],\n",
       " [1919, 294, 256, -0.013744896600526912, 252.4813064702651],\n",
       " [2024, 1292, 1105, -0.015513021044893605, 1087.8581117453925],\n",
       " [2529, 1144, 1053, -0.008254508874888433, 1044.3080021547426],\n",
       " [3034, 1081, 951, -0.012731041354121286, 938.8927796722306],\n",
       " [3539, 1026, 878, -0.015456939299169692, 864.428807295329],\n",
       " [4044, 852, 913, 0.006938898745401767, 919.3352145545518],\n",
       " [4549, 597, 846, 0.035474964778761775, 876.0118202028325],\n",
       " [5054, 428, 631, 0.039581539893908335, 655.9759516730562],\n",
       " [5559, 366, 489, 0.02939671351278217, 503.3749929077505],\n",
       " [6064, 345, 351, 0.0017256678975383632, 351.60570943203595],\n",
       " [6569, 249, 301, 0.01914672881994184, 306.7631653748025],\n",
       " [7074, 155, 239, 0.044255136789156824, 249.57697769260847],\n",
       " [7579, 74, 154, 0.07604119994788716, 165.71034479197462],\n",
       " [8099, 50, 98, 0.06961037572506878, 104.82181682105674]]"
      ]
     },
     "execution_count": 87,
     "metadata": {},
     "output_type": "execute_result"
    }
   ],
   "source": [
    "inicial_final_pop(lst[0])"
   ]
  },
  {
   "cell_type": "code",
   "execution_count": null,
   "metadata": {},
   "outputs": [],
   "source": []
  },
  {
   "cell_type": "code",
   "execution_count": null,
   "metadata": {},
   "outputs": [],
   "source": []
  },
  {
   "cell_type": "code",
   "execution_count": null,
   "metadata": {},
   "outputs": [],
   "source": [
    "for i in pop_female.FXETARIA.unique():\n",
    "    fxi = lst[0][lst[0].FXETARIA == i]\n",
    "    time = 0 #### esse programa ta melhor\n",
    "    population = fxi.POPULACAO[0] \n",
    "    pop = [population] \n",
    "    pop_final = fx1[fx1.ANO ==2010].iloc[0]['POPULACAO']\n",
    "    growth_rate = (pop_final/population)**(1/10) -1 #    \n",
    "    while population < 1000:\n",
    "        population = population + growth_rate * population\n",
    "        if population >= 1000 or population<100:\n",
    "            break\n",
    "        else:\n",
    "            print (population)\n",
    "            time = time + 1\n",
    "    pop.append(population)\n",
    "    plot(fxi.ANO,fxi.POPULACAO)"
   ]
  },
  {
   "cell_type": "code",
   "execution_count": null,
   "metadata": {
    "scrolled": true
   },
   "outputs": [],
   "source": [
    "inicial_final_pop(lst[0])"
   ]
  },
  {
   "cell_type": "code",
   "execution_count": null,
   "metadata": {},
   "outputs": [],
   "source": [
    "lst[0];"
   ]
  },
  {
   "cell_type": "code",
   "execution_count": null,
   "metadata": {
    "scrolled": true
   },
   "outputs": [],
   "source": [
    "lst[0][lst[0].FXETARIA == 0][lst[0][lst[0].FXETARIA == 0].ANO ==2010].iloc[0]['POPULACAO']"
   ]
  },
  {
   "cell_type": "code",
   "execution_count": null,
   "metadata": {
    "scrolled": false
   },
   "outputs": [],
   "source": [
    "for i in pop_female.FXETARIA.unique():\n",
    "    fxi = lst[0][lst[0].FXETARIA == i]\n",
    "    time = 0 #### esse programa ta melhor\n",
    "    population = fxi.POPULACAO[0] \n",
    "    pop = [population] \n",
    "    pop_final = fx1[fx1.ANO ==2010].iloc[0]['POPULACAO']\n",
    "    growth_rate = (pop_final/population)**(1/10) -1 #    \n",
    "    while population < 1000:\n",
    "        population = population + growth_rate * population\n",
    "        if population >= 1000 or population<100:\n",
    "            break\n",
    "        else:\n",
    "            print (population)\n",
    "            time = time + 1\n",
    "    pop.append(population)\n",
    "    plot(fxi.ANO,fxi.POPULACAO)"
   ]
  },
  {
   "cell_type": "code",
   "execution_count": null,
   "metadata": {},
   "outputs": [],
   "source": [
    "fx1"
   ]
  },
  {
   "cell_type": "code",
   "execution_count": null,
   "metadata": {},
   "outputs": [],
   "source": [
    "r = (193/275)**(1/10) -1\n"
   ]
  },
  {
   "cell_type": "code",
   "execution_count": null,
   "metadata": {},
   "outputs": [],
   "source": [
    "fx1 = lst[0][lst[0].FXETARIA == 0]\n",
    "#plot(fx1.ANO,fx1.POPULACAO, 'o')\n",
    "fx1"
   ]
  },
  {
   "cell_type": "code",
   "execution_count": null,
   "metadata": {
    "scrolled": true
   },
   "outputs": [],
   "source": [
    "time = 0 #### esse programa ta melhor\n",
    "population = 275 \n",
    "pop = [275] \n",
    "growth_rate = (193/275)**(1/10) -1 # \n",
    "while population < 1000:\n",
    "    population = population + growth_rate * population\n",
    "    if population >= 1000 or population<100:\n",
    "        break\n",
    "    else:\n",
    "        print (population)\n",
    "        time = time + 1\n",
    "    pop.append(population)"
   ]
  }
 ],
 "metadata": {
  "kernelspec": {
   "display_name": "Python 3",
   "language": "python",
   "name": "python3"
  },
  "language_info": {
   "codemirror_mode": {
    "name": "ipython",
    "version": 3
   },
   "file_extension": ".py",
   "mimetype": "text/x-python",
   "name": "python",
   "nbconvert_exporter": "python",
   "pygments_lexer": "ipython3",
   "version": "3.6.5"
  }
 },
 "nbformat": 4,
 "nbformat_minor": 2
}
